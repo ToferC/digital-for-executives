{
 "cells": [
  {
   "cell_type": "markdown",
   "metadata": {
    "colab_type": "text",
    "id": "t61c1ynXXXLo"
   },
   "source": [
    "![Image of Lego](https://cdn.instructables.com/F27/J5VD/J0IEG0W8/F27J5VDJ0IEG0W8.LARGE.jpg?auto=webp)\n",
    "# A gentle guide to digital for executives\n",
    "\n",
    "Welcome to an introduction to digital for executives. The idea behind this notebook is that by putting some basic programming into practice, you can learn a lot about how modern applications work and consequently, how the world and your business work."
   ]
  },
  {
   "cell_type": "markdown",
   "metadata": {
    "colab_type": "text",
    "id": "7xM-EI7uZ8G4"
   },
   "source": [
    "## Technology & digital are ubiquitous\n",
    "\n",
    "It's easy to see what technology does. It's around you and you use it hundreds of times each day. You drive your car, open your phone, check your texts and emails, take photographs, share them on social media, do your banking and video-call your family.\n",
    "\n",
    "Modern applications do all of this and more. They track and share data, conduct millions of mathematical operations in seconds and, more recently, can recognized patters in text, data and images - often better than people can.\n",
    "\n",
    "Regardless of your business, it is enabled and empowered through technology and digital. Put another way, digital is no longer a separate thing - it is part of our everyday world. If you don't understand digital, you don't understand how the world works. This means you don't understand what challenges will arise or what possible solutions might exist.\n",
    "\n",
    "This guide will help. We will start with how applications work."
   ]
  },
  {
   "cell_type": "markdown",
   "metadata": {
    "colab_type": "text",
    "id": "htGdU79WaI_z"
   },
   "source": [
    "## Book 1 - De-mystifying Applications & Code\n",
    "To most people, applications are like magic. It doesn't make sense to ask how they work, because the answer itself is mysterious and arcane. So we accept the fact that they just **do** work and go about our business.\n",
    "\n",
    "But applications **are** understandable. They are like a house made of lego: complicated, but made of very simple building blocks that are organized to make something greater than its parts.\n",
    "\n",
    "Over time, programming languages have become more and more like natural human language. This makes them easier to understand as well as being easier to learn."
   ]
  },
  {
   "cell_type": "markdown",
   "metadata": {
    "colab_type": "text",
    "id": "htGdU79WaI_z"
   },
   "source": [
    "## Objectives\n",
    "\n",
    "Today we will learn basic building blocks of code & applications using Python using a practical example.\n",
    "\n",
    "In this session, you will:\n",
    "\n",
    "* Use cutting-edge cloud-based learning tools\n",
    "* Learn foundational concepts in digital\n",
    "* Gain familiarity with how code works\n",
    "* Gain confidence to take the next steps in working in a digital way\n",
    "* Learn How simple building blocks fit together to make amazing things possible\n",
    "\n",
    "In the end, we hope that you will have a better understandingn of technology in general and be able to make better decisions when something comes to you for approval."
   ]
  },
  {
   "cell_type": "markdown",
   "metadata": {
    "colab_type": "text",
    "id": "LMyh9c-GbGQb"
   },
   "source": [
    "## Python\n",
    "\n",
    "We will be using a programming language named Python. It's named after Monty Python. One of the most popular and flexible programming languages and is the most used languages for data science. It's popular because it's easy to learn and understand.\n",
    "\n",
    "![Python comic by XKCD](https://imgs.xkcd.com/comics/python.png)"
   ]
  },
  {
   "cell_type": "markdown",
   "metadata": {
    "colab_type": "text",
    "id": "1vhoIDOicle5"
   },
   "source": [
    "Let's look at a piece of Python code:\n",
    "\n",
    "\n",
    "`\n",
    "if ate_breakfast == False:\n",
    "    print(\"You must be hungry.\")\n",
    "`\n",
    "\n"
   ]
  },
  {
   "cell_type": "markdown",
   "metadata": {
    "colab_type": "text",
    "id": "MImUrGjGcJEn"
   },
   "source": [
    "Even though you may never have seen any code before, you can probably figure out what this code will do if we run it. \n",
    "\n",
    "If someone or something didn't (\"False\") eat breakfast, the program will print \"You must be hungry.\" That's why people like Python."
   ]
  },
  {
   "cell_type": "markdown",
   "metadata": {
    "colab_type": "text",
    "id": "0zIFeBGQZ1je"
   },
   "source": [
    "\n",
    "**Important: The objective here isn't to memorize anything or to \"learn to code\". It's to put these building blocks of programming into practice. By doing so, we can see and expeience first-hand how programs work.**"
   ]
  },
  {
   "cell_type": "markdown",
   "metadata": {
    "colab_type": "text",
    "id": "MKzsWwegdgbQ"
   },
   "source": [
    "## Jupyter Notebook & Google Collaboratory\n",
    "\n",
    "### Jupyter Notebook\n",
    "The Web page you're looking is based off a technology called a [Jupyter Notebook](https://jupyter.org/). This lets you run a programming language like Python in a Web page. \n",
    "\n",
    "It's open source, which means that it's free to use and also that it's code is open for anyone to see. Because Jupyter was developed this way, a lot of people help to improve it and it's become one of the most important ways to teach, learn and experiment in data science.\n",
    "\n",
    "### Google Collaboratory\n",
    "[Colab](https://colab.research.google.com/notebooks/welcome.ipynb#recent=true) is developed by Google and hosts Jupyter Notebooks in the cloud in the same way that Google Docs hosts text documents.\n",
    "\n",
    "Together, these tools will let us share this notebook, work on it together and learn and experiment with Python from any computer or mobile device for free."
   ]
  },
  {
   "cell_type": "markdown",
   "metadata": {
    "colab_type": "text",
    "id": "vDanOUSBfoso"
   },
   "source": [
    "Jupyter uses **code cells**, like the one below to run Python scripts. The short script below computes a value, stores it in a variable, and prints the result:"
   ]
  },
  {
   "cell_type": "code",
   "execution_count": null,
   "metadata": {
    "colab": {
     "base_uri": "https://localhost:8080/",
     "height": 34
    },
    "colab_type": "code",
    "id": "uBgtn0zDbWkX",
    "outputId": "a63aaa62-2188-4bc5-8658-c5c007520bbf"
   },
   "outputs": [],
   "source": [
    "seconds_in_an_hour = 60 * 60\n",
    "seconds_in_an_hour"
   ]
  },
  {
   "cell_type": "markdown",
   "metadata": {
    "colab_type": "text",
    "id": "AwRyvN8CgQjR"
   },
   "source": [
    "To execute the code in the above cell, select it with a click and then either press the play button to the left of the code, or use the keyboard shortcut \"Command/Ctrl+Enter\".\n",
    "\n",
    "You may get a \"Warning: this notebook was not authorized by Google.\" That's okay. This is Google's lawyers covering their butt. We will explain each piece of code that we use here. Just acknowledge and continue."
   ]
  },
  {
   "cell_type": "markdown",
   "metadata": {
    "colab_type": "text",
    "id": "Kn4KuDYFhZSf"
   },
   "source": [
    "# Building blocks of code\n",
    "\n",
    "We are going to look at five key building blocks of applications:\n",
    "* **Variables** - storing and manipulating data\n",
    "* **Data Structures** - organizing data\n",
    "* **Conditionals** - controlling your application\n",
    "* **Loops** - simple repetition and automation\n",
    "* **Functions** - creating commands in code\n",
    "\n",
    "By combining these blocks in different ways, you can do amazing things."
   ]
  },
  {
   "cell_type": "markdown",
   "metadata": {},
   "source": [
    "### Our Case Study - An employee leave system\n",
    "\n",
    "![Employee Leave System](https://1938news.com/wp-content/uploads/2015/01/forcedvacay.jpg)\n",
    "\n",
    "To frame our learning session today, we are going to build out elements of our own application: an employee leave system. We will write code to:\n",
    "\n",
    "* Accept an employee directory (a dictionary of employee name and hours of leave remaining) as input\n",
    "* Report an employee's current leave balance\n",
    "* Accept an employee leave request, approving or refusing it based on the employee's leave balance and the hours requested\n",
    "* Add leave to an employee's leave bank\n",
    "\n",
    "**Ready? Let's go!**\n"
   ]
  },
  {
   "cell_type": "markdown",
   "metadata": {
    "colab_type": "text",
    "id": "Kn4KuDYFhZSf"
   },
   "source": [
    "## Lesson 1: Variables\n",
    "\n",
    "![Variables](https://miro.medium.com/max/618/1*AqcJ7yV0tnJkP016ltMoXg.png)\n",
    "\n",
    "A variable is how you define an object in Python and store it in memory. They are very easy to use: \"seconds_in_an_hour\", from the code cell above is a variable.\n",
    "\n",
    "We create a variable by naming it on the left, using an \"=\" in the middle and putting a value to the right.\n",
    "\n",
    "It looks like this: `variable_name = value`.\n",
    "\n",
    "Variable names can be any combination of letters and numbers, but can't have spaces or start with a number.\n",
    "\n",
    "Thats why Python writes variables in \"snake_case\".\n",
    "\n",
    "Let's create a variable called `supervisor`, assign in to your name and run the cell (click the Play button on hit CTRL+Enter).\n",
    "\n",
    "Make sure to put your name in quotations. This tells Python that your name is text, which Python calls a string."
   ]
  },
  {
   "cell_type": "code",
   "execution_count": null,
   "metadata": {
    "colab": {},
    "colab_type": "code",
    "id": "VYZNjMGNgoFs"
   },
   "outputs": [],
   "source": [
    "supervisor = \"Chris\""
   ]
  },
  {
   "cell_type": "markdown",
   "metadata": {
    "colab_type": "text",
    "id": "XgrjbHlUitin"
   },
   "source": [
    "Fantastic! You've just created your first variable. This is now stored in memory. Once it's been created, you can access the variable by typing it in a cell, like below. Run the cell to show your variable."
   ]
  },
  {
   "cell_type": "code",
   "execution_count": null,
   "metadata": {
    "colab": {
     "base_uri": "https://localhost:8080/",
     "height": 34
    },
    "colab_type": "code",
    "id": "XIaYGtFJjAcD",
    "outputId": "f61c3bf6-2f51-4d93-aa98-c675f0785df3"
   },
   "outputs": [],
   "source": [
    "supervisor"
   ]
  },
  {
   "cell_type": "markdown",
   "metadata": {
    "colab_type": "text",
    "id": "UK-PIhmekWPN"
   },
   "source": [
    "You can also change a variable after it's been created. Try changing name to your full name and then calling it again."
   ]
  },
  {
   "cell_type": "code",
   "execution_count": null,
   "metadata": {
    "colab": {
     "base_uri": "https://localhost:8080/",
     "height": 34
    },
    "colab_type": "code",
    "id": "pvs31GkAkWlh",
    "outputId": "2fcbad5d-de67-4373-9f9c-fe0ca8dc2c08"
   },
   "outputs": [],
   "source": [
    "supervisor = \"First Last\"\n",
    "supervisor"
   ]
  },
  {
   "cell_type": "markdown",
   "metadata": {
    "colab_type": "text",
    "id": "0N4qj09gjSkQ"
   },
   "source": [
    "Nice work! There are different kinds of variables too. We just used a string, but there are also:\n",
    "\n",
    "*   Integers (1, 2, 3, etc)\n",
    "*   Floats (1.2, 4.7, 3.14)\n",
    "*   Booleans (True, False)\n",
    "\n",
    "Python will automatically figure out what type of variable you are using when you create or modify it.\n",
    "\n",
    "\n"
   ]
  },
  {
   "cell_type": "code",
   "execution_count": null,
   "metadata": {
    "colab": {
     "base_uri": "https://localhost:8080/",
     "height": 34
    },
    "colab_type": "code",
    "id": "bFCW4qs_kpdx",
    "outputId": "90f66b98-84fd-4d6b-ca78-5090776d182d"
   },
   "outputs": [],
   "source": [
    "a = 7  # an integer\n",
    "b = 3.14  # a float\n",
    "c = True  # a boolean"
   ]
  },
  {
   "cell_type": "code",
   "execution_count": null,
   "metadata": {
    "colab": {
     "base_uri": "https://localhost:8080/",
     "height": 34
    },
    "colab_type": "code",
    "id": "IAR6uADZmgpF",
    "outputId": "99359e47-27f2-482b-ef4e-5e464a6e0f92"
   },
   "outputs": [],
   "source": [
    "a, b, c"
   ]
  },
  {
   "cell_type": "markdown",
   "metadata": {
    "colab_type": "text",
    "id": "hqVFpozOmoAg"
   },
   "source": [
    "You can also perform operations on variables of the same or comparable types. You can add, subtract, multiply, divide similar types of variables as well as do a lot more."
   ]
  },
  {
   "cell_type": "code",
   "execution_count": null,
   "metadata": {
    "colab": {
     "base_uri": "https://localhost:8080/",
     "height": 34
    },
    "colab_type": "code",
    "id": "SDaf2T1bmj7x",
    "outputId": "8c8900e8-6622-49bb-9f82-f765d2562e95"
   },
   "outputs": [],
   "source": [
    "a + b  #an integer and a float"
   ]
  },
  {
   "cell_type": "code",
   "execution_count": null,
   "metadata": {
    "colab": {
     "base_uri": "https://localhost:8080/",
     "height": 34
    },
    "colab_type": "code",
    "id": "GaUt0aivm5NW",
    "outputId": "f9592829-c91c-4197-ccd0-b5b9a7b90912"
   },
   "outputs": [],
   "source": [
    "a**b # \"**\" == to the power of"
   ]
  },
  {
   "cell_type": "markdown",
   "metadata": {
    "colab_type": "text",
    "id": "xmLA8qkxjS3w"
   },
   "source": [
    "Variables are important in programming because they are how we move data around and change things in an application. We will use variables a lot in the rest of the guide."
   ]
  },
  {
   "cell_type": "markdown",
   "metadata": {},
   "source": [
    "## Lesson 2: Data Structures\n",
    "\n",
    "![Data Structures](https://dbader.org/static/figures/fundamental-data-structures-in-python.png)\n",
    "\n",
    "Variables can be made even more useful by storing collections of values and data.\n",
    "\n",
    "There are two main types of data structures in Python, the:\n",
    "* `List` - data in sequence\n",
    "* `Dictionary` - data by keys\n",
    "\n",
    "They both let you store and access data, but they work differently.\n",
    "\n",
    "**Lists** let you store more than one value in a single variable. You create a list by wrapping your data in square brackets like this: `new_list = [1, 2, 3, 4, 5]`\n",
    "\n",
    "Lists are accessed sequentially. If you want the third value in our list, you access it by calling `new_list[2]`, which returns `3`. In Python, the first index of a list is 0. This is just one way that programmers are strange.\n",
    "\n",
    "Let's try creating a list.\n",
    "\n",
    "We start by declaring a variable \"people\" and then adding a list with multiple people."
   ]
  },
  {
   "cell_type": "code",
   "execution_count": null,
   "metadata": {
    "colab": {},
    "colab_type": "code",
    "id": "Xy1bBSNBoZqP"
   },
   "outputs": [],
   "source": [
    "team = [\"Tom\", \"Mandy\", \"Anna\", \"Kent\", \"Ashley\"]"
   ]
  },
  {
   "cell_type": "markdown",
   "metadata": {},
   "source": [
    "To access the values in our list, we call our list `team[x]`, where `x` is the index for that value."
   ]
  },
  {
   "cell_type": "code",
   "execution_count": null,
   "metadata": {},
   "outputs": [],
   "source": [
    "team[1]"
   ]
  },
  {
   "cell_type": "code",
   "execution_count": null,
   "metadata": {},
   "outputs": [],
   "source": [
    "team[4]"
   ]
  },
  {
   "cell_type": "markdown",
   "metadata": {},
   "source": [
    "Now try accessing `\"Anna\"` in the list, `people` in the cell below."
   ]
  },
  {
   "cell_type": "code",
   "execution_count": null,
   "metadata": {},
   "outputs": [],
   "source": []
  },
  {
   "cell_type": "markdown",
   "metadata": {},
   "source": [
    "You can also add elements to a list using the `append` function or remove elements using `del`."
   ]
  },
  {
   "cell_type": "code",
   "execution_count": null,
   "metadata": {},
   "outputs": [],
   "source": [
    "team.append(\"Carl\")\n",
    "team"
   ]
  },
  {
   "cell_type": "code",
   "execution_count": null,
   "metadata": {},
   "outputs": [],
   "source": [
    "del team[5]\n",
    "team"
   ]
  },
  {
   "cell_type": "markdown",
   "metadata": {},
   "source": [
    "**Dictionaries** also let you store more than one value in a variable, but they are acccessed by a key. If you want a value in a dictionary, you need to call its key.\n",
    "\n",
    "Dictionaries are wrapped in curley brackets, like this: `new_dict = {\"key_1\": 1, \"key_2\": 2, \"key_3\": 3}`.\n",
    "\n",
    "For each value in a dictionary there is a key: `\"key_1\"`, a \":\" and a value, `1`.\n",
    "\n",
    "To call a key you would write `new_dict[\"key_1\"]`, which returns `1`. Let's try this out by creating a variable called `leave_credits` that contains employee names as keys and leave credits as values."
   ]
  },
  {
   "cell_type": "code",
   "execution_count": null,
   "metadata": {},
   "outputs": [],
   "source": [
    "leave_credits = {\n",
    "    \"Tom\": 80, \n",
    "    \"Mandy\": 200, \n",
    "    \"Anna\": 21, \n",
    "    \"Kent\": 400, \n",
    "    \"Ashley\": 5}"
   ]
  },
  {
   "cell_type": "markdown",
   "metadata": {},
   "source": [
    "Now that we have our variable, we can get our employees leave credits by calling the key."
   ]
  },
  {
   "cell_type": "code",
   "execution_count": null,
   "metadata": {},
   "outputs": [],
   "source": [
    "leave_credits[\"Tom\"]"
   ]
  },
  {
   "cell_type": "markdown",
   "metadata": {},
   "source": [
    "You can also use dictionaries and lists to access values directly and do things with them. Below, we are adding together two numbers by calling the dictionary and the keys that we want."
   ]
  },
  {
   "cell_type": "code",
   "execution_count": null,
   "metadata": {},
   "outputs": [],
   "source": [
    "leave_credits[\"Mandy\"] + leave_credits[\"Tom\"]"
   ]
  },
  {
   "cell_type": "markdown",
   "metadata": {},
   "source": [
    "Now you try. Access the leave credits for `\"Ashley\"`."
   ]
  },
  {
   "cell_type": "code",
   "execution_count": null,
   "metadata": {},
   "outputs": [],
   "source": []
  },
  {
   "cell_type": "markdown",
   "metadata": {},
   "source": [
    "Fantastic. You've now used two data structures. Remember you can play and experiment in this notebook however you like. Here are a few blank cells. Try creating a new list or dictionary and accessing the values."
   ]
  },
  {
   "cell_type": "code",
   "execution_count": null,
   "metadata": {},
   "outputs": [],
   "source": []
  },
  {
   "cell_type": "code",
   "execution_count": null,
   "metadata": {},
   "outputs": [],
   "source": []
  },
  {
   "cell_type": "markdown",
   "metadata": {},
   "source": [
    "You can add data to a dictionary be declaring it like this: `dictionary[new_key] = new_data` or remove data using `del`."
   ]
  },
  {
   "cell_type": "code",
   "execution_count": null,
   "metadata": {},
   "outputs": [],
   "source": [
    "leave_credits[\"Carl\"] = 128\n",
    "leave_credits"
   ]
  },
  {
   "cell_type": "code",
   "execution_count": null,
   "metadata": {},
   "outputs": [],
   "source": [
    "del leave_credits[\"Carl\"]\n",
    "leave_credits"
   ]
  },
  {
   "cell_type": "markdown",
   "metadata": {
    "colab_type": "text",
    "id": "PpGtqz9KxpFU"
   },
   "source": [
    "## Lesson 3: Conditionals\n",
    "\n",
    "![If/Then](http://ifthenthemusical.s3.amazonaws.com/site/site-og.png)\n",
    "\n",
    "Conditionals are just a fancy way of seeing if something has happened or is `True` or `False`.  They use simple if/then logic. If something is true, then do something else. The first piece of Python we saw above was a conditional using the \"if\" statement. In Python, **then** is contracted to \"`:`\"\n",
    "\n",
    "`if ate_breakfast == False:\n",
    "    print(\"You must be hungry.\")`\n",
    "\n",
    "For our application, we will use an if statement to see if an employee has enough leave to take a week of vacation."
   ]
  },
  {
   "cell_type": "code",
   "execution_count": null,
   "metadata": {
    "colab": {
     "base_uri": "https://localhost:8080/",
     "height": 34
    },
    "colab_type": "code",
    "id": "7CsSwZH0yJHx",
    "outputId": "5cab5a52-2ac7-49dd-8f54-408cfc2968e3"
   },
   "outputs": [],
   "source": [
    "if leave_credits[\"Carl\"] >= 40:\n",
    "    print(\"Leave approved.\")"
   ]
  },
  {
   "cell_type": "markdown",
   "metadata": {
    "colab_type": "text",
    "id": "peSsjm15yUZe"
   },
   "source": [
    "If you ran this cell, you saw an error. Specifically, you saw a NameError. The error showed you where the problem was and gave you a helpful tip: \"`KeyError 'Carl'`\".\n",
    "\n",
    "This means that `Carl` doesn't exist in our dictionary. With no variable, Python can't check to see if Carl has leave credits or not, so we got an error.\n",
    "\n",
    "If you are writing code, you will see errors a LOT. Thankfully, modern programming tools are very good at helping you find out what is wrong.\n",
    "\n",
    "Let's fix our error now by assigning a variable."
   ]
  },
  {
   "cell_type": "code",
   "execution_count": null,
   "metadata": {
    "colab": {},
    "colab_type": "code",
    "id": "S4yXTeyryLX8"
   },
   "outputs": [],
   "source": [
    "leave_credits[\"Carl\"] = 79"
   ]
  },
  {
   "cell_type": "markdown",
   "metadata": {
    "colab_type": "text",
    "id": "3jLUeX2lxzrv"
   },
   "source": [
    "Now we'll run the if statement again."
   ]
  },
  {
   "cell_type": "code",
   "execution_count": null,
   "metadata": {
    "colab": {},
    "colab_type": "code",
    "id": "5wQV-fyNzAe0"
   },
   "outputs": [],
   "source": [
    "if leave_credits[\"Carl\"] >= 40:\n",
    "    print(\"Leave approved.\")"
   ]
  },
  {
   "cell_type": "markdown",
   "metadata": {
    "colab_type": "text",
    "id": "ehRLmFPGzGuu"
   },
   "source": [
    "If statements can also have alternatives, or \"else\" clauses. In this example, Carl wants to take 2 weeks of leave."
   ]
  },
  {
   "cell_type": "code",
   "execution_count": null,
   "metadata": {
    "colab": {
     "base_uri": "https://localhost:8080/",
     "height": 34
    },
    "colab_type": "code",
    "id": "PkahEL6azEuL",
    "outputId": "0fc99227-9592-487b-9f96-8fa3d03abc3e"
   },
   "outputs": [],
   "source": [
    "if leave_credits[\"Carl\"] >= 80:\n",
    "    print(\"Leave approved.\")\n",
    "else:\n",
    "    print(\"Not enough leave.\")"
   ]
  },
  {
   "cell_type": "markdown",
   "metadata": {
    "colab_type": "text",
    "id": "mCp63UXazkTZ"
   },
   "source": [
    "Conditionals let us guide and control our program and are part of their business logic. Common conditions would be to:\n",
    "\n",
    "* check if something has been approved\n",
    "* check to see if inventory is at a certain level\n",
    "* check to see if a person should have access to a piece of data\n",
    "\n",
    "They can also check for other conditions, like:\n",
    "\n",
    "* greater than >\n",
    "* less than <\n",
    "* equal to ==\n",
    "\n",
    "Conditionals return a value of True or False depending on their evaluation. Run the cells below to see how they evaluate."
   ]
  },
  {
   "cell_type": "code",
   "execution_count": null,
   "metadata": {
    "colab": {
     "base_uri": "https://localhost:8080/",
     "height": 34
    },
    "colab_type": "code",
    "id": "9NTdD4hd0MiI",
    "outputId": "0349dbcb-6935-423f-a7db-ee40fbee8b8c"
   },
   "outputs": [],
   "source": [
    "2 > 5"
   ]
  },
  {
   "cell_type": "code",
   "execution_count": null,
   "metadata": {
    "colab": {
     "base_uri": "https://localhost:8080/",
     "height": 34
    },
    "colab_type": "code",
    "id": "NXZyFaOT0Wa6",
    "outputId": "be78aa04-2e11-42a0-fead-793fb56328e0"
   },
   "outputs": [],
   "source": [
    "14 == 14"
   ]
  },
  {
   "cell_type": "code",
   "execution_count": null,
   "metadata": {
    "colab": {
     "base_uri": "https://localhost:8080/",
     "height": 34
    },
    "colab_type": "code",
    "id": "W9NVS-Q90XTa",
    "outputId": "22f95c20-c3e7-403a-ff49-2d7a8102bcda"
   },
   "outputs": [],
   "source": [
    "True == False"
   ]
  },
  {
   "cell_type": "markdown",
   "metadata": {},
   "source": [
    "Conditions are essential to any modern business application and complicated ones will have many layers of business logic."
   ]
  },
  {
   "cell_type": "markdown",
   "metadata": {
    "colab_type": "text",
    "id": "73ABOHa2nN3J"
   },
   "source": [
    "## Lesson 4: Loops\n",
    "\n",
    "![Loops](https://www.dataquest.io/wp-content/uploads/2019/05/python-for-loop-tutorial-1040x520.jpg)\n",
    "\n",
    "Loops are another very important building block for applications. Most of the time, when you are thinking about automating something, you're thinking of some sort of a loop.\n",
    "\n",
    "The simplest loop is the `for` loop, which repeats an action multiple times over a list of values. When it gets to the end of the list, it stops.\n",
    "\n",
    "In English, a loop would be: \"For every person on my team, show the hours worked on projects,\" or \"for every project underway, show the % complete and who is working on it.\"\n",
    "\n",
    "Here is an example of a loop in code:"
   ]
  },
  {
   "cell_type": "code",
   "execution_count": null,
   "metadata": {
    "colab": {
     "base_uri": "https://localhost:8080/",
     "height": 104
    },
    "colab_type": "code",
    "id": "dP7FaJ3boZzi",
    "outputId": "56ad86f4-597d-49f1-a5ea-35f5f5504e08"
   },
   "outputs": [],
   "source": [
    "for person in team:\n",
    "  print(person)"
   ]
  },
  {
   "cell_type": "markdown",
   "metadata": {
    "colab_type": "text",
    "id": "t2KaRHmGfF7_"
   },
   "source": [
    "Congratulations. You've just run your first automation in Python using the `people` list variable that you created above. Lists and dictionaries are perfect for loops! \n",
    "\n",
    "An important note is that the code:\n",
    "\n",
    "\n",
    "```\n",
    "for person in people:\n",
    "  print(person)\n",
    "```\n",
    "Works exactly the same if there are five people or 5 million people.\n"
   ]
  },
  {
   "cell_type": "markdown",
   "metadata": {
    "colab_type": "text",
    "id": "Z8R3VeJjorZ2"
   },
   "source": [
    "You can also create loops with numbers or ranges. The command `range(x,y)` creates a list that starts at `x` and ends at the number before `y`."
   ]
  },
  {
   "cell_type": "code",
   "execution_count": null,
   "metadata": {
    "colab": {
     "base_uri": "https://localhost:8080/",
     "height": 86
    },
    "colab_type": "code",
    "id": "t7Lg64yIpVca",
    "outputId": "e7b34f3e-53f9-47a7-b99b-6de3893e6e0e"
   },
   "outputs": [],
   "source": [
    "for i in range(1,5):\n",
    "  print(i*i)  # Multiplies the number by itself or squares the number"
   ]
  },
  {
   "cell_type": "markdown",
   "metadata": {
    "colab_type": "text",
    "id": "7FWK6FYnqSbD"
   },
   "source": [
    "By combining loops and variables, we can do computations very quickly."
   ]
  },
  {
   "cell_type": "code",
   "execution_count": null,
   "metadata": {
    "colab": {
     "base_uri": "https://localhost:8080/",
     "height": 34
    },
    "colab_type": "code",
    "id": "9eBQXCelqalW",
    "outputId": "ad331ade-9a2e-494e-c8d7-5241e826de0f"
   },
   "outputs": [],
   "source": [
    "total = 0  # our variable, which we will use to keep track of our total\n",
    "\n",
    "for i in range(1, 11):\n",
    "  total += i*i # += means \"add to\". ** means \"to the power of\"\n",
    "  \n",
    "print(\"The total of x squared for 1 to 10 is\", total)"
   ]
  },
  {
   "cell_type": "markdown",
   "metadata": {},
   "source": [
    "Remember that loops can work on lists and dictionaries as well, so once we have data we can conduct many operations very quickly."
   ]
  },
  {
   "cell_type": "code",
   "execution_count": null,
   "metadata": {},
   "outputs": [],
   "source": [
    "leave_total = 0\n",
    "\n",
    "for key, value in leave_credits.items():\n",
    "    print(key, value)\n",
    "    leave_total += value\n",
    "\n",
    "print(\"\\nTotal leave hours:\",leave_total)\n",
    "    "
   ]
  },
  {
   "cell_type": "markdown",
   "metadata": {
    "colab_type": "text",
    "id": "2OPt2y64hGWV"
   },
   "source": [
    "Loops let you act upon, modify or extract information from any range of data that you might have. Examples might be:\n",
    "*  users\n",
    "*  documents\n",
    "*  applications\n",
    "*  events"
   ]
  },
  {
   "cell_type": "markdown",
   "metadata": {
    "colab_type": "text",
    "id": "RYRkGPWLrqlm"
   },
   "source": [
    "## Lesson 5: Functions\n",
    "\n",
    "![Functions](https://www.tibco.com/blog/wp-content/uploads/2015/05/lego.jpg)\n",
    "\n",
    "Functions are the last major building block that we will look at. Look at where we type `print` above. You will see that print is followed by round brackets, like this: `print()`.\n",
    "\n",
    "Print, written `print(\"something\")` is a function. It prints out whatever is inside the brackets."
   ]
  },
  {
   "cell_type": "code",
   "execution_count": null,
   "metadata": {
    "colab": {
     "base_uri": "https://localhost:8080/",
     "height": 34
    },
    "colab_type": "code",
    "id": "-7DICQyVlJgG",
    "outputId": "476e710a-4528-45d4-c727-fbd4adda017b"
   },
   "outputs": [],
   "source": [
    "print(\"ADD_SOMETHING_HERE\")"
   ]
  },
  {
   "cell_type": "markdown",
   "metadata": {
    "colab_type": "text",
    "id": "6T6Nz7-ElYLy"
   },
   "source": [
    "You can create your own functions very easily. You just define your function by writing `def` which stands for define, giving it a name and specifying what it does.\n",
    "\n",
    "The simplest functions just do a single thing. Here is an example:"
   ]
  },
  {
   "cell_type": "code",
   "execution_count": null,
   "metadata": {
    "colab": {},
    "colab_type": "code",
    "id": "VHA8JJiZst8k"
   },
   "outputs": [],
   "source": [
    "def bark():\n",
    "  print(\"Woof!\")"
   ]
  },
  {
   "cell_type": "markdown",
   "metadata": {
    "colab_type": "text",
    "id": "oTtQDrR2tDIJ"
   },
   "source": [
    "Now you can call your function."
   ]
  },
  {
   "cell_type": "code",
   "execution_count": null,
   "metadata": {
    "colab": {
     "base_uri": "https://localhost:8080/",
     "height": 34
    },
    "colab_type": "code",
    "id": "T3m_6yUcs9i1",
    "outputId": "2457a608-0912-4d9d-bd1a-0d524b7a2d2f"
   },
   "outputs": [],
   "source": [
    "bark()"
   ]
  },
  {
   "cell_type": "markdown",
   "metadata": {
    "colab_type": "text",
    "id": "_1nDsBHBtKWX"
   },
   "source": [
    "More complicated functions accept variables and do something to them. Variables that are passed to functions always go inside the round brackets like this: \n",
    "\n",
    "`def my_function(variable):`"
   ]
  },
  {
   "cell_type": "code",
   "execution_count": null,
   "metadata": {
    "colab": {},
    "colab_type": "code",
    "id": "9jOKckKftJGf"
   },
   "outputs": [],
   "source": [
    "def say_hello(name):\n",
    "  print(\"Hello\", name)"
   ]
  },
  {
   "cell_type": "code",
   "execution_count": null,
   "metadata": {
    "colab": {
     "base_uri": "https://localhost:8080/",
     "height": 34
    },
    "colab_type": "code",
    "id": "LWgtWAEqtemr",
    "outputId": "b7308e82-3c68-4ae4-d69b-9273173202f6"
   },
   "outputs": [],
   "source": [
    "say_hello(supervisor)"
   ]
  },
  {
   "cell_type": "markdown",
   "metadata": {
    "colab_type": "text",
    "id": "rnaYgoS_orkN"
   },
   "source": [
    "You'll notice two things here. First, we put the variable inside the brackets when we called the function. Python was expecting a value that it calls some_name.\n",
    "\n",
    "Second, because we entered \"supervisor\", which was your variable from above, our say_hello function gave **you** a warm welcome.\n",
    "\n",
    "You can send more than one variable to a function by separating them with commas, like this: \n",
    "\n",
    "`function_two(var_1, var_2):`"
   ]
  },
  {
   "cell_type": "markdown",
   "metadata": {
    "colab_type": "text",
    "id": "NHcbz-e1ur-0"
   },
   "source": [
    "## Lesson 6: Putting it together\n",
    "\n",
    "![Lego House](http://4.bp.blogspot.com/-eHlcNN6L-Ag/UWHaKgfhHsI/AAAAAAAAAXg/tTe6Ar56pMQ/s1600/4.jpg)\n",
    "\n",
    "Functions are like lego. They can build on top of each other. In fact, you can call functions from inside other functions.\n",
    "\n",
    "This is the secret to how applications work. They have a lot of very simple parts that are combined together like lego blocks. By defining variables and data structures, using conditionals, placing loops and calling functions, these simple blocks combine to do amazing things.\n",
    "\n",
    "Here is an example that uses everything that we've learned, variables, data structues, conditionals, loops and functions.\n",
    "\n",
    "The script below will:\n",
    "\n",
    "* Accept a name and a hypothetical leave request\n",
    "* Check the person's current leave credits\n",
    "* See if they have sufficient leave credits for the request to be approved\n",
    "* Approve the request and modify their leave credits if they have enough credits\n",
    "* Deny the request if they don't\n",
    "* Print the results and the employee's current leave credits"
   ]
  },
  {
   "cell_type": "code",
   "execution_count": null,
   "metadata": {},
   "outputs": [],
   "source": [
    "def leave_request(person, hours_requested):\n",
    "    # function that reviews leave requests for a person\n",
    "    \n",
    "    print(\"*** Leave request for\", person, \":\", hours_requested, \"hours\"\"***\")\n",
    "    print(\"Supervisor:\", supervisor)\n",
    "    \n",
    "    leave_balance = leave_credits[person]\n",
    "        \n",
    "    if leave_balance >= hours_requested:\n",
    "        leave_credits[person] = leave_balance - hours_requested\n",
    "        print(\"-- Approved: new balance:\", leave_credits[person], \"hours\\n\")\n",
    "    else:\n",
    "        print(\"-- Denied: Does not have enough leave. Sorry. Current balance is\", leave_credits[person], \"hours\\n\")\n",
    "    \n",
    "    print(\"-----------------------------\")"
   ]
  },
  {
   "cell_type": "markdown",
   "metadata": {},
   "source": [
    "Now that we've created our function, we can call it in the cell below."
   ]
  },
  {
   "cell_type": "code",
   "execution_count": null,
   "metadata": {},
   "outputs": [],
   "source": [
    "leave_request(\"Anna\", 20)"
   ]
  },
  {
   "cell_type": "markdown",
   "metadata": {},
   "source": [
    "Now that we have our function, we can use it again and again. Let's create a loop and submit leave requests for our whole team! Hypothetically, let's say that everyone wants to take 40 hours of leave."
   ]
  },
  {
   "cell_type": "code",
   "execution_count": null,
   "metadata": {},
   "outputs": [],
   "source": [
    "for person in team:\n",
    "    leave_request(person, 40)"
   ]
  },
  {
   "cell_type": "markdown",
   "metadata": {},
   "source": [
    "What do you think will happen if you run it again?"
   ]
  },
  {
   "cell_type": "code",
   "execution_count": null,
   "metadata": {},
   "outputs": [],
   "source": [
    "for person in team:\n",
    "    review_leave(person, 40)"
   ]
  },
  {
   "cell_type": "markdown",
   "metadata": {},
   "source": [
    "Because we are tracking leave in our `leave_credits` dictionary, we keep updating our results and the overall `leave_credits` goes down with each request."
   ]
  },
  {
   "cell_type": "markdown",
   "metadata": {},
   "source": [
    "Let's look after our people and grant them additional leave before we exit this notebook. "
   ]
  },
  {
   "cell_type": "markdown",
   "metadata": {},
   "source": [
    "First, we'll make a new function `add_leave`."
   ]
  },
  {
   "cell_type": "code",
   "execution_count": null,
   "metadata": {},
   "outputs": [],
   "source": [
    "def add_leave(person, hours):\n",
    "    leave_credits[person] += hours"
   ]
  },
  {
   "cell_type": "code",
   "execution_count": null,
   "metadata": {},
   "outputs": [],
   "source": [
    "for person in team:\n",
    "    add_leave(person, 100)\n",
    "    print(person, leave_credits[person], \"hours leave\")"
   ]
  },
  {
   "cell_type": "markdown",
   "metadata": {
    "colab_type": "text",
    "id": "bDGTVV6xwRIt"
   },
   "source": [
    "Using functions like this one, you can sort 100,000 documents in a few seconds, automatically generate graph plots, search for words in a text or run advanced statistical analysis on your organizations data."
   ]
  },
  {
   "cell_type": "markdown",
   "metadata": {},
   "source": [
    "### Finishing up\n",
    "\n",
    "![High five](https://img.freepik.com/free-vector/high-five-hand_52422-25.jpg?size=338&ext=jpg)\n",
    "\n",
    "### Congratulations on completing your first session on digital in Python."
   ]
  },
  {
   "cell_type": "markdown",
   "metadata": {},
   "source": [
    "**We'd very much appreciate if you filled out a quick feedback form. It should only take one minute.**\n",
    "\n",
    "### [Feedback Form](https://forms.gle/8iw4RNz6p4EAfyMq5)"
   ]
  },
  {
   "cell_type": "markdown",
   "metadata": {
    "colab": {},
    "colab_type": "code",
    "id": "vucZgwhmNylQ"
   },
   "source": [
    "## Going home\n",
    "\n",
    "First, thanks again for joining us.\n",
    "\n",
    "As you return to your teams and organizations, you may want to ask a few of the following questions:\n",
    "\n",
    "* What data are we collecting?\n",
    "* How is this data contributing to our decision making?\n",
    "* What are our business processes and logic?\n",
    "* How would we translate these as code?\n",
    "* What work are we doing that could be automated?\n",
    "* Do any of my people have skills in scripting or programming that we could use to better meet our objectives?\n",
    "* Are any of my people interested in learning?\n",
    "* What are my next steps in modernizing my business?"
   ]
  },
  {
   "cell_type": "markdown",
   "metadata": {
    "colab_type": "text",
    "id": "7rrVbcwXw_Av"
   },
   "source": [
    "Understanding how applications function is very powerful and could change the way that you and your teams work.\n",
    "\n",
    "But there is something even more powerful about a programming language like Python. It is open source.\n",
    "\n",
    "We will cover what open source is, how it is transforming the digital world and show just what it can do in the next notebook session."
   ]
  },
  {
   "cell_type": "markdown",
   "metadata": {},
   "source": [
    "## Learning more\n",
    "\n",
    "If you're interested in learning more, [CodeAcademy](https://www.codecademy.com/) is a great choice.\n",
    "\n",
    "We will also be offering \"Gentle Guides\" to accessing and using data, Interoperability and how applications can work together and machine learning.\n",
    "\n",
    "## Thank you again and happy learning."
   ]
  },
  {
   "cell_type": "code",
   "execution_count": null,
   "metadata": {},
   "outputs": [],
   "source": []
  }
 ],
 "metadata": {
  "colab": {
   "collapsed_sections": [],
   "name": "A gentle guide to digital for executives",
   "provenance": [],
   "version": "0.3.2"
  },
  "kernelspec": {
   "display_name": "Python 3",
   "language": "python",
   "name": "python3"
  },
  "language_info": {
   "codemirror_mode": {
    "name": "ipython",
    "version": 3
   },
   "file_extension": ".py",
   "mimetype": "text/x-python",
   "name": "python",
   "nbconvert_exporter": "python",
   "pygments_lexer": "ipython3",
   "version": "3.7.3"
  }
 },
 "nbformat": 4,
 "nbformat_minor": 2
}
