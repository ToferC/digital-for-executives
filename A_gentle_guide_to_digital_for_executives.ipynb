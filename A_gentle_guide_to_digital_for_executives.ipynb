{
 "cells": [
  {
   "cell_type": "markdown",
   "metadata": {
    "colab_type": "text",
    "id": "t61c1ynXXXLo"
   },
   "source": [
    "# A gentle guide to digital for executives\n",
    "\n",
    "Welcome to an introduction to digital for executives. The idea behind this notebook is that by putting some basic programming into practice, you can learn a lot about how modern applications work and consequently, how the world and your business work."
   ]
  },
  {
   "cell_type": "markdown",
   "metadata": {
    "colab_type": "text",
    "id": "7xM-EI7uZ8G4"
   },
   "source": [
    "## Technology & digital are ubiquitous\n",
    "It's easy to see what technology does. It's around you and you use it hundreds of times each day. You drive your car, open your phone, check your texts and emails, take photographs, share them on social media, do your banking and video-call your family.\n",
    "\n",
    "Modern applications do all of this and more. They track and share data, conduct millions of mathematical operations in seconds and, more recently, can recognized patters in text, data and images - often better than people can.\n",
    "\n",
    "Regardless of your business, it is enabled and empowered through technology and digital. Put another way, digital is no longer a separate thing - it is part of our everyday world. If you don't understand digital, you don't understand how the world works, what challenges will arise or what possible solutions might exist.\n",
    "\n",
    "This guide will help. We will start with how applications work."
   ]
  },
  {
   "cell_type": "markdown",
   "metadata": {
    "colab_type": "text",
    "id": "htGdU79WaI_z"
   },
   "source": [
    "## Applications & Code\n",
    "To most people, applications are like magic. It doesn't make sense to ask how they work, because the answer itself is mysterious and arcane. So we accept the fact that they just **do** work and go about our business.\n",
    "\n",
    "But applications **are** understandable. They are like a house made of lego: complicated, but made of very simple building blocks that are organized to make something greater than its parts.\n",
    "\n",
    "Over time, programming languages have become more and more like natural human language. This makes them easier to understand as well as being easier to learn."
   ]
  },
  {
   "cell_type": "markdown",
   "metadata": {
    "colab_type": "text",
    "id": "LMyh9c-GbGQb"
   },
   "source": [
    "## Python\n",
    "We will be using a programming language named Python. It's named after Monty Python. One of the most popular and flexible programming languages and is the most used languages for data science. It's popular because it's easy to learn and understand."
   ]
  },
  {
   "cell_type": "markdown",
   "metadata": {
    "colab_type": "text",
    "id": "1vhoIDOicle5"
   },
   "source": [
    "Let's look at a piece of Python code:\n",
    "\n",
    "\n",
    "`\n",
    "if ate_breakfast == False:\n",
    "    print(\"You must be hungry.\")\n",
    "`\n",
    "\n"
   ]
  },
  {
   "cell_type": "markdown",
   "metadata": {
    "colab_type": "text",
    "id": "MImUrGjGcJEn"
   },
   "source": [
    "Even though you may never have seen any code before, you can probably figure out what this code will do if we run it. That's why people like Python."
   ]
  },
  {
   "cell_type": "markdown",
   "metadata": {
    "colab_type": "text",
    "id": "0zIFeBGQZ1je"
   },
   "source": [
    "\n",
    "The objective here isn't to memorize anything or to \"learn to code\". It's to put these building blocks of programming into practice. By doing so, you'll see and expeience first-hand how programs work."
   ]
  },
  {
   "cell_type": "markdown",
   "metadata": {
    "colab_type": "text",
    "id": "MKzsWwegdgbQ"
   },
   "source": [
    "## Jupyter Notebook & Google Collaboratory\n",
    "\n",
    "### Jupyter Notebook\n",
    "The Web page you're looking is based off a technology called a Jupyter Notebook. This lets you run a programming language like Python in a Web page. \n",
    "\n",
    "It's open source, which means that it's free to use and also that it's code is open for anyone to see. Because Jupyter was developed this way, a lot of people help to improve it and it's become one of the most important ways to teach, learn and experiment in data science.\n",
    "\n",
    "### Google Collaboratory\n",
    "Colab is developed by Google and hosts Jupyter Notebooks in the cloud in the same way that Google Docs hosts text documents.\n",
    "\n",
    "Together, these tools will let us share this notebook, work on it together and learn and experiment with Python from any computer or mobile device for free."
   ]
  },
  {
   "cell_type": "markdown",
   "metadata": {
    "colab_type": "text",
    "id": "vDanOUSBfoso"
   },
   "source": [
    "Jupyter uses **code cells**, like the one below to run Python scripts. The short script below computes a value, stores it in a variable, and prints the result:"
   ]
  },
  {
   "cell_type": "code",
   "execution_count": null,
   "metadata": {
    "colab": {
     "base_uri": "https://localhost:8080/",
     "height": 34
    },
    "colab_type": "code",
    "id": "uBgtn0zDbWkX",
    "outputId": "a63aaa62-2188-4bc5-8658-c5c007520bbf"
   },
   "outputs": [
    {
     "data": {
      "text/plain": [
       "3600"
      ]
     },
     "execution_count": 4,
     "metadata": {
      "tags": []
     },
     "output_type": "execute_result"
    }
   ],
   "source": [
    "seconds_in_an_hour = 60 * 60\n",
    "seconds_in_an_hour"
   ]
  },
  {
   "cell_type": "markdown",
   "metadata": {
    "colab_type": "text",
    "id": "AwRyvN8CgQjR"
   },
   "source": [
    "To execute the code in the above cell, select it with a click and then either press the play button to the left of the code, or use the keyboard shortcut \"Command/Ctrl+Enter\".\n",
    "\n",
    "You may get a \"Warning: this notebook was not authorized by Google.\" That's okay. Just acknowledge and continue."
   ]
  },
  {
   "cell_type": "markdown",
   "metadata": {
    "colab_type": "text",
    "id": "Kn4KuDYFhZSf"
   },
   "source": [
    "# Building blocks of code\n",
    "\n",
    "We are going to look at three key building blocks of applications:\n",
    "* Variables - storing and manipulating data\n",
    "* Data Structures - organizing data\n",
    "* Conditionals - controlling your application\n",
    "* Loops - simple repetition and automation\n",
    "* Functions - creating commands in code\n",
    "\n",
    "By combining these blocks in different ways, you can do amazing things."
   ]
  },
  {
   "cell_type": "markdown",
   "metadata": {
    "colab_type": "text",
    "id": "Kn4KuDYFhZSf"
   },
   "source": [
    "## Variables\n",
    "A variable is how you define an object in Python and store it in memory. They are very easy to use. \"seconds_in_an_hour\", above is a variable.\n",
    "\n",
    "We create a variable by naming it on the left, using an \"=\" in the middle and putting a value to the right.\n",
    "\n",
    "Variable names can be any combination of letters and numbers, but can't have spaces or start with a number.\n",
    "\n",
    "Thats why Python writes variables in \"snake_case\".\n",
    "\n",
    "Let's create a variable called my_name, assign in to your name and run the cell (click the Play button on hit CTL+Enter).\n",
    "\n",
    "Make sure to put your name in quotations. This tells Python that your name is text, which Python calls a string."
   ]
  },
  {
   "cell_type": "code",
   "execution_count": null,
   "metadata": {
    "colab": {},
    "colab_type": "code",
    "id": "VYZNjMGNgoFs"
   },
   "outputs": [],
   "source": [
    "my_name = \"Chris\""
   ]
  },
  {
   "cell_type": "markdown",
   "metadata": {
    "colab_type": "text",
    "id": "XgrjbHlUitin"
   },
   "source": [
    "Fantastic! You've just created your first variable. This is now stored in memory. Once it's been created, you can access the variable by typing it in a cell, like below. Run the cell to show your variable."
   ]
  },
  {
   "cell_type": "code",
   "execution_count": null,
   "metadata": {
    "colab": {
     "base_uri": "https://localhost:8080/",
     "height": 34
    },
    "colab_type": "code",
    "id": "XIaYGtFJjAcD",
    "outputId": "f61c3bf6-2f51-4d93-aa98-c675f0785df3"
   },
   "outputs": [
    {
     "data": {
      "text/plain": [
       "'Chris'"
      ]
     },
     "execution_count": 7,
     "metadata": {
      "tags": []
     },
     "output_type": "execute_result"
    }
   ],
   "source": [
    "my_name"
   ]
  },
  {
   "cell_type": "markdown",
   "metadata": {
    "colab_type": "text",
    "id": "UK-PIhmekWPN"
   },
   "source": [
    "You can also change a variable after it's been created. Try changing name to your full name and then calling it again."
   ]
  },
  {
   "cell_type": "code",
   "execution_count": null,
   "metadata": {
    "colab": {
     "base_uri": "https://localhost:8080/",
     "height": 34
    },
    "colab_type": "code",
    "id": "pvs31GkAkWlh",
    "outputId": "2fcbad5d-de67-4373-9f9c-fe0ca8dc2c08"
   },
   "outputs": [
    {
     "data": {
      "text/plain": [
       "'First Last'"
      ]
     },
     "execution_count": 9,
     "metadata": {
      "tags": []
     },
     "output_type": "execute_result"
    }
   ],
   "source": [
    "my_name = \"First Last\"\n",
    "my_name"
   ]
  },
  {
   "cell_type": "markdown",
   "metadata": {
    "colab_type": "text",
    "id": "0N4qj09gjSkQ"
   },
   "source": [
    "Nice work! There are different kinds of variables too. We just used a string, but there are also:\n",
    "\n",
    "*   Integers (1, 2, 3, etc)\n",
    "*   Floats (1.2, 4.7, 3.14)\n",
    "*   Booleans (True, False)\n",
    "\n",
    "Python will automatically figure out what type of variable you are using when you create or modify it.\n",
    "\n",
    "\n"
   ]
  },
  {
   "cell_type": "code",
   "execution_count": null,
   "metadata": {
    "colab": {
     "base_uri": "https://localhost:8080/",
     "height": 34
    },
    "colab_type": "code",
    "id": "bFCW4qs_kpdx",
    "outputId": "90f66b98-84fd-4d6b-ca78-5090776d182d"
   },
   "outputs": [
    {
     "data": {
      "text/plain": [
       "10.14"
      ]
     },
     "execution_count": 11,
     "metadata": {
      "tags": []
     },
     "output_type": "execute_result"
    }
   ],
   "source": [
    "a = 7\n",
    "b = 3.14\n",
    "c = True"
   ]
  },
  {
   "cell_type": "code",
   "execution_count": null,
   "metadata": {
    "colab": {
     "base_uri": "https://localhost:8080/",
     "height": 34
    },
    "colab_type": "code",
    "id": "IAR6uADZmgpF",
    "outputId": "99359e47-27f2-482b-ef4e-5e464a6e0f92"
   },
   "outputs": [
    {
     "data": {
      "text/plain": [
       "(7, 3.14, True)"
      ]
     },
     "execution_count": 12,
     "metadata": {
      "tags": []
     },
     "output_type": "execute_result"
    }
   ],
   "source": [
    "a, b, c"
   ]
  },
  {
   "cell_type": "markdown",
   "metadata": {
    "colab_type": "text",
    "id": "hqVFpozOmoAg"
   },
   "source": [
    "You can also perform operations on variables of the same or comparable types. You can add, subtract, multiply, divide are more."
   ]
  },
  {
   "cell_type": "code",
   "execution_count": null,
   "metadata": {
    "colab": {
     "base_uri": "https://localhost:8080/",
     "height": 34
    },
    "colab_type": "code",
    "id": "SDaf2T1bmj7x",
    "outputId": "8c8900e8-6622-49bb-9f82-f765d2562e95"
   },
   "outputs": [
    {
     "data": {
      "text/plain": [
       "10.14"
      ]
     },
     "execution_count": 13,
     "metadata": {
      "tags": []
     },
     "output_type": "execute_result"
    }
   ],
   "source": [
    "a + b"
   ]
  },
  {
   "cell_type": "code",
   "execution_count": null,
   "metadata": {
    "colab": {
     "base_uri": "https://localhost:8080/",
     "height": 34
    },
    "colab_type": "code",
    "id": "GaUt0aivm5NW",
    "outputId": "f9592829-c91c-4197-ccd0-b5b9a7b90912"
   },
   "outputs": [
    {
     "data": {
      "text/plain": [
       "450.4098148671133"
      ]
     },
     "execution_count": 17,
     "metadata": {
      "tags": []
     },
     "output_type": "execute_result"
    }
   ],
   "source": [
    "a**b # to the power of"
   ]
  },
  {
   "cell_type": "markdown",
   "metadata": {
    "colab_type": "text",
    "id": "xmLA8qkxjS3w"
   },
   "source": [
    "Variables are important in programming because they are how we move data around and change things in an application. We will use variables a lot in the rest of the guide."
   ]
  },
  {
   "cell_type": "markdown",
   "metadata": {},
   "source": [
    "## Data Structures\n",
    "Variables can be made even more useful by storing collections of values and data.\n",
    "\n",
    "There are two main data structures in Python:\n",
    "* List - data in sequence\n",
    "* Dictionary - data by keys\n",
    "\n",
    "They both let you store and access data, but they work differently.\n",
    "\n",
    "Here is a list: `new_list = [1, 2, 3, 4, 5]`\n",
    "\n",
    "**Lists** are accessed sequentially. If you want the third value in our list, you access it by calling `new_list[2]`, which returns `3`. In Python, the first index of a list is 0.\n",
    "\n",
    "Let's try this out.\n",
    "\n",
    "We start by declaring a variable \"people\". This variable a list. Lists let you store more than one value in a single variable."
   ]
  },
  {
   "cell_type": "code",
   "execution_count": 1,
   "metadata": {
    "colab": {},
    "colab_type": "code",
    "id": "Xy1bBSNBoZqP"
   },
   "outputs": [],
   "source": [
    "people = [\"Tom\", \"Mandy\", \"Anna\", \"Kent\", \"Ashley\"]"
   ]
  },
  {
   "cell_type": "markdown",
   "metadata": {},
   "source": [
    "To access the values in our list, we call our list `people[x]`, where `x` is the index for that value."
   ]
  },
  {
   "cell_type": "code",
   "execution_count": 2,
   "metadata": {},
   "outputs": [
    {
     "data": {
      "text/plain": [
       "'Mandy'"
      ]
     },
     "execution_count": 2,
     "metadata": {},
     "output_type": "execute_result"
    }
   ],
   "source": [
    "people[1]"
   ]
  },
  {
   "cell_type": "code",
   "execution_count": 6,
   "metadata": {},
   "outputs": [
    {
     "data": {
      "text/plain": [
       "'Ashley'"
      ]
     },
     "execution_count": 6,
     "metadata": {},
     "output_type": "execute_result"
    }
   ],
   "source": [
    "people[4]"
   ]
  },
  {
   "cell_type": "markdown",
   "metadata": {},
   "source": [
    "Now try accessing `\"Anna\"` in the list, `people'."
   ]
  },
  {
   "cell_type": "code",
   "execution_count": null,
   "metadata": {},
   "outputs": [],
   "source": []
  },
  {
   "cell_type": "markdown",
   "metadata": {},
   "source": [
    "**Dictionaries** are acccessed by key. If you want a value in a dictionary, you need to call its key.\n",
    "\n",
    "Here is a dictionary: `new_dict = {\"key_1\": 1, \"key_2\": 2, \"key_3\": 3}`\n",
    "\n",
    "To call a key you would write `new_dict[\"key_1\"]`, which returns `1`. Let's try this too."
   ]
  },
  {
   "cell_type": "code",
   "execution_count": 9,
   "metadata": {},
   "outputs": [],
   "source": [
    "building_occupancy = {\"373 Sussex\": 400, \"300 Laurier\": 1000, \"Train Yards\": 500, \"Place du Portage\": 15000}"
   ]
  },
  {
   "cell_type": "code",
   "execution_count": 10,
   "metadata": {},
   "outputs": [
    {
     "data": {
      "text/plain": [
       "1000"
      ]
     },
     "execution_count": 10,
     "metadata": {},
     "output_type": "execute_result"
    }
   ],
   "source": [
    "building_occupancy[\"300 Laurier\"]"
   ]
  },
  {
   "cell_type": "markdown",
   "metadata": {},
   "source": [
    "You can also use dictionaries and lists to access values directly."
   ]
  },
  {
   "cell_type": "code",
   "execution_count": 11,
   "metadata": {},
   "outputs": [
    {
     "data": {
      "text/plain": [
       "15500"
      ]
     },
     "execution_count": 11,
     "metadata": {},
     "output_type": "execute_result"
    }
   ],
   "source": [
    "building_occupancy[\"Train Yards\"] + building_occupancy[\"Place du Portage\"]"
   ]
  },
  {
   "cell_type": "markdown",
   "metadata": {},
   "source": [
    "Access the value for `\"300 Laurier\"`."
   ]
  },
  {
   "cell_type": "code",
   "execution_count": null,
   "metadata": {},
   "outputs": [],
   "source": []
  },
  {
   "cell_type": "markdown",
   "metadata": {},
   "source": [
    "Fantastic. You've now used two data structures. Remember you can play and experiment in this notebook however you like. Here are a few blank cells. Try creating a new list or dictionary and accessing the values."
   ]
  },
  {
   "cell_type": "code",
   "execution_count": null,
   "metadata": {},
   "outputs": [],
   "source": []
  },
  {
   "cell_type": "code",
   "execution_count": null,
   "metadata": {},
   "outputs": [],
   "source": []
  },
  {
   "cell_type": "markdown",
   "metadata": {
    "colab_type": "text",
    "id": "PpGtqz9KxpFU"
   },
   "source": [
    "## Conditionals\n",
    "Conditionals are just a fancy way of seeing if something has happened or is true or false.  The first piece of Python we saw above was a conditional using the \"if\" statement.\n",
    "\n",
    "Here it is again:"
   ]
  },
  {
   "cell_type": "code",
   "execution_count": null,
   "metadata": {
    "colab": {
     "base_uri": "https://localhost:8080/",
     "height": 34
    },
    "colab_type": "code",
    "id": "7CsSwZH0yJHx",
    "outputId": "5cab5a52-2ac7-49dd-8f54-408cfc2968e3"
   },
   "outputs": [
    {
     "name": "stdout",
     "output_type": "stream",
     "text": [
      "You must be hungry.\n"
     ]
    }
   ],
   "source": [
    "if ate_breakfast == False:\n",
    "    print(\"You must be hungry.\")"
   ]
  },
  {
   "cell_type": "markdown",
   "metadata": {
    "colab_type": "text",
    "id": "peSsjm15yUZe"
   },
   "source": [
    "If you ran this cell, you saw an error. Specifically, you saw a NameError. The error showed you where the problem was and gave you a helpful tip: \"name 'ate_breakfast'\" is not defined.\n",
    "\n",
    "This means that we forgot to create our variable. With no variable, Python can't check to see if ate_breakfast is True or not, so we got an error.\n",
    "\n",
    "If you are writing code, you will see errors a LOT. Thankfully, modern programming tools are very good at helping you find out what is wrong.\n",
    "\n",
    "Let's fix our error now by assigning a variable."
   ]
  },
  {
   "cell_type": "code",
   "execution_count": null,
   "metadata": {
    "colab": {},
    "colab_type": "code",
    "id": "S4yXTeyryLX8"
   },
   "outputs": [],
   "source": [
    "ate_breakfast = True"
   ]
  },
  {
   "cell_type": "markdown",
   "metadata": {
    "colab_type": "text",
    "id": "3jLUeX2lxzrv"
   },
   "source": [
    "Now we'll run the if statement again."
   ]
  },
  {
   "cell_type": "code",
   "execution_count": null,
   "metadata": {
    "colab": {},
    "colab_type": "code",
    "id": "5wQV-fyNzAe0"
   },
   "outputs": [],
   "source": [
    "if ate_breakfast == False:\n",
    "    print(\"You must be hungry.\")"
   ]
  },
  {
   "cell_type": "markdown",
   "metadata": {
    "colab_type": "text",
    "id": "ehRLmFPGzGuu"
   },
   "source": [
    "If statements can also have alternatives, or \"else\" clauses."
   ]
  },
  {
   "cell_type": "code",
   "execution_count": null,
   "metadata": {
    "colab": {
     "base_uri": "https://localhost:8080/",
     "height": 34
    },
    "colab_type": "code",
    "id": "PkahEL6azEuL",
    "outputId": "0fc99227-9592-487b-9f96-8fa3d03abc3e"
   },
   "outputs": [
    {
     "name": "stdout",
     "output_type": "stream",
     "text": [
      "Nom nom\n"
     ]
    }
   ],
   "source": [
    "if ate_breakfast == False:\n",
    "    print(\"You must be hungry.\")\n",
    "else:\n",
    "    print(\"Nom nom\")"
   ]
  },
  {
   "cell_type": "markdown",
   "metadata": {
    "colab_type": "text",
    "id": "mCp63UXazkTZ"
   },
   "source": [
    "Conditionals let us guide and control our program. They can also check for other conditions, like:\n",
    "\n",
    "* greater than >\n",
    "* less than <\n",
    "* equal to ==\n",
    "\n",
    "Conditionals return a value of True or False depending on their evaluation. Run the cells below to see how they evaluate."
   ]
  },
  {
   "cell_type": "code",
   "execution_count": null,
   "metadata": {
    "colab": {
     "base_uri": "https://localhost:8080/",
     "height": 34
    },
    "colab_type": "code",
    "id": "9NTdD4hd0MiI",
    "outputId": "0349dbcb-6935-423f-a7db-ee40fbee8b8c"
   },
   "outputs": [
    {
     "data": {
      "text/plain": [
       "False"
      ]
     },
     "execution_count": 51,
     "metadata": {
      "tags": []
     },
     "output_type": "execute_result"
    }
   ],
   "source": [
    "2 > 5"
   ]
  },
  {
   "cell_type": "code",
   "execution_count": null,
   "metadata": {
    "colab": {
     "base_uri": "https://localhost:8080/",
     "height": 34
    },
    "colab_type": "code",
    "id": "NXZyFaOT0Wa6",
    "outputId": "be78aa04-2e11-42a0-fead-793fb56328e0"
   },
   "outputs": [
    {
     "data": {
      "text/plain": [
       "True"
      ]
     },
     "execution_count": 52,
     "metadata": {
      "tags": []
     },
     "output_type": "execute_result"
    }
   ],
   "source": [
    "14 == 14"
   ]
  },
  {
   "cell_type": "code",
   "execution_count": null,
   "metadata": {
    "colab": {
     "base_uri": "https://localhost:8080/",
     "height": 34
    },
    "colab_type": "code",
    "id": "W9NVS-Q90XTa",
    "outputId": "22f95c20-c3e7-403a-ff49-2d7a8102bcda"
   },
   "outputs": [
    {
     "data": {
      "text/plain": [
       "False"
      ]
     },
     "execution_count": 53,
     "metadata": {
      "tags": []
     },
     "output_type": "execute_result"
    }
   ],
   "source": [
    "True == False"
   ]
  },
  {
   "cell_type": "markdown",
   "metadata": {
    "colab_type": "text",
    "id": "siYy9ZcW0edW"
   },
   "source": []
  },
  {
   "cell_type": "markdown",
   "metadata": {
    "colab_type": "text",
    "id": "73ABOHa2nN3J"
   },
   "source": [
    "## Loops\n",
    "Loops are another very important building block for applications. Most of the time, when you are thinking about automating something, you're thinking of some sort of a loop.\n",
    "\n",
    "The simplest loop is the \"for\" loop, which repeats an action multiple times over a list of values. When it gets to the end of the list, it stops.\n",
    "\n",
    "In English, a loop would be: \"For every person on my team, show the hours worked on projects,\" or \"for every project underway, show the % complete and who is working on it.\"\n",
    "\n",
    "Here is an example of a loop in code."
   ]
  },
  {
   "cell_type": "code",
   "execution_count": null,
   "metadata": {
    "colab": {
     "base_uri": "https://localhost:8080/",
     "height": 104
    },
    "colab_type": "code",
    "id": "dP7FaJ3boZzi",
    "outputId": "56ad86f4-597d-49f1-a5ea-35f5f5504e08"
   },
   "outputs": [
    {
     "name": "stdout",
     "output_type": "stream",
     "text": [
      "Tom\n",
      "Mandy\n",
      "Anna\n",
      "Kent\n",
      "Ashley\n"
     ]
    }
   ],
   "source": [
    "for person in people:\n",
    "  print(person)"
   ]
  },
  {
   "cell_type": "markdown",
   "metadata": {
    "colab_type": "text",
    "id": "t2KaRHmGfF7_"
   },
   "source": [
    "Congratulations. You've just run your first automation in Python. An important note is that the code:\n",
    "\n",
    "\n",
    "```\n",
    "for person in people:\n",
    "  print(person)\n",
    "```\n",
    "Works exactly the same if there are five people or 5 million people.\n"
   ]
  },
  {
   "cell_type": "markdown",
   "metadata": {
    "colab_type": "text",
    "id": "Z8R3VeJjorZ2"
   },
   "source": [
    "You can also create loops with numbers or ranges."
   ]
  },
  {
   "cell_type": "code",
   "execution_count": null,
   "metadata": {
    "colab": {
     "base_uri": "https://localhost:8080/",
     "height": 86
    },
    "colab_type": "code",
    "id": "t7Lg64yIpVca",
    "outputId": "e7b34f3e-53f9-47a7-b99b-6de3893e6e0e"
   },
   "outputs": [
    {
     "name": "stdout",
     "output_type": "stream",
     "text": [
      "1\n",
      "4\n",
      "9\n",
      "16\n"
     ]
    }
   ],
   "source": [
    "for i in range(1,5): # The loop stops before the last number\n",
    "  print(i*i)  # Multiplies the number by itself or squares the number"
   ]
  },
  {
   "cell_type": "markdown",
   "metadata": {
    "colab_type": "text",
    "id": "7FWK6FYnqSbD"
   },
   "source": [
    "By combining loops and variables, we can do computations very quickly."
   ]
  },
  {
   "cell_type": "code",
   "execution_count": null,
   "metadata": {
    "colab": {
     "base_uri": "https://localhost:8080/",
     "height": 34
    },
    "colab_type": "code",
    "id": "9eBQXCelqalW",
    "outputId": "ad331ade-9a2e-494e-c8d7-5241e826de0f"
   },
   "outputs": [
    {
     "name": "stdout",
     "output_type": "stream",
     "text": [
      "The total of x to the power of x for 1 to 100 is 10405071317\n"
     ]
    }
   ],
   "source": [
    "total = 0  # our variable, which we will use to keep track of our total\n",
    "\n",
    "for i in range(1, 11):\n",
    "  total += i**i # += means \"add to\". ** means \"to the power of\"\n",
    "  \n",
    "print(\"The total of x to the power of x for 1 to 100 is\", total)"
   ]
  },
  {
   "cell_type": "markdown",
   "metadata": {
    "colab_type": "text",
    "id": "2OPt2y64hGWV"
   },
   "source": [
    "Loops let you act upon, modify or extract information from any range of data that you might have. Examples might be:\n",
    "*  users\n",
    "*  documents\n",
    "*  applications\n",
    "*  events"
   ]
  },
  {
   "cell_type": "markdown",
   "metadata": {
    "colab_type": "text",
    "id": "RYRkGPWLrqlm"
   },
   "source": [
    "## Functions\n",
    "Functions are the third major building block that we will look at. Look at where we type \"print\" above. You will see that print is followed by round brackets, like this: \"print()\" .\n",
    "\n",
    "Print, written print(\"something\") is a function. It prints out whatever is inside the brackets."
   ]
  },
  {
   "cell_type": "code",
   "execution_count": null,
   "metadata": {
    "colab": {
     "base_uri": "https://localhost:8080/",
     "height": 34
    },
    "colab_type": "code",
    "id": "-7DICQyVlJgG",
    "outputId": "476e710a-4528-45d4-c727-fbd4adda017b"
   },
   "outputs": [
    {
     "name": "stdout",
     "output_type": "stream",
     "text": [
      "ADD_SOMETHING_HERE\n"
     ]
    }
   ],
   "source": [
    "print(\"ADD_SOMETHING_HERE\")"
   ]
  },
  {
   "cell_type": "markdown",
   "metadata": {
    "colab_type": "text",
    "id": "6T6Nz7-ElYLy"
   },
   "source": [
    "You can create your own functions very easily. You just define your function by writing \"def\" (define), giving it a name and specifying what it does.\n",
    "\n",
    "The simplest functions just do a single thing. Here is an example:"
   ]
  },
  {
   "cell_type": "code",
   "execution_count": null,
   "metadata": {
    "colab": {},
    "colab_type": "code",
    "id": "VHA8JJiZst8k"
   },
   "outputs": [],
   "source": [
    "def bark():\n",
    "  print(\"Woof\")"
   ]
  },
  {
   "cell_type": "markdown",
   "metadata": {
    "colab_type": "text",
    "id": "oTtQDrR2tDIJ"
   },
   "source": [
    "Now you can call your function."
   ]
  },
  {
   "cell_type": "code",
   "execution_count": null,
   "metadata": {
    "colab": {
     "base_uri": "https://localhost:8080/",
     "height": 34
    },
    "colab_type": "code",
    "id": "T3m_6yUcs9i1",
    "outputId": "2457a608-0912-4d9d-bd1a-0d524b7a2d2f"
   },
   "outputs": [
    {
     "name": "stdout",
     "output_type": "stream",
     "text": [
      "Woof\n"
     ]
    }
   ],
   "source": [
    "bark()"
   ]
  },
  {
   "cell_type": "markdown",
   "metadata": {
    "colab_type": "text",
    "id": "_1nDsBHBtKWX"
   },
   "source": [
    "More complicated functions accept variables and do something to them."
   ]
  },
  {
   "cell_type": "code",
   "execution_count": null,
   "metadata": {
    "colab": {},
    "colab_type": "code",
    "id": "9jOKckKftJGf"
   },
   "outputs": [],
   "source": [
    "def say_hello(some_name):\n",
    "  print(\"Hello\", some_name)"
   ]
  },
  {
   "cell_type": "code",
   "execution_count": null,
   "metadata": {
    "colab": {
     "base_uri": "https://localhost:8080/",
     "height": 34
    },
    "colab_type": "code",
    "id": "LWgtWAEqtemr",
    "outputId": "b7308e82-3c68-4ae4-d69b-9273173202f6"
   },
   "outputs": [
    {
     "name": "stdout",
     "output_type": "stream",
     "text": [
      "Hello Chris\n"
     ]
    }
   ],
   "source": [
    "say_hello(my_name)"
   ]
  },
  {
   "cell_type": "markdown",
   "metadata": {
    "colab_type": "text",
    "id": "rnaYgoS_orkN"
   },
   "source": [
    "You'll notice two things here. First, we put the variable inside the brackets when we called the function. Python was expecting a value that it calls some_name.\n",
    "\n",
    "Second, because we entered \"my_name\", which was your variable from above, our say_hello function gave **you** a warm welcome."
   ]
  },
  {
   "cell_type": "markdown",
   "metadata": {
    "colab_type": "text",
    "id": "NHcbz-e1ur-0"
   },
   "source": [
    "## Putting it together\n",
    "Functions are like lego. They can build on top of each other. In fact, you can call functions from inside other functions.\n",
    "\n",
    "This is the secret to how applications work. They have a lot of very simple parts that are combined together like lego blocks. By defining variables, placing loops and calling functions, these simple blocks combine to do amazing things.\n",
    "\n",
    "Here is another example that uses functions, loops and variables."
   ]
  },
  {
   "cell_type": "code",
   "execution_count": null,
   "metadata": {
    "colab": {},
    "colab_type": "code",
    "id": "UKOeiitHu7rc"
   },
   "outputs": [],
   "source": [
    "def bad_dog(some_name, number_of_woofs):\n",
    "  # bad_dogs bark when they see someone new\n",
    "  # This function accepts a text string as a name and a number for the\n",
    "  # number of barks from the dog\n",
    "  \n",
    "  say_hello(some_name)\n",
    "  \n",
    "  for i in range(number_of_woofs):\n",
    "    bark()\n",
    "    \n",
    "  print(\"Don't go\", some_name, \"!\")\n",
    "  print(\"Bad dog!\")"
   ]
  },
  {
   "cell_type": "code",
   "execution_count": null,
   "metadata": {
    "colab": {
     "base_uri": "https://localhost:8080/",
     "height": 208
    },
    "colab_type": "code",
    "id": "MKktWdzFvXNa",
    "outputId": "5c3a9f79-44b7-43af-d362-1a98bc33c9d4"
   },
   "outputs": [
    {
     "name": "stdout",
     "output_type": "stream",
     "text": [
      "Hello Chris\n",
      "Woof\n",
      "Woof\n",
      "Woof\n",
      "Woof\n",
      "Woof\n",
      "Woof\n",
      "Woof\n",
      "Woof\n",
      "Don't go Chris !\n",
      "Bad dog!\n"
     ]
    }
   ],
   "source": [
    "bad_dog(my_name, 8)"
   ]
  },
  {
   "cell_type": "markdown",
   "metadata": {
    "colab_type": "text",
    "id": "bDGTVV6xwRIt"
   },
   "source": [
    "Using functions like this one, you can sort 100,000 documents in a few seconds, automatically generate graph plots, search for words in a text or run advanced statistical analysis on your organizations data."
   ]
  },
  {
   "cell_type": "markdown",
   "metadata": {
    "colab_type": "text",
    "id": "7rrVbcwXw_Av"
   },
   "source": [
    "This on it's own is very powerful and could change the way that you and your teams work.\n",
    "\n",
    "But there is something even more powerful about a programming language like Python. It is open source."
   ]
  },
  {
   "cell_type": "markdown",
   "metadata": {
    "colab_type": "text",
    "id": "6gDnIvnV1P0N"
   },
   "source": [
    "## Open Source\n",
    "\n",
    "Open source is a kind of free software. It is different from other software because the source code is available to everyone and can be shared. This means that anyone can see how the source code works and can change it if they want to make it work differently. There are different kinds of open source licences that grant permission to use open source software in different ways. These range from fully open, to fairly restrictive. \n",
    "\n",
    "The opposite of open source is closed source, which provides little or no permissions for re-use. Most commercial software is like this.\n",
    "\n",
    "Open source software is often built by communities. Some private businesses also contribute because they reap the benefits of these community efforts, but more and more, businesses now have open source as a key piece of their business model. \n",
    "\n",
    "Despite being \"free\", the [internet would not exist](https://www.vice.com/en_us/article/43zak3/the-internet-was-built-on-the-free-labor-of-open-source-developers-is-that-sustainable) without open source software and the  [value of just a few major open source projects](https://qz.com/1474770/researchers-estimate-that-python-javascript-and-r-contribute-billions-to-gdp/) has been estimated in the billions of dollars. \n",
    "\n",
    "Open source software and open collaboration through platforms like GitHub or GitLab have also been shown as a [key driver of innovation](https://www.fastcompany.com/90364152/embracing-open-source-could-be-a-big-competitive-advantage-for-businesses).\n",
    "\n",
    "Open source software allows developers around the world to \"stand on the shoulders of giants\"; adding value to the world because they don't need to re-invent what has come before.  In Python this is usually done by adding a library.\n",
    "\n",
    "## Libraries\n",
    "\n",
    "When you are using a software, whether small or large, someone somewhere took the time to describe a problem (business or user) and to break it down in multiple steps of smaller problems. Libraries are like the smallest functional solutions to problems. When you build your software, if your \"step\" has been solved already, don't recreate it. Use the existing part.\n",
    "\n",
    "There are thousands of libraries for Python. This also contributes to its popularity. When you want to do something in Python, most often, someone has created a library for that task. If a library doesn't exist, it is easy to create. Then the next person doesn't need to re-create that wheel.\n",
    "\n",
    "Because of this, the usefulness of Python and its power has continued to increase and improve.\n",
    "\n",
    "There are libraries for image processing, mathematics, creating Web applications, Web scraping, data analysis, data visualization, machine learning and much more.\n",
    "\n",
    "We will use four libraries in the following section."
   ]
  },
  {
   "cell_type": "code",
   "execution_count": 1,
   "metadata": {
    "colab": {},
    "colab_type": "code",
    "id": "Bl9IzphFqUer"
   },
   "outputs": [],
   "source": [
    "# Requests allows us to easily work with the Web\n",
    "import requests"
   ]
  },
  {
   "cell_type": "code",
   "execution_count": 2,
   "metadata": {},
   "outputs": [],
   "source": [
    "# Json is a common data format - this library makes working with it easy\n",
    "import json"
   ]
  },
  {
   "cell_type": "code",
   "execution_count": 15,
   "metadata": {},
   "outputs": [],
   "source": [
    "# Pandas is the go-to library for data analysis in Python\n",
    "import pandas as pd"
   ]
  },
  {
   "cell_type": "code",
   "execution_count": 76,
   "metadata": {},
   "outputs": [],
   "source": [
    "# IO is a library that makes it easy to work with streams of data\n",
    "import io"
   ]
  },
  {
   "cell_type": "code",
   "execution_count": 84,
   "metadata": {},
   "outputs": [],
   "source": [
    "# Seaborn is a data visualization library that creates attractive graphs\n",
    "import seaborn as sns\n",
    "sns.set()"
   ]
  },
  {
   "cell_type": "markdown",
   "metadata": {},
   "source": [
    "## Getting to work\n",
    "Now that we have imported our libraries we're going to get to work.\n",
    "\n",
    "In the next section we will:\n",
    "* Pull data from a Website with requests\n",
    "* Transform that data into a format we can use\n",
    "* Pull the data into a Dataframe - a fully automated spreadsheet that makes it easy to manipulate data\n",
    "* Explore our data\n",
    "* Visualize some key elements of the data"
   ]
  },
  {
   "cell_type": "markdown",
   "metadata": {},
   "source": [
    "First, let's get our data with the requests library. We are pulling a dataset from the [Open Data Portal](https://open.canada.ca/data/en/dataset/a35cf382-690c-4221-a971-cf0fd189a46f) at Canada.ca. \n",
    "\n",
    "The file is \"Departmental Plans and Departmental Results Reports – Expenditures and Full Time Equivalents (FTE) by Program and by Organization\""
   ]
  },
  {
   "cell_type": "code",
   "execution_count": 24,
   "metadata": {},
   "outputs": [],
   "source": [
    "data = requests.get(\"https://open.canada.ca/data/dataset/a35cf382-690c-4221-a971-cf0fd189a46f/resource/64774bc1-c90a-4ae2-a3ac-d9b50673a895/download/rbpo_rppo_en.csv\")"
   ]
  },
  {
   "cell_type": "markdown",
   "metadata": {},
   "source": [
    "Now we will use the `io` and `pandas` libraries to turn it into a format we can easily use. The code below might look a bit complicated, but it's okay. When we don't know how to do something, it's easy to look it up online. We found the answer for this problem on [Stack Overflow](https://stackoverflow.com/questions/32400867/pandas-read-csv-from-url) - a help site for programmers."
   ]
  },
  {
   "cell_type": "code",
   "execution_count": 171,
   "metadata": {},
   "outputs": [],
   "source": [
    "df = pd.read_csv(io.StringIO(data.content.decode(\"utf-8\")))"
   ]
  },
  {
   "cell_type": "markdown",
   "metadata": {},
   "source": [
    "From here, we have our data. Now we can start to explore it with some simple commands. The first one is `df.head()`. Open source libraries like Python are also very well documented. This makes them easier to learn and teach. The documentation for Pandas is [here](https://pandas.pydata.org/pandas-docs/stable/reference/api/pandas.DataFrame.head.html)."
   ]
  },
  {
   "cell_type": "code",
   "execution_count": 172,
   "metadata": {},
   "outputs": [
    {
     "data": {
      "text/html": [
       "<div>\n",
       "<style scoped>\n",
       "    .dataframe tbody tr th:only-of-type {\n",
       "        vertical-align: middle;\n",
       "    }\n",
       "\n",
       "    .dataframe tbody tr th {\n",
       "        vertical-align: top;\n",
       "    }\n",
       "\n",
       "    .dataframe thead th {\n",
       "        text-align: right;\n",
       "    }\n",
       "</style>\n",
       "<table border=\"1\" class=\"dataframe\">\n",
       "  <thead>\n",
       "    <tr style=\"text-align: right;\">\n",
       "      <th></th>\n",
       "      <th>Document</th>\n",
       "      <th>year</th>\n",
       "      <th>Organization_ID</th>\n",
       "      <th>Organization_name</th>\n",
       "      <th>Core_Responsibility_code</th>\n",
       "      <th>Core_Responsibility_name</th>\n",
       "      <th>Program_code</th>\n",
       "      <th>Program_name</th>\n",
       "      <th>Planned_spending_Year_1</th>\n",
       "      <th>Actual_spending_Year_1</th>\n",
       "      <th>Planned_spending_Year_2</th>\n",
       "      <th>Planned_spending_Year_3</th>\n",
       "      <th>Planned_FTEs_Year_1</th>\n",
       "      <th>Actual_FTEs_Year_1</th>\n",
       "      <th>Planned_FTEs_Year_2</th>\n",
       "      <th>Planned_FTEs_Year_3</th>\n",
       "      <th>Highlights</th>\n",
       "      <th>Explanation</th>\n",
       "    </tr>\n",
       "  </thead>\n",
       "  <tbody>\n",
       "    <tr>\n",
       "      <th>0</th>\n",
       "      <td>dp</td>\n",
       "      <td>2018</td>\n",
       "      <td>1</td>\n",
       "      <td>Department of Agriculture and Agri-Food</td>\n",
       "      <td>BWN00</td>\n",
       "      <td>Domestic and International Markets</td>\n",
       "      <td>BWN01</td>\n",
       "      <td>Trade and Market Expansion</td>\n",
       "      <td>53105701.0</td>\n",
       "      <td>NaN</td>\n",
       "      <td>53014508.0</td>\n",
       "      <td>53014508.0</td>\n",
       "      <td>171.0</td>\n",
       "      <td>NaN</td>\n",
       "      <td>171.0</td>\n",
       "      <td>171.0</td>\n",
       "      <td>NaN</td>\n",
       "      <td>NaN</td>\n",
       "    </tr>\n",
       "    <tr>\n",
       "      <th>1</th>\n",
       "      <td>dp</td>\n",
       "      <td>2018</td>\n",
       "      <td>1</td>\n",
       "      <td>Department of Agriculture and Agri-Food</td>\n",
       "      <td>BWN00</td>\n",
       "      <td>Domestic and International Markets</td>\n",
       "      <td>BWN02</td>\n",
       "      <td>Sector Engagement and Development</td>\n",
       "      <td>33331249.0</td>\n",
       "      <td>NaN</td>\n",
       "      <td>30455570.0</td>\n",
       "      <td>30455570.0</td>\n",
       "      <td>179.0</td>\n",
       "      <td>NaN</td>\n",
       "      <td>179.0</td>\n",
       "      <td>179.0</td>\n",
       "      <td>NaN</td>\n",
       "      <td>NaN</td>\n",
       "    </tr>\n",
       "    <tr>\n",
       "      <th>2</th>\n",
       "      <td>dp</td>\n",
       "      <td>2018</td>\n",
       "      <td>1</td>\n",
       "      <td>Department of Agriculture and Agri-Food</td>\n",
       "      <td>BWN00</td>\n",
       "      <td>Domestic and International Markets</td>\n",
       "      <td>BWN03</td>\n",
       "      <td>Farm Products Council of Canada</td>\n",
       "      <td>3048578.0</td>\n",
       "      <td>NaN</td>\n",
       "      <td>3048552.0</td>\n",
       "      <td>3048552.0</td>\n",
       "      <td>23.0</td>\n",
       "      <td>NaN</td>\n",
       "      <td>23.0</td>\n",
       "      <td>23.0</td>\n",
       "      <td>NaN</td>\n",
       "      <td>NaN</td>\n",
       "    </tr>\n",
       "    <tr>\n",
       "      <th>3</th>\n",
       "      <td>dp</td>\n",
       "      <td>2018</td>\n",
       "      <td>1</td>\n",
       "      <td>Department of Agriculture and Agri-Food</td>\n",
       "      <td>BWN00</td>\n",
       "      <td>Domestic and International Markets</td>\n",
       "      <td>BWN04</td>\n",
       "      <td>Dairy Programs</td>\n",
       "      <td>94238832.0</td>\n",
       "      <td>NaN</td>\n",
       "      <td>83258832.0</td>\n",
       "      <td>78288832.0</td>\n",
       "      <td>36.0</td>\n",
       "      <td>NaN</td>\n",
       "      <td>37.0</td>\n",
       "      <td>37.0</td>\n",
       "      <td>NaN</td>\n",
       "      <td>NaN</td>\n",
       "    </tr>\n",
       "    <tr>\n",
       "      <th>4</th>\n",
       "      <td>dp</td>\n",
       "      <td>2018</td>\n",
       "      <td>1</td>\n",
       "      <td>Department of Agriculture and Agri-Food</td>\n",
       "      <td>BWN00</td>\n",
       "      <td>Domestic and International Markets</td>\n",
       "      <td>BWN05</td>\n",
       "      <td>Canadian Pari-Mutuel Agency</td>\n",
       "      <td>10069000.0</td>\n",
       "      <td>NaN</td>\n",
       "      <td>9803000.0</td>\n",
       "      <td>9916000.0</td>\n",
       "      <td>31.0</td>\n",
       "      <td>NaN</td>\n",
       "      <td>31.0</td>\n",
       "      <td>31.0</td>\n",
       "      <td>NaN</td>\n",
       "      <td>NaN</td>\n",
       "    </tr>\n",
       "  </tbody>\n",
       "</table>\n",
       "</div>"
      ],
      "text/plain": [
       "  Document  year  Organization_ID                        Organization_name  \\\n",
       "0       dp  2018                1  Department of Agriculture and Agri-Food   \n",
       "1       dp  2018                1  Department of Agriculture and Agri-Food   \n",
       "2       dp  2018                1  Department of Agriculture and Agri-Food   \n",
       "3       dp  2018                1  Department of Agriculture and Agri-Food   \n",
       "4       dp  2018                1  Department of Agriculture and Agri-Food   \n",
       "\n",
       "  Core_Responsibility_code            Core_Responsibility_name Program_code  \\\n",
       "0                    BWN00  Domestic and International Markets        BWN01   \n",
       "1                    BWN00  Domestic and International Markets        BWN02   \n",
       "2                    BWN00  Domestic and International Markets        BWN03   \n",
       "3                    BWN00  Domestic and International Markets        BWN04   \n",
       "4                    BWN00  Domestic and International Markets        BWN05   \n",
       "\n",
       "                        Program_name  Planned_spending_Year_1  \\\n",
       "0         Trade and Market Expansion               53105701.0   \n",
       "1  Sector Engagement and Development               33331249.0   \n",
       "2    Farm Products Council of Canada                3048578.0   \n",
       "3                     Dairy Programs               94238832.0   \n",
       "4        Canadian Pari-Mutuel Agency               10069000.0   \n",
       "\n",
       "   Actual_spending_Year_1  Planned_spending_Year_2  Planned_spending_Year_3  \\\n",
       "0                     NaN               53014508.0               53014508.0   \n",
       "1                     NaN               30455570.0               30455570.0   \n",
       "2                     NaN                3048552.0                3048552.0   \n",
       "3                     NaN               83258832.0               78288832.0   \n",
       "4                     NaN                9803000.0                9916000.0   \n",
       "\n",
       "   Planned_FTEs_Year_1  Actual_FTEs_Year_1  Planned_FTEs_Year_2  \\\n",
       "0                171.0                 NaN                171.0   \n",
       "1                179.0                 NaN                179.0   \n",
       "2                 23.0                 NaN                 23.0   \n",
       "3                 36.0                 NaN                 37.0   \n",
       "4                 31.0                 NaN                 31.0   \n",
       "\n",
       "   Planned_FTEs_Year_3 Highlights  Explanation  \n",
       "0                171.0        NaN          NaN  \n",
       "1                179.0        NaN          NaN  \n",
       "2                 23.0        NaN          NaN  \n",
       "3                 37.0        NaN          NaN  \n",
       "4                 31.0        NaN          NaN  "
      ]
     },
     "execution_count": 172,
     "metadata": {},
     "output_type": "execute_result"
    }
   ],
   "source": [
    "df.head()"
   ]
  },
  {
   "cell_type": "code",
   "execution_count": 173,
   "metadata": {},
   "outputs": [
    {
     "data": {
      "text/html": [
       "<div>\n",
       "<style scoped>\n",
       "    .dataframe tbody tr th:only-of-type {\n",
       "        vertical-align: middle;\n",
       "    }\n",
       "\n",
       "    .dataframe tbody tr th {\n",
       "        vertical-align: top;\n",
       "    }\n",
       "\n",
       "    .dataframe thead th {\n",
       "        text-align: right;\n",
       "    }\n",
       "</style>\n",
       "<table border=\"1\" class=\"dataframe\">\n",
       "  <thead>\n",
       "    <tr style=\"text-align: right;\">\n",
       "      <th></th>\n",
       "      <th>year</th>\n",
       "      <th>Organization_ID</th>\n",
       "      <th>Planned_spending_Year_1</th>\n",
       "      <th>Actual_spending_Year_1</th>\n",
       "      <th>Planned_spending_Year_2</th>\n",
       "      <th>Planned_spending_Year_3</th>\n",
       "      <th>Planned_FTEs_Year_1</th>\n",
       "      <th>Actual_FTEs_Year_1</th>\n",
       "      <th>Planned_FTEs_Year_2</th>\n",
       "      <th>Planned_FTEs_Year_3</th>\n",
       "      <th>Explanation</th>\n",
       "    </tr>\n",
       "  </thead>\n",
       "  <tbody>\n",
       "    <tr>\n",
       "      <th>count</th>\n",
       "      <td>2305.000000</td>\n",
       "      <td>2305.000000</td>\n",
       "      <td>2.305000e+03</td>\n",
       "      <td>0.0</td>\n",
       "      <td>2.305000e+03</td>\n",
       "      <td>2.305000e+03</td>\n",
       "      <td>2305.000000</td>\n",
       "      <td>0.0</td>\n",
       "      <td>2305.000000</td>\n",
       "      <td>2305.000000</td>\n",
       "      <td>0.0</td>\n",
       "    </tr>\n",
       "    <tr>\n",
       "      <th>mean</th>\n",
       "      <td>2018.483297</td>\n",
       "      <td>161.205206</td>\n",
       "      <td>2.328534e+08</td>\n",
       "      <td>NaN</td>\n",
       "      <td>2.322051e+08</td>\n",
       "      <td>2.357105e+08</td>\n",
       "      <td>294.440889</td>\n",
       "      <td>NaN</td>\n",
       "      <td>289.804564</td>\n",
       "      <td>288.343696</td>\n",
       "      <td>NaN</td>\n",
       "    </tr>\n",
       "    <tr>\n",
       "      <th>std</th>\n",
       "      <td>0.499829</td>\n",
       "      <td>88.065445</td>\n",
       "      <td>2.288283e+09</td>\n",
       "      <td>NaN</td>\n",
       "      <td>2.386546e+09</td>\n",
       "      <td>2.499304e+09</td>\n",
       "      <td>1006.875945</td>\n",
       "      <td>NaN</td>\n",
       "      <td>1003.694268</td>\n",
       "      <td>1003.428299</td>\n",
       "      <td>NaN</td>\n",
       "    </tr>\n",
       "    <tr>\n",
       "      <th>min</th>\n",
       "      <td>2018.000000</td>\n",
       "      <td>1.000000</td>\n",
       "      <td>-2.800000e+02</td>\n",
       "      <td>NaN</td>\n",
       "      <td>0.000000e+00</td>\n",
       "      <td>0.000000e+00</td>\n",
       "      <td>0.000000</td>\n",
       "      <td>NaN</td>\n",
       "      <td>0.000000</td>\n",
       "      <td>0.000000</td>\n",
       "      <td>NaN</td>\n",
       "    </tr>\n",
       "    <tr>\n",
       "      <th>25%</th>\n",
       "      <td>2018.000000</td>\n",
       "      <td>125.000000</td>\n",
       "      <td>6.648232e+06</td>\n",
       "      <td>NaN</td>\n",
       "      <td>6.106437e+06</td>\n",
       "      <td>5.758254e+06</td>\n",
       "      <td>26.000000</td>\n",
       "      <td>NaN</td>\n",
       "      <td>25.000000</td>\n",
       "      <td>24.000000</td>\n",
       "      <td>NaN</td>\n",
       "    </tr>\n",
       "    <tr>\n",
       "      <th>50%</th>\n",
       "      <td>2018.000000</td>\n",
       "      <td>133.000000</td>\n",
       "      <td>1.852510e+07</td>\n",
       "      <td>NaN</td>\n",
       "      <td>1.765475e+07</td>\n",
       "      <td>1.663931e+07</td>\n",
       "      <td>81.000000</td>\n",
       "      <td>NaN</td>\n",
       "      <td>79.000000</td>\n",
       "      <td>77.000000</td>\n",
       "      <td>NaN</td>\n",
       "    </tr>\n",
       "    <tr>\n",
       "      <th>75%</th>\n",
       "      <td>2019.000000</td>\n",
       "      <td>228.000000</td>\n",
       "      <td>6.312142e+07</td>\n",
       "      <td>NaN</td>\n",
       "      <td>5.808317e+07</td>\n",
       "      <td>5.454992e+07</td>\n",
       "      <td>215.000000</td>\n",
       "      <td>NaN</td>\n",
       "      <td>207.670000</td>\n",
       "      <td>208.000000</td>\n",
       "      <td>NaN</td>\n",
       "    </tr>\n",
       "    <tr>\n",
       "      <th>max</th>\n",
       "      <td>2019.000000</td>\n",
       "      <td>552.000000</td>\n",
       "      <td>5.387155e+10</td>\n",
       "      <td>NaN</td>\n",
       "      <td>5.690037e+10</td>\n",
       "      <td>6.023860e+10</td>\n",
       "      <td>19779.460000</td>\n",
       "      <td>NaN</td>\n",
       "      <td>19920.690000</td>\n",
       "      <td>20061.910000</td>\n",
       "      <td>NaN</td>\n",
       "    </tr>\n",
       "  </tbody>\n",
       "</table>\n",
       "</div>"
      ],
      "text/plain": [
       "              year  Organization_ID  Planned_spending_Year_1  \\\n",
       "count  2305.000000      2305.000000             2.305000e+03   \n",
       "mean   2018.483297       161.205206             2.328534e+08   \n",
       "std       0.499829        88.065445             2.288283e+09   \n",
       "min    2018.000000         1.000000            -2.800000e+02   \n",
       "25%    2018.000000       125.000000             6.648232e+06   \n",
       "50%    2018.000000       133.000000             1.852510e+07   \n",
       "75%    2019.000000       228.000000             6.312142e+07   \n",
       "max    2019.000000       552.000000             5.387155e+10   \n",
       "\n",
       "       Actual_spending_Year_1  Planned_spending_Year_2  \\\n",
       "count                     0.0             2.305000e+03   \n",
       "mean                      NaN             2.322051e+08   \n",
       "std                       NaN             2.386546e+09   \n",
       "min                       NaN             0.000000e+00   \n",
       "25%                       NaN             6.106437e+06   \n",
       "50%                       NaN             1.765475e+07   \n",
       "75%                       NaN             5.808317e+07   \n",
       "max                       NaN             5.690037e+10   \n",
       "\n",
       "       Planned_spending_Year_3  Planned_FTEs_Year_1  Actual_FTEs_Year_1  \\\n",
       "count             2.305000e+03          2305.000000                 0.0   \n",
       "mean              2.357105e+08           294.440889                 NaN   \n",
       "std               2.499304e+09          1006.875945                 NaN   \n",
       "min               0.000000e+00             0.000000                 NaN   \n",
       "25%               5.758254e+06            26.000000                 NaN   \n",
       "50%               1.663931e+07            81.000000                 NaN   \n",
       "75%               5.454992e+07           215.000000                 NaN   \n",
       "max               6.023860e+10         19779.460000                 NaN   \n",
       "\n",
       "       Planned_FTEs_Year_2  Planned_FTEs_Year_3  Explanation  \n",
       "count          2305.000000          2305.000000          0.0  \n",
       "mean            289.804564           288.343696          NaN  \n",
       "std            1003.694268          1003.428299          NaN  \n",
       "min               0.000000             0.000000          NaN  \n",
       "25%              25.000000            24.000000          NaN  \n",
       "50%              79.000000            77.000000          NaN  \n",
       "75%             207.670000           208.000000          NaN  \n",
       "max           19920.690000         20061.910000          NaN  "
      ]
     },
     "execution_count": 173,
     "metadata": {},
     "output_type": "execute_result"
    }
   ],
   "source": [
    "df.describe()"
   ]
  },
  {
   "cell_type": "markdown",
   "metadata": {},
   "source": [
    "Let's cut this down to just the data we want to look at."
   ]
  },
  {
   "cell_type": "code",
   "execution_count": 174,
   "metadata": {},
   "outputs": [],
   "source": [
    "df = df[[\"Organization_ID\", \"Organization_name\", \"Planned_spending_Year_2\", \"Planned_FTEs_Year_2\", \"Program_name\"]]"
   ]
  },
  {
   "cell_type": "code",
   "execution_count": 175,
   "metadata": {},
   "outputs": [
    {
     "data": {
      "text/html": [
       "<div>\n",
       "<style scoped>\n",
       "    .dataframe tbody tr th:only-of-type {\n",
       "        vertical-align: middle;\n",
       "    }\n",
       "\n",
       "    .dataframe tbody tr th {\n",
       "        vertical-align: top;\n",
       "    }\n",
       "\n",
       "    .dataframe thead th {\n",
       "        text-align: right;\n",
       "    }\n",
       "</style>\n",
       "<table border=\"1\" class=\"dataframe\">\n",
       "  <thead>\n",
       "    <tr style=\"text-align: right;\">\n",
       "      <th></th>\n",
       "      <th>Organization_ID</th>\n",
       "      <th>Organization_name</th>\n",
       "      <th>Planned_spending_Year_2</th>\n",
       "      <th>Planned_FTEs_Year_2</th>\n",
       "      <th>Program_name</th>\n",
       "    </tr>\n",
       "  </thead>\n",
       "  <tbody>\n",
       "    <tr>\n",
       "      <th>0</th>\n",
       "      <td>1</td>\n",
       "      <td>Department of Agriculture and Agri-Food</td>\n",
       "      <td>53014508.0</td>\n",
       "      <td>171.0</td>\n",
       "      <td>Trade and Market Expansion</td>\n",
       "    </tr>\n",
       "    <tr>\n",
       "      <th>1</th>\n",
       "      <td>1</td>\n",
       "      <td>Department of Agriculture and Agri-Food</td>\n",
       "      <td>30455570.0</td>\n",
       "      <td>179.0</td>\n",
       "      <td>Sector Engagement and Development</td>\n",
       "    </tr>\n",
       "    <tr>\n",
       "      <th>2</th>\n",
       "      <td>1</td>\n",
       "      <td>Department of Agriculture and Agri-Food</td>\n",
       "      <td>3048552.0</td>\n",
       "      <td>23.0</td>\n",
       "      <td>Farm Products Council of Canada</td>\n",
       "    </tr>\n",
       "    <tr>\n",
       "      <th>3</th>\n",
       "      <td>1</td>\n",
       "      <td>Department of Agriculture and Agri-Food</td>\n",
       "      <td>83258832.0</td>\n",
       "      <td>37.0</td>\n",
       "      <td>Dairy Programs</td>\n",
       "    </tr>\n",
       "    <tr>\n",
       "      <th>4</th>\n",
       "      <td>1</td>\n",
       "      <td>Department of Agriculture and Agri-Food</td>\n",
       "      <td>9803000.0</td>\n",
       "      <td>31.0</td>\n",
       "      <td>Canadian Pari-Mutuel Agency</td>\n",
       "    </tr>\n",
       "  </tbody>\n",
       "</table>\n",
       "</div>"
      ],
      "text/plain": [
       "   Organization_ID                        Organization_name  \\\n",
       "0                1  Department of Agriculture and Agri-Food   \n",
       "1                1  Department of Agriculture and Agri-Food   \n",
       "2                1  Department of Agriculture and Agri-Food   \n",
       "3                1  Department of Agriculture and Agri-Food   \n",
       "4                1  Department of Agriculture and Agri-Food   \n",
       "\n",
       "   Planned_spending_Year_2  Planned_FTEs_Year_2  \\\n",
       "0               53014508.0                171.0   \n",
       "1               30455570.0                179.0   \n",
       "2                3048552.0                 23.0   \n",
       "3               83258832.0                 37.0   \n",
       "4                9803000.0                 31.0   \n",
       "\n",
       "                        Program_name  \n",
       "0         Trade and Market Expansion  \n",
       "1  Sector Engagement and Development  \n",
       "2    Farm Products Council of Canada  \n",
       "3                     Dairy Programs  \n",
       "4        Canadian Pari-Mutuel Agency  "
      ]
     },
     "execution_count": 175,
     "metadata": {},
     "output_type": "execute_result"
    }
   ],
   "source": [
    "df.head()"
   ]
  },
  {
   "cell_type": "code",
   "execution_count": 182,
   "metadata": {},
   "outputs": [
    {
     "data": {
      "text/html": [
       "<div>\n",
       "<style scoped>\n",
       "    .dataframe tbody tr th:only-of-type {\n",
       "        vertical-align: middle;\n",
       "    }\n",
       "\n",
       "    .dataframe tbody tr th {\n",
       "        vertical-align: top;\n",
       "    }\n",
       "\n",
       "    .dataframe thead th {\n",
       "        text-align: right;\n",
       "    }\n",
       "</style>\n",
       "<table border=\"1\" class=\"dataframe\">\n",
       "  <thead>\n",
       "    <tr style=\"text-align: right;\">\n",
       "      <th></th>\n",
       "      <th>Organization_ID</th>\n",
       "      <th>Organization_name</th>\n",
       "      <th>Planned_spending_Year_2</th>\n",
       "      <th>Planned_FTEs_Year_2</th>\n",
       "      <th>Program_name</th>\n",
       "    </tr>\n",
       "  </thead>\n",
       "  <tbody>\n",
       "    <tr>\n",
       "      <th>285</th>\n",
       "      <td>128</td>\n",
       "      <td>Department of Employment and Social Development</td>\n",
       "      <td>5.690037e+10</td>\n",
       "      <td>1841.00</td>\n",
       "      <td>Old Age Security</td>\n",
       "    </tr>\n",
       "    <tr>\n",
       "      <th>287</th>\n",
       "      <td>128</td>\n",
       "      <td>Department of Employment and Social Development</td>\n",
       "      <td>4.994923e+10</td>\n",
       "      <td>2008.00</td>\n",
       "      <td>Canada Pension Plan</td>\n",
       "    </tr>\n",
       "    <tr>\n",
       "      <th>1321</th>\n",
       "      <td>124</td>\n",
       "      <td>Department of Finance</td>\n",
       "      <td>4.181353e+10</td>\n",
       "      <td>1.00</td>\n",
       "      <td>Canada Health Transfer</td>\n",
       "    </tr>\n",
       "    <tr>\n",
       "      <th>131</th>\n",
       "      <td>124</td>\n",
       "      <td>Department of Finance</td>\n",
       "      <td>4.022603e+10</td>\n",
       "      <td>2.00</td>\n",
       "      <td>Canada Health Transfer</td>\n",
       "    </tr>\n",
       "    <tr>\n",
       "      <th>1322</th>\n",
       "      <td>124</td>\n",
       "      <td>Department of Finance</td>\n",
       "      <td>3.441239e+10</td>\n",
       "      <td>4.00</td>\n",
       "      <td>Fiscal Arrangements with Provinces and Territo...</td>\n",
       "    </tr>\n",
       "    <tr>\n",
       "      <th>132</th>\n",
       "      <td>124</td>\n",
       "      <td>Department of Finance</td>\n",
       "      <td>3.299847e+10</td>\n",
       "      <td>3.00</td>\n",
       "      <td>Fiscal Arrangements with Provinces and Territo...</td>\n",
       "    </tr>\n",
       "    <tr>\n",
       "      <th>1325</th>\n",
       "      <td>124</td>\n",
       "      <td>Department of Finance</td>\n",
       "      <td>2.574100e+10</td>\n",
       "      <td>30.00</td>\n",
       "      <td>Market Debt and Foreign Reserves Management</td>\n",
       "    </tr>\n",
       "    <tr>\n",
       "      <th>135</th>\n",
       "      <td>124</td>\n",
       "      <td>Department of Finance</td>\n",
       "      <td>2.502100e+10</td>\n",
       "      <td>30.00</td>\n",
       "      <td>Market Debt and Foreign Reserves Management</td>\n",
       "    </tr>\n",
       "    <tr>\n",
       "      <th>288</th>\n",
       "      <td>128</td>\n",
       "      <td>Department of Employment and Social Development</td>\n",
       "      <td>1.981756e+10</td>\n",
       "      <td>6534.00</td>\n",
       "      <td>Employment Insurance</td>\n",
       "    </tr>\n",
       "    <tr>\n",
       "      <th>2148</th>\n",
       "      <td>326</td>\n",
       "      <td>Treasury Board Secretariat</td>\n",
       "      <td>3.588193e+09</td>\n",
       "      <td>0.00</td>\n",
       "      <td>Government-Wide Funds</td>\n",
       "    </tr>\n",
       "    <tr>\n",
       "      <th>1010</th>\n",
       "      <td>326</td>\n",
       "      <td>Treasury Board Secretariat</td>\n",
       "      <td>3.553193e+09</td>\n",
       "      <td>0.00</td>\n",
       "      <td>Government-wide Funds</td>\n",
       "    </tr>\n",
       "    <tr>\n",
       "      <th>1584</th>\n",
       "      <td>133</td>\n",
       "      <td>Department of National Defence</td>\n",
       "      <td>3.432023e+09</td>\n",
       "      <td>2012.00</td>\n",
       "      <td>Equipment Support</td>\n",
       "    </tr>\n",
       "    <tr>\n",
       "      <th>1018</th>\n",
       "      <td>326</td>\n",
       "      <td>Treasury Board Secretariat</td>\n",
       "      <td>3.413373e+09</td>\n",
       "      <td>0.00</td>\n",
       "      <td>Public Service Employer Payments</td>\n",
       "    </tr>\n",
       "    <tr>\n",
       "      <th>435</th>\n",
       "      <td>133</td>\n",
       "      <td>Department of National Defence</td>\n",
       "      <td>3.058205e+09</td>\n",
       "      <td>2185.65</td>\n",
       "      <td>Equipment Support</td>\n",
       "    </tr>\n",
       "    <tr>\n",
       "      <th>554</th>\n",
       "      <td>136</td>\n",
       "      <td>Department of Public Works and Government Serv...</td>\n",
       "      <td>2.431618e+09</td>\n",
       "      <td>644.44</td>\n",
       "      <td>Federal Accommodation and Infrastructure</td>\n",
       "    </tr>\n",
       "    <tr>\n",
       "      <th>290</th>\n",
       "      <td>128</td>\n",
       "      <td>Department of Employment and Social Development</td>\n",
       "      <td>2.395531e+09</td>\n",
       "      <td>34.00</td>\n",
       "      <td>Labour Market Development Agreements</td>\n",
       "    </tr>\n",
       "    <tr>\n",
       "      <th>1034</th>\n",
       "      <td>348</td>\n",
       "      <td>Department of Indigenous Services Canada</td>\n",
       "      <td>2.386210e+09</td>\n",
       "      <td>319.00</td>\n",
       "      <td>Education</td>\n",
       "    </tr>\n",
       "    <tr>\n",
       "      <th>1577</th>\n",
       "      <td>133</td>\n",
       "      <td>Department of National Defence</td>\n",
       "      <td>2.368540e+09</td>\n",
       "      <td>19455.00</td>\n",
       "      <td>Ready Land Forces</td>\n",
       "    </tr>\n",
       "    <tr>\n",
       "      <th>428</th>\n",
       "      <td>133</td>\n",
       "      <td>Department of National Defence</td>\n",
       "      <td>2.339860e+09</td>\n",
       "      <td>19920.69</td>\n",
       "      <td>Ready Land Forces</td>\n",
       "    </tr>\n",
       "    <tr>\n",
       "      <th>784</th>\n",
       "      <td>237</td>\n",
       "      <td>Office of Infrastructure of Canada</td>\n",
       "      <td>2.314719e+09</td>\n",
       "      <td>80.00</td>\n",
       "      <td>Investing in Canada Phase 1 - Funding Allocati...</td>\n",
       "    </tr>\n",
       "  </tbody>\n",
       "</table>\n",
       "</div>"
      ],
      "text/plain": [
       "      Organization_ID                                  Organization_name  \\\n",
       "285               128    Department of Employment and Social Development   \n",
       "287               128    Department of Employment and Social Development   \n",
       "1321              124                              Department of Finance   \n",
       "131               124                              Department of Finance   \n",
       "1322              124                              Department of Finance   \n",
       "132               124                              Department of Finance   \n",
       "1325              124                              Department of Finance   \n",
       "135               124                              Department of Finance   \n",
       "288               128    Department of Employment and Social Development   \n",
       "2148              326                         Treasury Board Secretariat   \n",
       "1010              326                         Treasury Board Secretariat   \n",
       "1584              133                     Department of National Defence   \n",
       "1018              326                         Treasury Board Secretariat   \n",
       "435               133                     Department of National Defence   \n",
       "554               136  Department of Public Works and Government Serv...   \n",
       "290               128    Department of Employment and Social Development   \n",
       "1034              348           Department of Indigenous Services Canada   \n",
       "1577              133                     Department of National Defence   \n",
       "428               133                     Department of National Defence   \n",
       "784               237                 Office of Infrastructure of Canada   \n",
       "\n",
       "      Planned_spending_Year_2  Planned_FTEs_Year_2  \\\n",
       "285              5.690037e+10              1841.00   \n",
       "287              4.994923e+10              2008.00   \n",
       "1321             4.181353e+10                 1.00   \n",
       "131              4.022603e+10                 2.00   \n",
       "1322             3.441239e+10                 4.00   \n",
       "132              3.299847e+10                 3.00   \n",
       "1325             2.574100e+10                30.00   \n",
       "135              2.502100e+10                30.00   \n",
       "288              1.981756e+10              6534.00   \n",
       "2148             3.588193e+09                 0.00   \n",
       "1010             3.553193e+09                 0.00   \n",
       "1584             3.432023e+09              2012.00   \n",
       "1018             3.413373e+09                 0.00   \n",
       "435              3.058205e+09              2185.65   \n",
       "554              2.431618e+09               644.44   \n",
       "290              2.395531e+09                34.00   \n",
       "1034             2.386210e+09               319.00   \n",
       "1577             2.368540e+09             19455.00   \n",
       "428              2.339860e+09             19920.69   \n",
       "784              2.314719e+09                80.00   \n",
       "\n",
       "                                           Program_name  \n",
       "285                                    Old Age Security  \n",
       "287                                 Canada Pension Plan  \n",
       "1321                             Canada Health Transfer  \n",
       "131                              Canada Health Transfer  \n",
       "1322  Fiscal Arrangements with Provinces and Territo...  \n",
       "132   Fiscal Arrangements with Provinces and Territo...  \n",
       "1325        Market Debt and Foreign Reserves Management  \n",
       "135         Market Debt and Foreign Reserves Management  \n",
       "288                                Employment Insurance  \n",
       "2148                              Government-Wide Funds  \n",
       "1010                              Government-wide Funds  \n",
       "1584                                  Equipment Support  \n",
       "1018                   Public Service Employer Payments  \n",
       "435                                   Equipment Support  \n",
       "554            Federal Accommodation and Infrastructure  \n",
       "290                Labour Market Development Agreements  \n",
       "1034                                          Education  \n",
       "1577                                  Ready Land Forces  \n",
       "428                                   Ready Land Forces  \n",
       "784   Investing in Canada Phase 1 - Funding Allocati...  "
      ]
     },
     "execution_count": 182,
     "metadata": {},
     "output_type": "execute_result"
    }
   ],
   "source": [
    "df.sort_values(by=\"Planned_spending_Year_2\", ascending=False).head(20)"
   ]
  },
  {
   "cell_type": "code",
   "execution_count": 184,
   "metadata": {},
   "outputs": [
    {
     "data": {
      "text/html": [
       "<div>\n",
       "<style scoped>\n",
       "    .dataframe tbody tr th:only-of-type {\n",
       "        vertical-align: middle;\n",
       "    }\n",
       "\n",
       "    .dataframe tbody tr th {\n",
       "        vertical-align: top;\n",
       "    }\n",
       "\n",
       "    .dataframe thead th {\n",
       "        text-align: right;\n",
       "    }\n",
       "</style>\n",
       "<table border=\"1\" class=\"dataframe\">\n",
       "  <thead>\n",
       "    <tr style=\"text-align: right;\">\n",
       "      <th></th>\n",
       "      <th>Organization_ID</th>\n",
       "      <th>Organization_name</th>\n",
       "      <th>Planned_spending_Year_2</th>\n",
       "      <th>Planned_FTEs_Year_2</th>\n",
       "      <th>Program_name</th>\n",
       "    </tr>\n",
       "  </thead>\n",
       "  <tbody>\n",
       "    <tr>\n",
       "      <th>428</th>\n",
       "      <td>133</td>\n",
       "      <td>Department of National Defence</td>\n",
       "      <td>2.339860e+09</td>\n",
       "      <td>19920.69</td>\n",
       "      <td>Ready Land Forces</td>\n",
       "    </tr>\n",
       "    <tr>\n",
       "      <th>1577</th>\n",
       "      <td>133</td>\n",
       "      <td>Department of National Defence</td>\n",
       "      <td>2.368540e+09</td>\n",
       "      <td>19455.00</td>\n",
       "      <td>Ready Land Forces</td>\n",
       "    </tr>\n",
       "    <tr>\n",
       "      <th>1587</th>\n",
       "      <td>133</td>\n",
       "      <td>Department of National Defence</td>\n",
       "      <td>8.570280e+08</td>\n",
       "      <td>13143.00</td>\n",
       "      <td>Individual Training and Professional Military ...</td>\n",
       "    </tr>\n",
       "    <tr>\n",
       "      <th>438</th>\n",
       "      <td>133</td>\n",
       "      <td>Department of National Defence</td>\n",
       "      <td>9.904489e+08</td>\n",
       "      <td>11622.78</td>\n",
       "      <td>Individual Training and Professional Military ...</td>\n",
       "    </tr>\n",
       "    <tr>\n",
       "      <th>2058</th>\n",
       "      <td>295</td>\n",
       "      <td>Royal Canadian Mounted Police</td>\n",
       "      <td>9.377271e+08</td>\n",
       "      <td>9794.00</td>\n",
       "      <td>Provincial/Territorial Policing</td>\n",
       "    </tr>\n",
       "    <tr>\n",
       "      <th>1578</th>\n",
       "      <td>133</td>\n",
       "      <td>Department of National Defence</td>\n",
       "      <td>1.590542e+09</td>\n",
       "      <td>9523.00</td>\n",
       "      <td>Ready Air and Space Forces</td>\n",
       "    </tr>\n",
       "    <tr>\n",
       "      <th>1576</th>\n",
       "      <td>133</td>\n",
       "      <td>Department of National Defence</td>\n",
       "      <td>1.323955e+09</td>\n",
       "      <td>9238.00</td>\n",
       "      <td>Ready Naval Forces</td>\n",
       "    </tr>\n",
       "    <tr>\n",
       "      <th>429</th>\n",
       "      <td>133</td>\n",
       "      <td>Department of National Defence</td>\n",
       "      <td>1.378757e+09</td>\n",
       "      <td>8403.02</td>\n",
       "      <td>Ready Air and Space Forces</td>\n",
       "    </tr>\n",
       "    <tr>\n",
       "      <th>427</th>\n",
       "      <td>133</td>\n",
       "      <td>Department of National Defence</td>\n",
       "      <td>1.140854e+09</td>\n",
       "      <td>8015.30</td>\n",
       "      <td>Ready Naval Forces</td>\n",
       "    </tr>\n",
       "    <tr>\n",
       "      <th>2183</th>\n",
       "      <td>46</td>\n",
       "      <td>Canada Revenue Agency</td>\n",
       "      <td>7.808871e+08</td>\n",
       "      <td>7611.00</td>\n",
       "      <td>Tax Services and Processing</td>\n",
       "    </tr>\n",
       "    <tr>\n",
       "      <th>2186</th>\n",
       "      <td>46</td>\n",
       "      <td>Canada Revenue Agency</td>\n",
       "      <td>7.513643e+08</td>\n",
       "      <td>7175.00</td>\n",
       "      <td>Domestic Compliance</td>\n",
       "    </tr>\n",
       "    <tr>\n",
       "      <th>1073</th>\n",
       "      <td>46</td>\n",
       "      <td>Canada Revenue Agency</td>\n",
       "      <td>7.145556e+08</td>\n",
       "      <td>7008.00</td>\n",
       "      <td>Domestic compliance</td>\n",
       "    </tr>\n",
       "    <tr>\n",
       "      <th>37</th>\n",
       "      <td>117</td>\n",
       "      <td>Correctional Service of Canada</td>\n",
       "      <td>7.578490e+08</td>\n",
       "      <td>6716.00</td>\n",
       "      <td>Intelligence and Supervision</td>\n",
       "    </tr>\n",
       "    <tr>\n",
       "      <th>1227</th>\n",
       "      <td>117</td>\n",
       "      <td>Correctional Service of Canada</td>\n",
       "      <td>7.798648e+08</td>\n",
       "      <td>6630.00</td>\n",
       "      <td>Intelligence and Supervision</td>\n",
       "    </tr>\n",
       "    <tr>\n",
       "      <th>288</th>\n",
       "      <td>128</td>\n",
       "      <td>Department of Employment and Social Development</td>\n",
       "      <td>1.981756e+10</td>\n",
       "      <td>6534.00</td>\n",
       "      <td>Employment Insurance</td>\n",
       "    </tr>\n",
       "    <tr>\n",
       "      <th>1070</th>\n",
       "      <td>46</td>\n",
       "      <td>Canada Revenue Agency</td>\n",
       "      <td>6.591025e+08</td>\n",
       "      <td>6467.00</td>\n",
       "      <td>Tax Services and Processing</td>\n",
       "    </tr>\n",
       "    <tr>\n",
       "      <th>2059</th>\n",
       "      <td>295</td>\n",
       "      <td>Royal Canadian Mounted Police</td>\n",
       "      <td>3.781707e+08</td>\n",
       "      <td>5719.00</td>\n",
       "      <td>Municipal Policing</td>\n",
       "    </tr>\n",
       "    <tr>\n",
       "      <th>2185</th>\n",
       "      <td>46</td>\n",
       "      <td>Canada Revenue Agency</td>\n",
       "      <td>4.200261e+08</td>\n",
       "      <td>5702.00</td>\n",
       "      <td>Collections</td>\n",
       "    </tr>\n",
       "    <tr>\n",
       "      <th>1072</th>\n",
       "      <td>46</td>\n",
       "      <td>Canada Revenue Agency</td>\n",
       "      <td>3.957083e+08</td>\n",
       "      <td>5645.00</td>\n",
       "      <td>Collections</td>\n",
       "    </tr>\n",
       "    <tr>\n",
       "      <th>2184</th>\n",
       "      <td>46</td>\n",
       "      <td>Canada Revenue Agency</td>\n",
       "      <td>3.358559e+08</td>\n",
       "      <td>5507.00</td>\n",
       "      <td>Returns Compliance</td>\n",
       "    </tr>\n",
       "  </tbody>\n",
       "</table>\n",
       "</div>"
      ],
      "text/plain": [
       "      Organization_ID                                Organization_name  \\\n",
       "428               133                   Department of National Defence   \n",
       "1577              133                   Department of National Defence   \n",
       "1587              133                   Department of National Defence   \n",
       "438               133                   Department of National Defence   \n",
       "2058              295                    Royal Canadian Mounted Police   \n",
       "1578              133                   Department of National Defence   \n",
       "1576              133                   Department of National Defence   \n",
       "429               133                   Department of National Defence   \n",
       "427               133                   Department of National Defence   \n",
       "2183               46                            Canada Revenue Agency   \n",
       "2186               46                            Canada Revenue Agency   \n",
       "1073               46                            Canada Revenue Agency   \n",
       "37                117                   Correctional Service of Canada   \n",
       "1227              117                   Correctional Service of Canada   \n",
       "288               128  Department of Employment and Social Development   \n",
       "1070               46                            Canada Revenue Agency   \n",
       "2059              295                    Royal Canadian Mounted Police   \n",
       "2185               46                            Canada Revenue Agency   \n",
       "1072               46                            Canada Revenue Agency   \n",
       "2184               46                            Canada Revenue Agency   \n",
       "\n",
       "      Planned_spending_Year_2  Planned_FTEs_Year_2  \\\n",
       "428              2.339860e+09             19920.69   \n",
       "1577             2.368540e+09             19455.00   \n",
       "1587             8.570280e+08             13143.00   \n",
       "438              9.904489e+08             11622.78   \n",
       "2058             9.377271e+08              9794.00   \n",
       "1578             1.590542e+09              9523.00   \n",
       "1576             1.323955e+09              9238.00   \n",
       "429              1.378757e+09              8403.02   \n",
       "427              1.140854e+09              8015.30   \n",
       "2183             7.808871e+08              7611.00   \n",
       "2186             7.513643e+08              7175.00   \n",
       "1073             7.145556e+08              7008.00   \n",
       "37               7.578490e+08              6716.00   \n",
       "1227             7.798648e+08              6630.00   \n",
       "288              1.981756e+10              6534.00   \n",
       "1070             6.591025e+08              6467.00   \n",
       "2059             3.781707e+08              5719.00   \n",
       "2185             4.200261e+08              5702.00   \n",
       "1072             3.957083e+08              5645.00   \n",
       "2184             3.358559e+08              5507.00   \n",
       "\n",
       "                                           Program_name  \n",
       "428                                   Ready Land Forces  \n",
       "1577                                  Ready Land Forces  \n",
       "1587  Individual Training and Professional Military ...  \n",
       "438   Individual Training and Professional Military ...  \n",
       "2058                    Provincial/Territorial Policing  \n",
       "1578                         Ready Air and Space Forces  \n",
       "1576                                 Ready Naval Forces  \n",
       "429                          Ready Air and Space Forces  \n",
       "427                                  Ready Naval Forces  \n",
       "2183                        Tax Services and Processing  \n",
       "2186                                Domestic Compliance  \n",
       "1073                                Domestic compliance  \n",
       "37                         Intelligence and Supervision  \n",
       "1227                       Intelligence and Supervision  \n",
       "288                                Employment Insurance  \n",
       "1070                        Tax Services and Processing  \n",
       "2059                                 Municipal Policing  \n",
       "2185                                        Collections  \n",
       "1072                                        Collections  \n",
       "2184                                 Returns Compliance  "
      ]
     },
     "execution_count": 184,
     "metadata": {},
     "output_type": "execute_result"
    }
   ],
   "source": [
    "df.sort_values(by=\"Planned_FTEs_Year_2\", ascending=False).head(20)"
   ]
  },
  {
   "cell_type": "markdown",
   "metadata": {},
   "source": [
    "Now we can group by organization name and sum the total spending and FTE count."
   ]
  },
  {
   "cell_type": "code",
   "execution_count": 185,
   "metadata": {},
   "outputs": [],
   "source": [
    "depts = df.groupby([\"Organization_name\"]).sum()"
   ]
  },
  {
   "cell_type": "code",
   "execution_count": 186,
   "metadata": {},
   "outputs": [
    {
     "data": {
      "text/html": [
       "<div>\n",
       "<style scoped>\n",
       "    .dataframe tbody tr th:only-of-type {\n",
       "        vertical-align: middle;\n",
       "    }\n",
       "\n",
       "    .dataframe tbody tr th {\n",
       "        vertical-align: top;\n",
       "    }\n",
       "\n",
       "    .dataframe thead th {\n",
       "        text-align: right;\n",
       "    }\n",
       "</style>\n",
       "<table border=\"1\" class=\"dataframe\">\n",
       "  <thead>\n",
       "    <tr style=\"text-align: right;\">\n",
       "      <th></th>\n",
       "      <th>Organization_ID</th>\n",
       "      <th>Planned_spending_Year_2</th>\n",
       "      <th>Planned_FTEs_Year_2</th>\n",
       "    </tr>\n",
       "    <tr>\n",
       "      <th>Organization_name</th>\n",
       "      <th></th>\n",
       "      <th></th>\n",
       "      <th></th>\n",
       "    </tr>\n",
       "  </thead>\n",
       "  <tbody>\n",
       "    <tr>\n",
       "      <th>Department of Finance</th>\n",
       "      <td>4092</td>\n",
       "      <td>2.013892e+11</td>\n",
       "      <td>1556.00</td>\n",
       "    </tr>\n",
       "    <tr>\n",
       "      <th>Department of Employment and Social Development</th>\n",
       "      <td>6528</td>\n",
       "      <td>1.367656e+11</td>\n",
       "      <td>18076.00</td>\n",
       "    </tr>\n",
       "    <tr>\n",
       "      <th>Department of National Defence</th>\n",
       "      <td>16891</td>\n",
       "      <td>4.443660e+10</td>\n",
       "      <td>185224.02</td>\n",
       "    </tr>\n",
       "    <tr>\n",
       "      <th>Treasury Board Secretariat</th>\n",
       "      <td>17604</td>\n",
       "      <td>1.323729e+10</td>\n",
       "      <td>3746.00</td>\n",
       "    </tr>\n",
       "    <tr>\n",
       "      <th>Department of Foreign Affairs, Trade and Development</th>\n",
       "      <td>14490</td>\n",
       "      <td>1.220690e+10</td>\n",
       "      <td>23272.00</td>\n",
       "    </tr>\n",
       "    <tr>\n",
       "      <th>Department of Indigenous Services Canada</th>\n",
       "      <td>12528</td>\n",
       "      <td>9.335734e+09</td>\n",
       "      <td>3747.00</td>\n",
       "    </tr>\n",
       "    <tr>\n",
       "      <th>Department of Public Works and Government Services</th>\n",
       "      <td>8432</td>\n",
       "      <td>9.166831e+09</td>\n",
       "      <td>28150.09</td>\n",
       "    </tr>\n",
       "    <tr>\n",
       "      <th>Department of Veterans Affairs</th>\n",
       "      <td>7228</td>\n",
       "      <td>8.740070e+09</td>\n",
       "      <td>5602.80</td>\n",
       "    </tr>\n",
       "    <tr>\n",
       "      <th>Canada Revenue Agency</th>\n",
       "      <td>2116</td>\n",
       "      <td>8.603072e+09</td>\n",
       "      <td>81188.00</td>\n",
       "    </tr>\n",
       "    <tr>\n",
       "      <th>Office of Infrastructure of Canada</th>\n",
       "      <td>4740</td>\n",
       "      <td>7.602572e+09</td>\n",
       "      <td>426.30</td>\n",
       "    </tr>\n",
       "  </tbody>\n",
       "</table>\n",
       "</div>"
      ],
      "text/plain": [
       "                                                    Organization_ID  \\\n",
       "Organization_name                                                     \n",
       "Department of Finance                                          4092   \n",
       "Department of Employment and Social Development                6528   \n",
       "Department of National Defence                                16891   \n",
       "Treasury Board Secretariat                                    17604   \n",
       "Department of Foreign Affairs, Trade and Develo...            14490   \n",
       "Department of Indigenous Services Canada                      12528   \n",
       "Department of Public Works and Government Services             8432   \n",
       "Department of Veterans Affairs                                 7228   \n",
       "Canada Revenue Agency                                          2116   \n",
       "Office of Infrastructure of Canada                             4740   \n",
       "\n",
       "                                                    Planned_spending_Year_2  \\\n",
       "Organization_name                                                             \n",
       "Department of Finance                                          2.013892e+11   \n",
       "Department of Employment and Social Development                1.367656e+11   \n",
       "Department of National Defence                                 4.443660e+10   \n",
       "Treasury Board Secretariat                                     1.323729e+10   \n",
       "Department of Foreign Affairs, Trade and Develo...             1.220690e+10   \n",
       "Department of Indigenous Services Canada                       9.335734e+09   \n",
       "Department of Public Works and Government Services             9.166831e+09   \n",
       "Department of Veterans Affairs                                 8.740070e+09   \n",
       "Canada Revenue Agency                                          8.603072e+09   \n",
       "Office of Infrastructure of Canada                             7.602572e+09   \n",
       "\n",
       "                                                    Planned_FTEs_Year_2  \n",
       "Organization_name                                                        \n",
       "Department of Finance                                           1556.00  \n",
       "Department of Employment and Social Development                18076.00  \n",
       "Department of National Defence                                185224.02  \n",
       "Treasury Board Secretariat                                      3746.00  \n",
       "Department of Foreign Affairs, Trade and Develo...             23272.00  \n",
       "Department of Indigenous Services Canada                        3747.00  \n",
       "Department of Public Works and Government Services             28150.09  \n",
       "Department of Veterans Affairs                                  5602.80  \n",
       "Canada Revenue Agency                                          81188.00  \n",
       "Office of Infrastructure of Canada                               426.30  "
      ]
     },
     "execution_count": 186,
     "metadata": {},
     "output_type": "execute_result"
    }
   ],
   "source": [
    "depts.sort_values(by=\"Planned_spending_Year_2\", ascending=False).head(10)"
   ]
  },
  {
   "cell_type": "code",
   "execution_count": null,
   "metadata": {},
   "outputs": [],
   "source": []
  },
  {
   "cell_type": "code",
   "execution_count": null,
   "metadata": {},
   "outputs": [],
   "source": []
  },
  {
   "cell_type": "code",
   "execution_count": 4,
   "metadata": {},
   "outputs": [],
   "source": [
    "trains = requests.get(\"https://www.septastats.com/api/current/system/latest\")"
   ]
  },
  {
   "cell_type": "code",
   "execution_count": 6,
   "metadata": {},
   "outputs": [],
   "source": [
    "if trains.status_code == 200:\n",
    "    train_data = json.loads(trains.content.decode('utf-8'))"
   ]
  },
  {
   "cell_type": "code",
   "execution_count": 11,
   "metadata": {},
   "outputs": [],
   "source": [
    "df_trains = pd.DataFrame(train_data['data'])"
   ]
  },
  {
   "cell_type": "code",
   "execution_count": 12,
   "metadata": {},
   "outputs": [
    {
     "data": {
      "text/html": [
       "<div>\n",
       "<style scoped>\n",
       "    .dataframe tbody tr th:only-of-type {\n",
       "        vertical-align: middle;\n",
       "    }\n",
       "\n",
       "    .dataframe tbody tr th {\n",
       "        vertical-align: top;\n",
       "    }\n",
       "\n",
       "    .dataframe thead th {\n",
       "        text-align: right;\n",
       "    }\n",
       "</style>\n",
       "<table border=\"1\" class=\"dataframe\">\n",
       "  <thead>\n",
       "    <tr style=\"text-align: right;\">\n",
       "      <th></th>\n",
       "      <th>dest</th>\n",
       "      <th>id</th>\n",
       "      <th>lat</th>\n",
       "      <th>late</th>\n",
       "      <th>lon</th>\n",
       "      <th>nextstop</th>\n",
       "      <th>source</th>\n",
       "      <th>time</th>\n",
       "    </tr>\n",
       "  </thead>\n",
       "  <tbody>\n",
       "    <tr>\n",
       "      <th>0</th>\n",
       "      <td>Norristown</td>\n",
       "      <td>222-Norristown</td>\n",
       "      <td>39.953594465</td>\n",
       "      <td>0</td>\n",
       "      <td>-75.165515185</td>\n",
       "      <td>Jefferson Station</td>\n",
       "      <td>Wilmington</td>\n",
       "      <td>2019-07-15T10:44:27</td>\n",
       "    </tr>\n",
       "    <tr>\n",
       "      <th>1</th>\n",
       "      <td>Elwyn</td>\n",
       "      <td>2327-Elwyn</td>\n",
       "      <td>39.95495412</td>\n",
       "      <td>0</td>\n",
       "      <td>-75.17312295</td>\n",
       "      <td>30th Street Station</td>\n",
       "      <td>Norristown</td>\n",
       "      <td>2019-07-15T10:44:27</td>\n",
       "    </tr>\n",
       "    <tr>\n",
       "      <th>2</th>\n",
       "      <td>Chestnut H East</td>\n",
       "      <td>2720-Chestnut H East</td>\n",
       "      <td>40.063814333333</td>\n",
       "      <td>4</td>\n",
       "      <td>-75.187890833333</td>\n",
       "      <td>Mt Airy</td>\n",
       "      <td>Newark</td>\n",
       "      <td>2019-07-15T10:44:27</td>\n",
       "    </tr>\n",
       "    <tr>\n",
       "      <th>3</th>\n",
       "      <td>Warminster</td>\n",
       "      <td>420-Warminster</td>\n",
       "      <td>40.1117575</td>\n",
       "      <td>5</td>\n",
       "      <td>-75.154067166667</td>\n",
       "      <td>Ardsley</td>\n",
       "      <td>Airport</td>\n",
       "      <td>2019-07-15T10:44:27</td>\n",
       "    </tr>\n",
       "    <tr>\n",
       "      <th>4</th>\n",
       "      <td>Glenside</td>\n",
       "      <td>422-Glenside</td>\n",
       "      <td>39.9523838445</td>\n",
       "      <td>5</td>\n",
       "      <td>-75.157408714</td>\n",
       "      <td>Jefferson Station</td>\n",
       "      <td>Airport</td>\n",
       "      <td>2019-07-15T10:44:27</td>\n",
       "    </tr>\n",
       "    <tr>\n",
       "      <th>5</th>\n",
       "      <td>Warminster</td>\n",
       "      <td>424-Warminster</td>\n",
       "      <td>39.880602166667</td>\n",
       "      <td>0</td>\n",
       "      <td>-75.254855</td>\n",
       "      <td>Eastwick Station</td>\n",
       "      <td>Airport</td>\n",
       "      <td>2019-07-15T10:44:27</td>\n",
       "    </tr>\n",
       "    <tr>\n",
       "      <th>6</th>\n",
       "      <td>Airport</td>\n",
       "      <td>425-Airport</td>\n",
       "      <td>39.899046166667</td>\n",
       "      <td>5</td>\n",
       "      <td>-75.238346666667</td>\n",
       "      <td>Eastwick Station</td>\n",
       "      <td>Warminster</td>\n",
       "      <td>2019-07-15T10:44:27</td>\n",
       "    </tr>\n",
       "    <tr>\n",
       "      <th>7</th>\n",
       "      <td>Airport</td>\n",
       "      <td>427-Airport</td>\n",
       "      <td>39.998744</td>\n",
       "      <td>3</td>\n",
       "      <td>-75.158264</td>\n",
       "      <td>Temple U</td>\n",
       "      <td>Glenside</td>\n",
       "      <td>2019-07-15T10:44:27</td>\n",
       "    </tr>\n",
       "    <tr>\n",
       "      <th>8</th>\n",
       "      <td>Airport</td>\n",
       "      <td>429-Airport</td>\n",
       "      <td>40.130928833333</td>\n",
       "      <td>3</td>\n",
       "      <td>-75.119607833333</td>\n",
       "      <td>Crestmont</td>\n",
       "      <td>Warminster</td>\n",
       "      <td>2019-07-15T10:44:27</td>\n",
       "    </tr>\n",
       "    <tr>\n",
       "      <th>9</th>\n",
       "      <td>Malvern</td>\n",
       "      <td>523-Malvern</td>\n",
       "      <td>39.9528297195</td>\n",
       "      <td>4</td>\n",
       "      <td>-75.1588541815</td>\n",
       "      <td>Jefferson Station</td>\n",
       "      <td>Doylestown</td>\n",
       "      <td>2019-07-15T10:44:27</td>\n",
       "    </tr>\n",
       "    <tr>\n",
       "      <th>10</th>\n",
       "      <td>Malvern</td>\n",
       "      <td>527-Malvern</td>\n",
       "      <td>40.2422755</td>\n",
       "      <td>0</td>\n",
       "      <td>-75.285073833333</td>\n",
       "      <td>Pennbrook</td>\n",
       "      <td>Doylestown</td>\n",
       "      <td>2019-07-15T10:44:27</td>\n",
       "    </tr>\n",
       "    <tr>\n",
       "      <th>11</th>\n",
       "      <td>Doylestown</td>\n",
       "      <td>544-Doylestown</td>\n",
       "      <td>40.214257666667</td>\n",
       "      <td>1</td>\n",
       "      <td>-75.277215833333</td>\n",
       "      <td>Pennbrook</td>\n",
       "      <td>Malvern</td>\n",
       "      <td>2019-07-15T10:44:27</td>\n",
       "    </tr>\n",
       "    <tr>\n",
       "      <th>12</th>\n",
       "      <td>Doylestown</td>\n",
       "      <td>548-Doylestown</td>\n",
       "      <td>39.956834666667</td>\n",
       "      <td>0</td>\n",
       "      <td>-75.181773833333</td>\n",
       "      <td>Suburban Station</td>\n",
       "      <td>Paoli</td>\n",
       "      <td>2019-07-15T10:44:27</td>\n",
       "    </tr>\n",
       "    <tr>\n",
       "      <th>13</th>\n",
       "      <td>Suburban Sta</td>\n",
       "      <td>550-Suburban Sta</td>\n",
       "      <td>40.042866666667</td>\n",
       "      <td>9</td>\n",
       "      <td>-75.460870333333</td>\n",
       "      <td>Daylesford</td>\n",
       "      <td>Thorndale</td>\n",
       "      <td>2019-07-15T10:44:27</td>\n",
       "    </tr>\n",
       "    <tr>\n",
       "      <th>14</th>\n",
       "      <td>West Trenton</td>\n",
       "      <td>6302-West Trenton</td>\n",
       "      <td>40.1041425</td>\n",
       "      <td>4</td>\n",
       "      <td>-75.125492166667</td>\n",
       "      <td>Jenkintown-Wyncote</td>\n",
       "      <td>30th St</td>\n",
       "      <td>2019-07-15T10:44:27</td>\n",
       "    </tr>\n",
       "    <tr>\n",
       "      <th>15</th>\n",
       "      <td>30th St</td>\n",
       "      <td>6303-30th St</td>\n",
       "      <td>40.104398</td>\n",
       "      <td>6</td>\n",
       "      <td>-75.124521</td>\n",
       "      <td>Noble</td>\n",
       "      <td>Yardley</td>\n",
       "      <td>2019-07-15T10:44:27</td>\n",
       "    </tr>\n",
       "    <tr>\n",
       "      <th>16</th>\n",
       "      <td>Trenton</td>\n",
       "      <td>725-Trenton</td>\n",
       "      <td>40.091468166667</td>\n",
       "      <td>8</td>\n",
       "      <td>-74.918842833333</td>\n",
       "      <td>Croydon</td>\n",
       "      <td>Chestnut H East</td>\n",
       "      <td>2019-07-15T10:44:27</td>\n",
       "    </tr>\n",
       "    <tr>\n",
       "      <th>17</th>\n",
       "      <td>Trenton</td>\n",
       "      <td>731-Trenton</td>\n",
       "      <td>40.039935</td>\n",
       "      <td>3</td>\n",
       "      <td>-75.171415833333</td>\n",
       "      <td>Germantown</td>\n",
       "      <td>Chestnut H East</td>\n",
       "      <td>2019-07-15T10:44:27</td>\n",
       "    </tr>\n",
       "    <tr>\n",
       "      <th>18</th>\n",
       "      <td>Chestnut H East</td>\n",
       "      <td>732-Chestnut H East</td>\n",
       "      <td>39.956353166667</td>\n",
       "      <td>0</td>\n",
       "      <td>-75.1803955</td>\n",
       "      <td>Suburban Station</td>\n",
       "      <td>Trenton</td>\n",
       "      <td>2019-07-15T10:44:27</td>\n",
       "    </tr>\n",
       "    <tr>\n",
       "      <th>19</th>\n",
       "      <td>Chestnut H West</td>\n",
       "      <td>823-Chestnut H West</td>\n",
       "      <td>39.981603</td>\n",
       "      <td>10</td>\n",
       "      <td>-75.149558666667</td>\n",
       "      <td>Temple U</td>\n",
       "      <td>Fox Chase</td>\n",
       "      <td>2019-07-15T10:44:27</td>\n",
       "    </tr>\n",
       "    <tr>\n",
       "      <th>20</th>\n",
       "      <td>Fox Chase</td>\n",
       "      <td>826-Fox Chase</td>\n",
       "      <td>40.000234833333</td>\n",
       "      <td>2</td>\n",
       "      <td>-75.158922666667</td>\n",
       "      <td>Wayne Jct</td>\n",
       "      <td>Chestnut H West</td>\n",
       "      <td>2019-07-15T10:44:27</td>\n",
       "    </tr>\n",
       "    <tr>\n",
       "      <th>21</th>\n",
       "      <td>Marcus Hook</td>\n",
       "      <td>9227-Marcus Hook</td>\n",
       "      <td>39.959606265</td>\n",
       "      <td>15</td>\n",
       "      <td>-75.152854535</td>\n",
       "      <td>Jefferson Station</td>\n",
       "      <td>Temple U</td>\n",
       "      <td>2019-07-15T10:44:27</td>\n",
       "    </tr>\n",
       "    <tr>\n",
       "      <th>22</th>\n",
       "      <td>Temple U</td>\n",
       "      <td>9348-Temple U</td>\n",
       "      <td>39.9567245</td>\n",
       "      <td>3</td>\n",
       "      <td>-75.1822555</td>\n",
       "      <td>Suburban Station</td>\n",
       "      <td>Elwyn</td>\n",
       "      <td>2019-07-15T10:44:27</td>\n",
       "    </tr>\n",
       "    <tr>\n",
       "      <th>23</th>\n",
       "      <td>Thorndale</td>\n",
       "      <td>9521-Thorndale</td>\n",
       "      <td>40.022349833333</td>\n",
       "      <td>2</td>\n",
       "      <td>-75.316591666667</td>\n",
       "      <td>Rosemont</td>\n",
       "      <td>Temple U</td>\n",
       "      <td>2019-07-15T10:43:27</td>\n",
       "    </tr>\n",
       "  </tbody>\n",
       "</table>\n",
       "</div>"
      ],
      "text/plain": [
       "               dest                    id              lat late  \\\n",
       "0        Norristown        222-Norristown     39.953594465    0   \n",
       "1             Elwyn            2327-Elwyn      39.95495412    0   \n",
       "2   Chestnut H East  2720-Chestnut H East  40.063814333333    4   \n",
       "3        Warminster        420-Warminster       40.1117575    5   \n",
       "4          Glenside          422-Glenside    39.9523838445    5   \n",
       "5        Warminster        424-Warminster  39.880602166667    0   \n",
       "6           Airport           425-Airport  39.899046166667    5   \n",
       "7           Airport           427-Airport        39.998744    3   \n",
       "8           Airport           429-Airport  40.130928833333    3   \n",
       "9           Malvern           523-Malvern    39.9528297195    4   \n",
       "10          Malvern           527-Malvern       40.2422755    0   \n",
       "11       Doylestown        544-Doylestown  40.214257666667    1   \n",
       "12       Doylestown        548-Doylestown  39.956834666667    0   \n",
       "13     Suburban Sta      550-Suburban Sta  40.042866666667    9   \n",
       "14     West Trenton     6302-West Trenton       40.1041425    4   \n",
       "15          30th St          6303-30th St        40.104398    6   \n",
       "16          Trenton           725-Trenton  40.091468166667    8   \n",
       "17          Trenton           731-Trenton        40.039935    3   \n",
       "18  Chestnut H East   732-Chestnut H East  39.956353166667    0   \n",
       "19  Chestnut H West   823-Chestnut H West        39.981603   10   \n",
       "20        Fox Chase         826-Fox Chase  40.000234833333    2   \n",
       "21      Marcus Hook      9227-Marcus Hook     39.959606265   15   \n",
       "22         Temple U         9348-Temple U       39.9567245    3   \n",
       "23        Thorndale        9521-Thorndale  40.022349833333    2   \n",
       "\n",
       "                 lon             nextstop           source  \\\n",
       "0      -75.165515185    Jefferson Station       Wilmington   \n",
       "1       -75.17312295  30th Street Station       Norristown   \n",
       "2   -75.187890833333              Mt Airy           Newark   \n",
       "3   -75.154067166667              Ardsley          Airport   \n",
       "4      -75.157408714    Jefferson Station          Airport   \n",
       "5         -75.254855     Eastwick Station          Airport   \n",
       "6   -75.238346666667     Eastwick Station       Warminster   \n",
       "7         -75.158264             Temple U         Glenside   \n",
       "8   -75.119607833333            Crestmont       Warminster   \n",
       "9     -75.1588541815    Jefferson Station       Doylestown   \n",
       "10  -75.285073833333            Pennbrook       Doylestown   \n",
       "11  -75.277215833333            Pennbrook          Malvern   \n",
       "12  -75.181773833333     Suburban Station            Paoli   \n",
       "13  -75.460870333333           Daylesford        Thorndale   \n",
       "14  -75.125492166667   Jenkintown-Wyncote          30th St   \n",
       "15        -75.124521                Noble          Yardley   \n",
       "16  -74.918842833333              Croydon  Chestnut H East   \n",
       "17  -75.171415833333           Germantown  Chestnut H East   \n",
       "18       -75.1803955     Suburban Station          Trenton   \n",
       "19  -75.149558666667             Temple U        Fox Chase   \n",
       "20  -75.158922666667            Wayne Jct  Chestnut H West   \n",
       "21     -75.152854535    Jefferson Station         Temple U   \n",
       "22       -75.1822555     Suburban Station            Elwyn   \n",
       "23  -75.316591666667             Rosemont         Temple U   \n",
       "\n",
       "                   time  \n",
       "0   2019-07-15T10:44:27  \n",
       "1   2019-07-15T10:44:27  \n",
       "2   2019-07-15T10:44:27  \n",
       "3   2019-07-15T10:44:27  \n",
       "4   2019-07-15T10:44:27  \n",
       "5   2019-07-15T10:44:27  \n",
       "6   2019-07-15T10:44:27  \n",
       "7   2019-07-15T10:44:27  \n",
       "8   2019-07-15T10:44:27  \n",
       "9   2019-07-15T10:44:27  \n",
       "10  2019-07-15T10:44:27  \n",
       "11  2019-07-15T10:44:27  \n",
       "12  2019-07-15T10:44:27  \n",
       "13  2019-07-15T10:44:27  \n",
       "14  2019-07-15T10:44:27  \n",
       "15  2019-07-15T10:44:27  \n",
       "16  2019-07-15T10:44:27  \n",
       "17  2019-07-15T10:44:27  \n",
       "18  2019-07-15T10:44:27  \n",
       "19  2019-07-15T10:44:27  \n",
       "20  2019-07-15T10:44:27  \n",
       "21  2019-07-15T10:44:27  \n",
       "22  2019-07-15T10:44:27  \n",
       "23  2019-07-15T10:43:27  "
      ]
     },
     "execution_count": 12,
     "metadata": {},
     "output_type": "execute_result"
    }
   ],
   "source": [
    "df_trains"
   ]
  },
  {
   "cell_type": "code",
   "execution_count": null,
   "metadata": {},
   "outputs": [],
   "source": []
  },
  {
   "cell_type": "code",
   "execution_count": 13,
   "metadata": {},
   "outputs": [],
   "source": [
    "books = requests.get(\"https://www.googleapis.com/books/v1/volumes?q={learning}\")"
   ]
  },
  {
   "cell_type": "code",
   "execution_count": 14,
   "metadata": {},
   "outputs": [],
   "source": [
    "if books.status_code == 200:\n",
    "    book_data = json.loads(books.content.decode('utf-8'))"
   ]
  },
  {
   "cell_type": "code",
   "execution_count": 33,
   "metadata": {},
   "outputs": [],
   "source": [
    "df_books = pd.DataFrame(book_data['items'])"
   ]
  },
  {
   "cell_type": "code",
   "execution_count": 38,
   "metadata": {},
   "outputs": [
    {
     "data": {
      "text/plain": [
       "0    {'title': 'Deep Learning', 'authors': ['Ian Go...\n",
       "1    {'title': 'Reinforcement Learning', 'subtitle'...\n",
       "2    {'title': 'The Elements of Statistical Learnin...\n",
       "3    {'title': 'Teaching In The Lifelong Learning S...\n",
       "4    {'title': 'Learning from Experience', 'authors...\n",
       "5    {'title': 'The Anthropology of Learning in Chi...\n",
       "6    {'title': 'Visible Learning for Teachers', 'su...\n",
       "7    {'title': 'Learning to be Old', 'subtitle': 'G...\n",
       "8    {'title': 'Multimedia Learning', 'authors': ['...\n",
       "9    {'title': 'Learning Gap', 'subtitle': 'Why Our...\n",
       "Name: volumeInfo, dtype: object"
      ]
     },
     "execution_count": 38,
     "metadata": {},
     "output_type": "execute_result"
    }
   ],
   "source": [
    "df_books.volumeInfo"
   ]
  },
  {
   "cell_type": "code",
   "execution_count": 32,
   "metadata": {},
   "outputs": [
    {
     "data": {
      "text/html": [
       "<div>\n",
       "<style scoped>\n",
       "    .dataframe tbody tr th:only-of-type {\n",
       "        vertical-align: middle;\n",
       "    }\n",
       "\n",
       "    .dataframe tbody tr th {\n",
       "        vertical-align: top;\n",
       "    }\n",
       "\n",
       "    .dataframe thead th {\n",
       "        text-align: right;\n",
       "    }\n",
       "</style>\n",
       "<table border=\"1\" class=\"dataframe\">\n",
       "  <thead>\n",
       "    <tr style=\"text-align: right;\">\n",
       "      <th></th>\n",
       "      <th>volumeInfo</th>\n",
       "    </tr>\n",
       "  </thead>\n",
       "  <tbody>\n",
       "    <tr>\n",
       "      <th>0</th>\n",
       "      <td>{'title': 'Deep Learning', 'authors': ['Ian Go...</td>\n",
       "    </tr>\n",
       "    <tr>\n",
       "      <th>1</th>\n",
       "      <td>{'title': 'Reinforcement Learning', 'subtitle'...</td>\n",
       "    </tr>\n",
       "    <tr>\n",
       "      <th>2</th>\n",
       "      <td>{'title': 'The Elements of Statistical Learnin...</td>\n",
       "    </tr>\n",
       "    <tr>\n",
       "      <th>3</th>\n",
       "      <td>{'title': 'Teaching In The Lifelong Learning S...</td>\n",
       "    </tr>\n",
       "    <tr>\n",
       "      <th>4</th>\n",
       "      <td>{'title': 'Learning from Experience', 'authors...</td>\n",
       "    </tr>\n",
       "    <tr>\n",
       "      <th>5</th>\n",
       "      <td>{'title': 'The Anthropology of Learning in Chi...</td>\n",
       "    </tr>\n",
       "    <tr>\n",
       "      <th>6</th>\n",
       "      <td>{'title': 'Visible Learning for Teachers', 'su...</td>\n",
       "    </tr>\n",
       "    <tr>\n",
       "      <th>7</th>\n",
       "      <td>{'title': 'Learning to be Old', 'subtitle': 'G...</td>\n",
       "    </tr>\n",
       "    <tr>\n",
       "      <th>8</th>\n",
       "      <td>{'title': 'Multimedia Learning', 'authors': ['...</td>\n",
       "    </tr>\n",
       "    <tr>\n",
       "      <th>9</th>\n",
       "      <td>{'title': 'Learning Gap', 'subtitle': 'Why Our...</td>\n",
       "    </tr>\n",
       "  </tbody>\n",
       "</table>\n",
       "</div>"
      ],
      "text/plain": [
       "                                          volumeInfo\n",
       "0  {'title': 'Deep Learning', 'authors': ['Ian Go...\n",
       "1  {'title': 'Reinforcement Learning', 'subtitle'...\n",
       "2  {'title': 'The Elements of Statistical Learnin...\n",
       "3  {'title': 'Teaching In The Lifelong Learning S...\n",
       "4  {'title': 'Learning from Experience', 'authors...\n",
       "5  {'title': 'The Anthropology of Learning in Chi...\n",
       "6  {'title': 'Visible Learning for Teachers', 'su...\n",
       "7  {'title': 'Learning to be Old', 'subtitle': 'G...\n",
       "8  {'title': 'Multimedia Learning', 'authors': ['...\n",
       "9  {'title': 'Learning Gap', 'subtitle': 'Why Our..."
      ]
     },
     "execution_count": 32,
     "metadata": {},
     "output_type": "execute_result"
    }
   ],
   "source": []
  },
  {
   "cell_type": "code",
   "execution_count": 39,
   "metadata": {},
   "outputs": [
    {
     "name": "stdout",
     "output_type": "stream",
     "text": [
      "Deep Learning 800\n",
      "Reinforcement Learning 552\n",
      "The Elements of Statistical Learning 745\n",
      "Teaching In The Lifelong Learning Sector 344\n",
      "Learning from Experience 126\n",
      "The Anthropology of Learning in Childhood 483\n",
      "Visible Learning for Teachers 296\n",
      "Learning to be Old 253\n",
      "Multimedia Learning 210\n",
      "Learning Gap 236\n"
     ]
    }
   ],
   "source": [
    "for book in book_data['items']:\n",
    "    info = book['volumeInfo']\n",
    "    print(info['title'], info['pageCount'])"
   ]
  },
  {
   "cell_type": "code",
   "execution_count": 42,
   "metadata": {
    "colab": {},
    "colab_type": "code",
    "id": "NN5inatjJdWj"
   },
   "outputs": [],
   "source": [
    "r = requests.get(\"https://www.csps-efpc.gc.ca/index-eng.aspx\")"
   ]
  },
  {
   "cell_type": "markdown",
   "metadata": {
    "colab_type": "text",
    "id": "f_JviJUW1iez"
   },
   "source": [
    "Intro to Python\n",
    "Python is a popular modern programming language."
   ]
  },
  {
   "cell_type": "code",
   "execution_count": 44,
   "metadata": {
    "colab": {
     "base_uri": "https://localhost:8080/",
     "height": 171
    },
    "colab_type": "code",
    "id": "m3Ke8k-0JjQ8",
    "outputId": "b984bcba-8c10-4a38-d689-0e22318c60e3"
   },
   "outputs": [
    {
     "data": {
      "text/plain": [
       "<Response [200]>"
      ]
     },
     "execution_count": 44,
     "metadata": {},
     "output_type": "execute_result"
    }
   ],
   "source": [
    "r"
   ]
  },
  {
   "cell_type": "code",
   "execution_count": 47,
   "metadata": {
    "colab": {},
    "colab_type": "code",
    "id": "6aTZnkh0Jna-"
   },
   "outputs": [],
   "source": [
    "from bs4 import BeautifulSoup"
   ]
  },
  {
   "cell_type": "code",
   "execution_count": 49,
   "metadata": {
    "colab": {
     "base_uri": "https://localhost:8080/",
     "height": 1000
    },
    "colab_type": "code",
    "id": "NuKhFShZJoan",
    "outputId": "414236ef-56c7-485f-c9df-c9000a2a33fb"
   },
   "outputs": [
    {
     "name": "stdout",
     "output_type": "stream",
     "text": [
      "<title>\n",
      "\tCanada School of Public Service - CSPS\n",
      "</title>\n"
     ]
    }
   ],
   "source": [
    "soup = BeautifulSoup(r.content, 'html.parser')\n",
    "\n",
    "print(soup.title)"
   ]
  },
  {
   "cell_type": "code",
   "execution_count": null,
   "metadata": {
    "colab": {
     "base_uri": "https://localhost:8080/",
     "height": 68
    },
    "colab_type": "code",
    "id": "d9TnuCdvKWQJ",
    "outputId": "2cc699e7-06c6-4196-98be-2024c96396b9"
   },
   "outputs": [
    {
     "data": {
      "text/plain": [
       "<title>\n",
       "\tCanada School of Public Service - CSPS\n",
       "</title>"
      ]
     },
     "execution_count": 15,
     "metadata": {
      "tags": []
     },
     "output_type": "execute_result"
    }
   ],
   "source": [
    "soup.title"
   ]
  },
  {
   "cell_type": "code",
   "execution_count": null,
   "metadata": {
    "colab": {},
    "colab_type": "code",
    "id": "YYcNSyZAKh3u"
   },
   "outputs": [],
   "source": [
    "soup.metadata"
   ]
  },
  {
   "cell_type": "code",
   "execution_count": null,
   "metadata": {
    "colab": {},
    "colab_type": "code",
    "id": "t4cRbl_dKjUW"
   },
   "outputs": [],
   "source": [
    "soup.H1"
   ]
  },
  {
   "cell_type": "code",
   "execution_count": null,
   "metadata": {
    "colab": {
     "base_uri": "https://localhost:8080/",
     "height": 1000
    },
    "colab_type": "code",
    "id": "CMzs6ZRmKkzu",
    "outputId": "3994820b-2e53-44fa-e04d-ba514c3f6684"
   },
   "outputs": [
    {
     "name": "stdout",
     "output_type": "stream",
     "text": [
      "https://www.csps-efpc.gc.ca/index-fra.aspx\n",
      "https://www.canada.ca/en.html\n",
      "https://www.canada.ca/en/services/jobs.html\n",
      "https://www.canada.ca/en/services/immigration-citizenship.html\n",
      "https://travel.gc.ca/\n",
      "https://www.canada.ca/en/services/business.html\n",
      "https://www.canada.ca/en/services/benefits.html\n",
      "https://www.canada.ca/en/services/health.html\n",
      "https://www.canada.ca/en/services/taxes.html\n",
      "https://www.canada.ca/en/services/environment.html\n",
      "https://www.canada.ca/en/services/defence.html\n",
      "https://www.canada.ca/en/services/culture.html\n",
      "https://www.canada.ca/en/services/policing.html\n",
      "https://www.canada.ca/en/services/transport.html\n",
      "http://international.gc.ca/world-monde/index.aspx?lang=eng\n",
      "https://www.canada.ca/en/services/finance.html\n",
      "https://www.canada.ca/en/services/finance.html\n",
      "http://www.canada.ca/en.html\n",
      "#wb-cont\n",
      "#wb-info\n",
      "#panel1\n",
      "/About_Us/Business_lines/index-eng.aspx\n",
      "https://twitter.com/School_GC\n",
      "https://www.youtube.com/user/MySchoolMonEcole\n",
      "https://www.linkedin.com/company/canada-school-of-public-service?trk=fc_badge\n",
      "/events/index-eng.aspx\n",
      "/Catalogue/index-eng.aspx\n",
      "/Catalogue/programs-eng.aspx\n",
      "/GCcampus/index-eng.aspx\n",
      "/Tools/index-eng.aspx\n",
      "/Multimedia/index-eng.aspx\n",
      "/stayconnected/index-eng.aspx\n",
      "/Contact_Us/index-eng.aspx\n",
      "/About_Us/mandate-eng.aspx\n",
      "/About_Us/organizationalstructure-eng.aspx\n",
      "/About_Us/Business_lines/index-eng.aspx\n",
      "/faculty/index-eng.aspx\n",
      "/About_Us/currentreport/index-eng.aspx\n",
      "/transparency/index-eng.aspx\n",
      "/About_Us/service-eng.aspx\n",
      "https://www.canada.ca/en/news/advanced-news-search/news-results.html?_=1551473836435&dprtmnt=schoolpublicservice&start=&end=\n",
      "https://www.canada.ca/en/government/ministers/joyce-murray.html\n",
      "mailto:csps.web.efpc@canada.ca\n",
      "/gbap-acsp-eng.aspx\n",
      "/gbap-acsp-eng.aspx\n",
      "/ils-eng.aspx\n",
      "/ils-eng.aspx\n",
      "/lt/index-eng.aspx\n",
      "/lt/index-eng.aspx\n",
      "/Contact_Us/index-eng.aspx\n",
      "https://www.canada.ca/en/government/dept.html\n",
      "https://www.canada.ca/en/government/publicservice.html\n",
      "https://www.canada.ca/en/news.html\n",
      "https://www.canada.ca/en/government/system/laws.html\n",
      "https://www.canada.ca/en/transparency/reporting.html\n",
      "https://pm.gc.ca/eng\n",
      "https://www.canada.ca/en/government/system.html\n",
      "https://open.canada.ca/en\n",
      "https://www.canada.ca/en/social.html\n",
      "https://www.canada.ca/en/mobile.html\n",
      "https://www.canada.ca/en/government/about.html\n",
      "/termsandconditions/index-eng.aspx\n",
      "/termsandconditions/index-eng.aspx#pn\n",
      "#wb-cont\n"
     ]
    }
   ],
   "source": [
    "for link in soup.find_all('a'):\n",
    "    print(link.get('href'))"
   ]
  },
  {
   "cell_type": "code",
   "execution_count": null,
   "metadata": {
    "colab": {
     "base_uri": "https://localhost:8080/",
     "height": 74,
     "resources": {
      "http://localhost:8080/nbextensions/google.colab/files.js": {
       "data": "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",
       "headers": [
        [
         "content-type",
         "application/javascript"
        ]
       ],
       "ok": true,
       "status": 200,
       "status_text": ""
      }
     }
    },
    "colab_type": "code",
    "id": "Gi9c4y7oKrSe",
    "outputId": "fa2f042c-5269-41dd-c9b2-f4d0c5f5bfc6"
   },
   "outputs": [
    {
     "data": {
      "text/html": [
       "\n",
       "     <input type=\"file\" id=\"files-448fede7-fd80-465e-8cda-695fbdeef96f\" name=\"files[]\" multiple disabled />\n",
       "     <output id=\"result-448fede7-fd80-465e-8cda-695fbdeef96f\">\n",
       "      Upload widget is only available when the cell has been executed in the\n",
       "      current browser session. Please rerun this cell to enable.\n",
       "      </output>\n",
       "      <script src=\"/nbextensions/google.colab/files.js\"></script> "
      ],
      "text/plain": [
       "<IPython.core.display.HTML object>"
      ]
     },
     "metadata": {
      "tags": []
     },
     "output_type": "display_data"
    },
    {
     "name": "stdout",
     "output_type": "stream",
     "text": [
      "Saving LREM64TTCAM156S.csv to LREM64TTCAM156S.csv\n"
     ]
    }
   ],
   "source": [
    "import pandas as pd\n",
    "from google.colab import files\n",
    "uploaded = files.upload()"
   ]
  },
  {
   "cell_type": "code",
   "execution_count": null,
   "metadata": {
    "colab": {},
    "colab_type": "code",
    "id": "LQwOPQ-cNdS0"
   },
   "outputs": [],
   "source": [
    "df = pd.read_csv(\"LREM64TTCAM156S.csv\")"
   ]
  },
  {
   "cell_type": "code",
   "execution_count": null,
   "metadata": {
    "colab": {
     "base_uri": "https://localhost:8080/",
     "height": 204
    },
    "colab_type": "code",
    "id": "QcQdvzdWNjEb",
    "outputId": "23837308-517a-4c97-cced-354c5ddb0ef0"
   },
   "outputs": [
    {
     "data": {
      "text/html": [
       "<div>\n",
       "<style scoped>\n",
       "    .dataframe tbody tr th:only-of-type {\n",
       "        vertical-align: middle;\n",
       "    }\n",
       "\n",
       "    .dataframe tbody tr th {\n",
       "        vertical-align: top;\n",
       "    }\n",
       "\n",
       "    .dataframe thead th {\n",
       "        text-align: right;\n",
       "    }\n",
       "</style>\n",
       "<table border=\"1\" class=\"dataframe\">\n",
       "  <thead>\n",
       "    <tr style=\"text-align: right;\">\n",
       "      <th></th>\n",
       "      <th>DATE</th>\n",
       "      <th>LREM64TTCAM156S</th>\n",
       "    </tr>\n",
       "  </thead>\n",
       "  <tbody>\n",
       "    <tr>\n",
       "      <th>0</th>\n",
       "      <td>1995-01-01</td>\n",
       "      <td>67.7</td>\n",
       "    </tr>\n",
       "    <tr>\n",
       "      <th>1</th>\n",
       "      <td>1995-02-01</td>\n",
       "      <td>67.6</td>\n",
       "    </tr>\n",
       "    <tr>\n",
       "      <th>2</th>\n",
       "      <td>1995-03-01</td>\n",
       "      <td>67.7</td>\n",
       "    </tr>\n",
       "    <tr>\n",
       "      <th>3</th>\n",
       "      <td>1995-04-01</td>\n",
       "      <td>67.6</td>\n",
       "    </tr>\n",
       "    <tr>\n",
       "      <th>4</th>\n",
       "      <td>1995-05-01</td>\n",
       "      <td>67.4</td>\n",
       "    </tr>\n",
       "  </tbody>\n",
       "</table>\n",
       "</div>"
      ],
      "text/plain": [
       "         DATE  LREM64TTCAM156S\n",
       "0  1995-01-01             67.7\n",
       "1  1995-02-01             67.6\n",
       "2  1995-03-01             67.7\n",
       "3  1995-04-01             67.6\n",
       "4  1995-05-01             67.4"
      ]
     },
     "execution_count": 23,
     "metadata": {
      "tags": []
     },
     "output_type": "execute_result"
    }
   ],
   "source": [
    "df.head()"
   ]
  },
  {
   "cell_type": "code",
   "execution_count": null,
   "metadata": {
    "colab": {
     "base_uri": "https://localhost:8080/",
     "height": 286
    },
    "colab_type": "code",
    "id": "SjILvwPpNvCE",
    "outputId": "b90f47c4-e984-4341-c726-e64ad49391a7"
   },
   "outputs": [
    {
     "data": {
      "text/plain": [
       "<matplotlib.axes._subplots.AxesSubplot at 0x7fb18f6c8320>"
      ]
     },
     "execution_count": 25,
     "metadata": {
      "tags": []
     },
     "output_type": "execute_result"
    },
    {
     "data": {
      "image/png": "[encoded data removed]",
      "text/plain": [
       "<Figure size 432x288 with 1 Axes>"
      ]
     },
     "metadata": {
      "tags": []
     },
     "output_type": "display_data"
    }
   ],
   "source": [
    "df.plot()"
   ]
  },
  {
   "cell_type": "code",
   "execution_count": null,
   "metadata": {
    "colab": {},
    "colab_type": "code",
    "id": "vucZgwhmNylQ"
   },
   "outputs": [],
   "source": []
  }
 ],
 "metadata": {
  "colab": {
   "collapsed_sections": [],
   "name": "A gentle guide to digital for executives",
   "provenance": [],
   "version": "0.3.2"
  },
  "kernelspec": {
   "display_name": "Python 3",
   "language": "python",
   "name": "python3"
  },
  "language_info": {
   "codemirror_mode": {
    "name": "ipython",
    "version": 3
   },
   "file_extension": ".py",
   "mimetype": "text/x-python",
   "name": "python",
   "nbconvert_exporter": "python",
   "pygments_lexer": "ipython3",
   "version": "3.7.3"
  }
 },
 "nbformat": 4,
 "nbformat_minor": 2
}
