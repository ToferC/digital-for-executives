{
 "cells": [
  {
   "cell_type": "markdown",
   "metadata": {
    "colab_type": "text",
    "id": "t61c1ynXXXLo"
   },
   "source": [
    "# A gentle guide to digital for executives\n",
    "\n",
    "Welcome to an introduction to digital for executives. The idea behind this notebook is that by putting some basic programming into practice, you can learn a lot about how modern applications work and consequently, how the world and your business work."
   ]
  },
  {
   "cell_type": "markdown",
   "metadata": {
    "colab_type": "text",
    "id": "7xM-EI7uZ8G4"
   },
   "source": [
    "## Technology & digital are ubiquitous\n",
    "It's easy to see what technology does. It's around you and you use it hundreds of times each day. You drive your car, open your phone, check your texts and emails, take photographs, share them on social media, do your banking and video-call your family.\n",
    "\n",
    "Modern applications do all of this and more. They track and share data, conduct millions of mathematical operations in seconds and, more recently, can recognized patters in text, data and images - often better than people can.\n",
    "\n",
    "Regardless of your business, it is enabled and empowered through technology and digital. Put another way, digital is no longer a separate thing - it is part of our everyday world. If you don't understand digital, you don't understand how the world works, what challenges will arise or what possible solutions might exist.\n",
    "\n",
    "This guide will help. We will start with how applications work."
   ]
  },
  {
   "cell_type": "markdown",
   "metadata": {
    "colab_type": "text",
    "id": "htGdU79WaI_z"
   },
   "source": [
    "## Applications & Code\n",
    "To most people, applications are like magic. It doesn't make sense to ask how they work, because the answer itself is mysterious and arcane. So we accept the fact that they just **do** work and go about our business.\n",
    "\n",
    "But applications **are** understandable. They are like a house made of lego: complicated, but made of very simple building blocks that are organized to make something greater than its parts.\n",
    "\n",
    "Over time, programming languages have become more and more like natural human language. This makes them easier to understand as well as being easier to learn."
   ]
  },
  {
   "cell_type": "markdown",
   "metadata": {
    "colab_type": "text",
    "id": "LMyh9c-GbGQb"
   },
   "source": [
    "## Python\n",
    "We will be using a programming language named Python. It's named after Monty Python. One of the most popular and flexible programming languages and is the most used languages for data science. It's popular because it's easy to learn and understand."
   ]
  },
  {
   "cell_type": "markdown",
   "metadata": {
    "colab_type": "text",
    "id": "1vhoIDOicle5"
   },
   "source": [
    "Let's look at a piece of Python code:\n",
    "\n",
    "\n",
    "```\n",
    "if ate_breakfast == False:\n",
    "    print(\"You must be hungry.\")\n",
    "```\n",
    "\n"
   ]
  },
  {
   "cell_type": "markdown",
   "metadata": {
    "colab_type": "text",
    "id": "MImUrGjGcJEn"
   },
   "source": [
    "Even though you may never have seen any code before, you can probably figure out what this code will do if we run it. That's why people like Python."
   ]
  },
  {
   "cell_type": "markdown",
   "metadata": {
    "colab_type": "text",
    "id": "0zIFeBGQZ1je"
   },
   "source": [
    "\n",
    "The objective here isn't to memorize anything or to \"learn to code\". It's to put these building blocks of programming into practice. By doing so, you'll see and expeience first-hand how programs work."
   ]
  },
  {
   "cell_type": "markdown",
   "metadata": {
    "colab_type": "text",
    "id": "MKzsWwegdgbQ"
   },
   "source": [
    "## Jupyter Notebook & Google Collaboratory\n",
    "\n",
    "### Jupyter Notebook\n",
    "The Web page you're looking is based off a technology called a Jupyter Notebook. This lets you run a programming language like Python in a Web page. \n",
    "\n",
    "It's open source, which means that it's free to use and also that it's code is open for anyone to see. Because Jupyter was developed this way, a lot of people help to improve it and it's become one of the most important ways to teach, learn and experiment in data science.\n",
    "\n",
    "### Google Collaboratory\n",
    "Colab is developed by Google and hosts Jupyter Notebooks in the cloud in the same way that Google Docs hosts text documents.\n",
    "\n",
    "Together, these tools will let us share this notebook, work on it together and learn and experiment with Python from any computer or mobile device for free."
   ]
  },
  {
   "cell_type": "markdown",
   "metadata": {
    "colab_type": "text",
    "id": "vDanOUSBfoso"
   },
   "source": [
    "Jupyter uses **code cells**, like the one below to run Python scripts. The short script below computes a value, stores it in a variable, and prints the result:"
   ]
  },
  {
   "cell_type": "code",
   "execution_count": null,
   "metadata": {
    "colab": {
     "base_uri": "https://localhost:8080/",
     "height": 34
    },
    "colab_type": "code",
    "id": "uBgtn0zDbWkX",
    "outputId": "a63aaa62-2188-4bc5-8658-c5c007520bbf"
   },
   "outputs": [
    {
     "data": {
      "text/plain": [
       "3600"
      ]
     },
     "execution_count": 4,
     "metadata": {
      "tags": []
     },
     "output_type": "execute_result"
    }
   ],
   "source": [
    "seconds_in_an_hour = 60 * 60\n",
    "seconds_in_an_hour"
   ]
  },
  {
   "cell_type": "markdown",
   "metadata": {
    "colab_type": "text",
    "id": "AwRyvN8CgQjR"
   },
   "source": [
    "To execute the code in the above cell, select it with a click and then either press the play button to the left of the code, or use the keyboard shortcut \"Command/Ctrl+Enter\"."
   ]
  },
  {
   "cell_type": "markdown",
   "metadata": {
    "colab_type": "text",
    "id": "Kn4KuDYFhZSf"
   },
   "source": [
    "# Building blocks of code\n",
    "\n",
    "## Variables\n",
    "A variable is how you define an object in Python and store it in memory. They are very easy to use. \"seconds_in_an_hour\", above is a variable.\n",
    "\n",
    "We create a variable by naming it on the left, using an \"=\" in the middle and putting a value to the right.\n",
    "\n",
    "Variable names can be any combination of letters and numbers, but can't have spaces or start with a number.\n",
    "\n",
    "Thats why Python weites variables in \"snake_case\".\n",
    "\n",
    "Let's create a variable called my_name, assign in to your name and run the cell (click the Play button on hit CTL+Enter).\n",
    "\n",
    "Make sure to put your name in quotations. This tells Python that your name is text, which Python calls a string.\n",
    "\n",
    "\n"
   ]
  },
  {
   "cell_type": "code",
   "execution_count": null,
   "metadata": {
    "colab": {},
    "colab_type": "code",
    "id": "VYZNjMGNgoFs"
   },
   "outputs": [],
   "source": [
    "my_name = \"Chris\""
   ]
  },
  {
   "cell_type": "markdown",
   "metadata": {
    "colab_type": "text",
    "id": "XgrjbHlUitin"
   },
   "source": [
    "Fantastic! You've just created your first variable. This is now stored in memory. Once it's been created, you can access the variable by typing it in a cell, like below. Run the cell to show your variable."
   ]
  },
  {
   "cell_type": "code",
   "execution_count": null,
   "metadata": {
    "colab": {
     "base_uri": "https://localhost:8080/",
     "height": 34
    },
    "colab_type": "code",
    "id": "XIaYGtFJjAcD",
    "outputId": "f61c3bf6-2f51-4d93-aa98-c675f0785df3"
   },
   "outputs": [
    {
     "data": {
      "text/plain": [
       "'Chris'"
      ]
     },
     "execution_count": 7,
     "metadata": {
      "tags": []
     },
     "output_type": "execute_result"
    }
   ],
   "source": [
    "my_name"
   ]
  },
  {
   "cell_type": "markdown",
   "metadata": {
    "colab_type": "text",
    "id": "UK-PIhmekWPN"
   },
   "source": [
    "You can also change a variable after it's been created. Try changing name to your full name and then calling it again."
   ]
  },
  {
   "cell_type": "code",
   "execution_count": null,
   "metadata": {
    "colab": {
     "base_uri": "https://localhost:8080/",
     "height": 34
    },
    "colab_type": "code",
    "id": "pvs31GkAkWlh",
    "outputId": "2fcbad5d-de67-4373-9f9c-fe0ca8dc2c08"
   },
   "outputs": [
    {
     "data": {
      "text/plain": [
       "'First Last'"
      ]
     },
     "execution_count": 9,
     "metadata": {
      "tags": []
     },
     "output_type": "execute_result"
    }
   ],
   "source": [
    "my_name = \"First Last\"\n",
    "my_name"
   ]
  },
  {
   "cell_type": "markdown",
   "metadata": {
    "colab_type": "text",
    "id": "0N4qj09gjSkQ"
   },
   "source": [
    "Nice work! There are different kinds of variables too. We just used a string, but there are also:\n",
    "\n",
    "*   Integers (1, 2, 3, etc)\n",
    "*   Floats (1.2, 4.7, 3.14)\n",
    "*   Booleans (True, False)\n",
    "\n",
    "Python will automatically figure out what type of variable you are using when you create or modify it.\n",
    "\n",
    "\n"
   ]
  },
  {
   "cell_type": "code",
   "execution_count": null,
   "metadata": {
    "colab": {
     "base_uri": "https://localhost:8080/",
     "height": 34
    },
    "colab_type": "code",
    "id": "bFCW4qs_kpdx",
    "outputId": "90f66b98-84fd-4d6b-ca78-5090776d182d"
   },
   "outputs": [
    {
     "data": {
      "text/plain": [
       "10.14"
      ]
     },
     "execution_count": 11,
     "metadata": {
      "tags": []
     },
     "output_type": "execute_result"
    }
   ],
   "source": [
    "a = 7\n",
    "b = 3.14\n",
    "c = True"
   ]
  },
  {
   "cell_type": "code",
   "execution_count": null,
   "metadata": {
    "colab": {
     "base_uri": "https://localhost:8080/",
     "height": 34
    },
    "colab_type": "code",
    "id": "IAR6uADZmgpF",
    "outputId": "99359e47-27f2-482b-ef4e-5e464a6e0f92"
   },
   "outputs": [
    {
     "data": {
      "text/plain": [
       "(7, 3.14, True)"
      ]
     },
     "execution_count": 12,
     "metadata": {
      "tags": []
     },
     "output_type": "execute_result"
    }
   ],
   "source": [
    "a, b, c"
   ]
  },
  {
   "cell_type": "markdown",
   "metadata": {
    "colab_type": "text",
    "id": "hqVFpozOmoAg"
   },
   "source": [
    "You can also perform operations on variables of the same or comparable types. You can add, subtract, multiply, divide are more."
   ]
  },
  {
   "cell_type": "code",
   "execution_count": null,
   "metadata": {
    "colab": {
     "base_uri": "https://localhost:8080/",
     "height": 34
    },
    "colab_type": "code",
    "id": "SDaf2T1bmj7x",
    "outputId": "8c8900e8-6622-49bb-9f82-f765d2562e95"
   },
   "outputs": [
    {
     "data": {
      "text/plain": [
       "10.14"
      ]
     },
     "execution_count": 13,
     "metadata": {
      "tags": []
     },
     "output_type": "execute_result"
    }
   ],
   "source": [
    "a + b"
   ]
  },
  {
   "cell_type": "code",
   "execution_count": null,
   "metadata": {
    "colab": {
     "base_uri": "https://localhost:8080/",
     "height": 34
    },
    "colab_type": "code",
    "id": "GaUt0aivm5NW",
    "outputId": "f9592829-c91c-4197-ccd0-b5b9a7b90912"
   },
   "outputs": [
    {
     "data": {
      "text/plain": [
       "450.4098148671133"
      ]
     },
     "execution_count": 17,
     "metadata": {
      "tags": []
     },
     "output_type": "execute_result"
    }
   ],
   "source": [
    "a**b # to the power of"
   ]
  },
  {
   "cell_type": "markdown",
   "metadata": {
    "colab_type": "text",
    "id": "xmLA8qkxjS3w"
   },
   "source": [
    "Variables are important in programming because they are how we move data around and change things in an application. We will use variables a lot in the rest of the guide."
   ]
  },
  {
   "cell_type": "markdown",
   "metadata": {
    "colab_type": "text",
    "id": "PpGtqz9KxpFU"
   },
   "source": [
    "## Conditionals\n",
    "Conditionals are just a fancy way of seeing if something has happened or is true or false.  The first piece of Python we saw above was a conditional using the \"if\" statement.\n",
    "\n",
    "Here it is again:"
   ]
  },
  {
   "cell_type": "code",
   "execution_count": null,
   "metadata": {
    "colab": {
     "base_uri": "https://localhost:8080/",
     "height": 34
    },
    "colab_type": "code",
    "id": "7CsSwZH0yJHx",
    "outputId": "5cab5a52-2ac7-49dd-8f54-408cfc2968e3"
   },
   "outputs": [
    {
     "name": "stdout",
     "output_type": "stream",
     "text": [
      "You must be hungry.\n"
     ]
    }
   ],
   "source": [
    "if ate_breakfast == False:\n",
    "    print(\"You must be hungry.\")"
   ]
  },
  {
   "cell_type": "markdown",
   "metadata": {
    "colab_type": "text",
    "id": "peSsjm15yUZe"
   },
   "source": [
    "If you ran this cell, you saw an error. Specifically, you saw a NameError. The error showed you where the problem was and gave you a helpful tip: \"name 'ate_breakfast'\" is not defined.\n",
    "\n",
    "This means that we forgot to create our variable. With no variable, Python can't check to see if ate_breakfast is True or not, so we got an error.\n",
    "\n",
    "If you are writing code, you will see errors a LOT. Thankfully, modern programming tools are very good at helping you find out what is wrong.\n",
    "\n",
    "Let's fix our error now by assigning a variable."
   ]
  },
  {
   "cell_type": "code",
   "execution_count": null,
   "metadata": {
    "colab": {},
    "colab_type": "code",
    "id": "S4yXTeyryLX8"
   },
   "outputs": [],
   "source": [
    "ate_breakfast = True"
   ]
  },
  {
   "cell_type": "markdown",
   "metadata": {
    "colab_type": "text",
    "id": "3jLUeX2lxzrv"
   },
   "source": [
    "Now we'll run the if statement again."
   ]
  },
  {
   "cell_type": "code",
   "execution_count": null,
   "metadata": {
    "colab": {},
    "colab_type": "code",
    "id": "5wQV-fyNzAe0"
   },
   "outputs": [],
   "source": [
    "if ate_breakfast == False:\n",
    "    print(\"You must be hungry.\")"
   ]
  },
  {
   "cell_type": "markdown",
   "metadata": {
    "colab_type": "text",
    "id": "ehRLmFPGzGuu"
   },
   "source": [
    "If statements can also have alternatives, or \"else\" clauses."
   ]
  },
  {
   "cell_type": "code",
   "execution_count": null,
   "metadata": {
    "colab": {
     "base_uri": "https://localhost:8080/",
     "height": 34
    },
    "colab_type": "code",
    "id": "PkahEL6azEuL",
    "outputId": "0fc99227-9592-487b-9f96-8fa3d03abc3e"
   },
   "outputs": [
    {
     "name": "stdout",
     "output_type": "stream",
     "text": [
      "Nom nom\n"
     ]
    }
   ],
   "source": [
    "if ate_breakfast == False:\n",
    "    print(\"You must be hungry.\")\n",
    "else:\n",
    "    print(\"Nom nom\")"
   ]
  },
  {
   "cell_type": "markdown",
   "metadata": {
    "colab_type": "text",
    "id": "mCp63UXazkTZ"
   },
   "source": [
    "Conditionals let us guide and control our program. They can also check for other conditions, like:\n",
    "\n",
    "* greater than >\n",
    "* less than <\n",
    "* equal to ==\n",
    "\n",
    "Conditionals return a value of True or False depending on their evaluation. Run the cells below to see how they evaluate."
   ]
  },
  {
   "cell_type": "code",
   "execution_count": null,
   "metadata": {
    "colab": {
     "base_uri": "https://localhost:8080/",
     "height": 34
    },
    "colab_type": "code",
    "id": "9NTdD4hd0MiI",
    "outputId": "0349dbcb-6935-423f-a7db-ee40fbee8b8c"
   },
   "outputs": [
    {
     "data": {
      "text/plain": [
       "False"
      ]
     },
     "execution_count": 51,
     "metadata": {
      "tags": []
     },
     "output_type": "execute_result"
    }
   ],
   "source": [
    "2 > 5"
   ]
  },
  {
   "cell_type": "code",
   "execution_count": null,
   "metadata": {
    "colab": {
     "base_uri": "https://localhost:8080/",
     "height": 34
    },
    "colab_type": "code",
    "id": "NXZyFaOT0Wa6",
    "outputId": "be78aa04-2e11-42a0-fead-793fb56328e0"
   },
   "outputs": [
    {
     "data": {
      "text/plain": [
       "True"
      ]
     },
     "execution_count": 52,
     "metadata": {
      "tags": []
     },
     "output_type": "execute_result"
    }
   ],
   "source": [
    "14 == 14"
   ]
  },
  {
   "cell_type": "code",
   "execution_count": null,
   "metadata": {
    "colab": {
     "base_uri": "https://localhost:8080/",
     "height": 34
    },
    "colab_type": "code",
    "id": "W9NVS-Q90XTa",
    "outputId": "22f95c20-c3e7-403a-ff49-2d7a8102bcda"
   },
   "outputs": [
    {
     "data": {
      "text/plain": [
       "False"
      ]
     },
     "execution_count": 53,
     "metadata": {
      "tags": []
     },
     "output_type": "execute_result"
    }
   ],
   "source": [
    "True == False"
   ]
  },
  {
   "cell_type": "markdown",
   "metadata": {
    "colab_type": "text",
    "id": "siYy9ZcW0edW"
   },
   "source": []
  },
  {
   "cell_type": "markdown",
   "metadata": {
    "colab_type": "text",
    "id": "73ABOHa2nN3J"
   },
   "source": [
    "## Loops\n",
    "Loops are another very important building block for applications. Most of the time, when you are thinking about automating something, you're thinking of some sort of a loop.\n",
    "\n",
    "The simplest loop is the \"for\" loop, which repeats an action multiple times over a list of values. When it gets to the end of the list, it stops.\n",
    "\n",
    "In English, a loop would be: \"For every person on my team, show the hours worked on projects,\" or \"for every project underway, show the % complete and who is working on it.\"\n",
    "\n",
    "Here is an example of a loop in code."
   ]
  },
  {
   "cell_type": "code",
   "execution_count": null,
   "metadata": {
    "colab": {},
    "colab_type": "code",
    "id": "Xy1bBSNBoZqP"
   },
   "outputs": [],
   "source": [
    "# We start by declaring a variable \"people\". This variable is a data structure called a list. Lists let you store more than one value in a single variable.\n",
    "# They are great for loops.\n",
    "\n",
    "people = [\"Tom\", \"Mandy\", \"Anna\", \"Kent\", \"Ashley\"]"
   ]
  },
  {
   "cell_type": "code",
   "execution_count": null,
   "metadata": {
    "colab": {
     "base_uri": "https://localhost:8080/",
     "height": 104
    },
    "colab_type": "code",
    "id": "dP7FaJ3boZzi",
    "outputId": "56ad86f4-597d-49f1-a5ea-35f5f5504e08"
   },
   "outputs": [
    {
     "name": "stdout",
     "output_type": "stream",
     "text": [
      "Tom\n",
      "Mandy\n",
      "Anna\n",
      "Kent\n",
      "Ashley\n"
     ]
    }
   ],
   "source": [
    "for person in people:\n",
    "  print(person)"
   ]
  },
  {
   "cell_type": "markdown",
   "metadata": {
    "colab_type": "text",
    "id": "t2KaRHmGfF7_"
   },
   "source": [
    "Congratulations. You've just run your first automation in Python. An important note is that the code:\n",
    "\n",
    "\n",
    "```\n",
    "for person in people:\n",
    "  print(person)\n",
    "```\n",
    "Works exactly the same if there are five people or 5 million people.\n"
   ]
  },
  {
   "cell_type": "markdown",
   "metadata": {
    "colab_type": "text",
    "id": "Z8R3VeJjorZ2"
   },
   "source": [
    "You can also create loops with numbers or ranges."
   ]
  },
  {
   "cell_type": "code",
   "execution_count": null,
   "metadata": {
    "colab": {
     "base_uri": "https://localhost:8080/",
     "height": 86
    },
    "colab_type": "code",
    "id": "t7Lg64yIpVca",
    "outputId": "e7b34f3e-53f9-47a7-b99b-6de3893e6e0e"
   },
   "outputs": [
    {
     "name": "stdout",
     "output_type": "stream",
     "text": [
      "1\n",
      "4\n",
      "9\n",
      "16\n"
     ]
    }
   ],
   "source": [
    "for i in range(1,5): # The loop stops before the last number\n",
    "  print(i*i)  # Multiplies the number by itself or squares the number"
   ]
  },
  {
   "cell_type": "markdown",
   "metadata": {
    "colab_type": "text",
    "id": "7FWK6FYnqSbD"
   },
   "source": [
    "By combining loops and variables, we can do computations very quickly."
   ]
  },
  {
   "cell_type": "code",
   "execution_count": null,
   "metadata": {
    "colab": {
     "base_uri": "https://localhost:8080/",
     "height": 34
    },
    "colab_type": "code",
    "id": "9eBQXCelqalW",
    "outputId": "ad331ade-9a2e-494e-c8d7-5241e826de0f"
   },
   "outputs": [
    {
     "name": "stdout",
     "output_type": "stream",
     "text": [
      "The total of x to the power of x for 1 to 100 is 10405071317\n"
     ]
    }
   ],
   "source": [
    "total = 0  # our variable, which we will use to keep track of our total\n",
    "\n",
    "for i in range(1, 11):\n",
    "  total += i**i # += means \"add to\". ** means \"to the power of\"\n",
    "  \n",
    "print(\"The total of x to the power of x for 1 to 100 is\", total)"
   ]
  },
  {
   "cell_type": "markdown",
   "metadata": {
    "colab_type": "text",
    "id": "2OPt2y64hGWV"
   },
   "source": [
    "Loops let you act upon, modify or extract information from any range of data that you might have. Examples might be:\n",
    "*  users\n",
    "*  documents\n",
    "*  applications\n",
    "*  events"
   ]
  },
  {
   "cell_type": "markdown",
   "metadata": {
    "colab_type": "text",
    "id": "RYRkGPWLrqlm"
   },
   "source": [
    "## Functions\n",
    "Functions are the third major building block that we will look at. Look at where we type \"print\" above. You will see that print is followed by round brackets, like this: \"print()\" .\n",
    "\n",
    "Print, written print(\"something\") is a function. It prints out whatever is inside the brackets."
   ]
  },
  {
   "cell_type": "code",
   "execution_count": null,
   "metadata": {
    "colab": {
     "base_uri": "https://localhost:8080/",
     "height": 34
    },
    "colab_type": "code",
    "id": "-7DICQyVlJgG",
    "outputId": "476e710a-4528-45d4-c727-fbd4adda017b"
   },
   "outputs": [
    {
     "name": "stdout",
     "output_type": "stream",
     "text": [
      "ADD_SOMETHING_HERE\n"
     ]
    }
   ],
   "source": [
    "print(\"ADD_SOMETHING_HERE\")"
   ]
  },
  {
   "cell_type": "markdown",
   "metadata": {
    "colab_type": "text",
    "id": "6T6Nz7-ElYLy"
   },
   "source": [
    "You can create your own functions very easily. You just define your function by writing \"def\" (define), giving it a name and specifying what it does.\n",
    "\n",
    "The simplest functions just do a single thing. Here is an example:"
   ]
  },
  {
   "cell_type": "code",
   "execution_count": null,
   "metadata": {
    "colab": {},
    "colab_type": "code",
    "id": "VHA8JJiZst8k"
   },
   "outputs": [],
   "source": [
    "def bark():\n",
    "  print(\"Woof\")"
   ]
  },
  {
   "cell_type": "markdown",
   "metadata": {
    "colab_type": "text",
    "id": "oTtQDrR2tDIJ"
   },
   "source": [
    "Now you can call your function."
   ]
  },
  {
   "cell_type": "code",
   "execution_count": null,
   "metadata": {
    "colab": {
     "base_uri": "https://localhost:8080/",
     "height": 34
    },
    "colab_type": "code",
    "id": "T3m_6yUcs9i1",
    "outputId": "2457a608-0912-4d9d-bd1a-0d524b7a2d2f"
   },
   "outputs": [
    {
     "name": "stdout",
     "output_type": "stream",
     "text": [
      "Woof\n"
     ]
    }
   ],
   "source": [
    "bark()"
   ]
  },
  {
   "cell_type": "markdown",
   "metadata": {
    "colab_type": "text",
    "id": "_1nDsBHBtKWX"
   },
   "source": [
    "More complicated functions accept variables and do something to them."
   ]
  },
  {
   "cell_type": "code",
   "execution_count": null,
   "metadata": {
    "colab": {},
    "colab_type": "code",
    "id": "9jOKckKftJGf"
   },
   "outputs": [],
   "source": [
    "def say_hello(some_name):\n",
    "  print(\"Hello\", some_name)"
   ]
  },
  {
   "cell_type": "code",
   "execution_count": null,
   "metadata": {
    "colab": {
     "base_uri": "https://localhost:8080/",
     "height": 34
    },
    "colab_type": "code",
    "id": "LWgtWAEqtemr",
    "outputId": "b7308e82-3c68-4ae4-d69b-9273173202f6"
   },
   "outputs": [
    {
     "name": "stdout",
     "output_type": "stream",
     "text": [
      "Hello Chris\n"
     ]
    }
   ],
   "source": [
    "say_hello(my_name)"
   ]
  },
  {
   "cell_type": "markdown",
   "metadata": {
    "colab_type": "text",
    "id": "rnaYgoS_orkN"
   },
   "source": [
    "You'll notice two things here. First, we put the variable inside the brackets when we called the function. Python was expecting a value that it calls some_name.\n",
    "\n",
    "Second, because we entered \"my_name\", which was your variable from above, our say_hello function gave **you** a warm welcome."
   ]
  },
  {
   "cell_type": "markdown",
   "metadata": {
    "colab_type": "text",
    "id": "NHcbz-e1ur-0"
   },
   "source": [
    "## Building blocks\n",
    "Functions are like lego. They can build on top of each other. In fact, you can call functions from inside other functions.\n",
    "\n",
    "This is the secret to how applications work. They have a lot of very simple parts that are combined together like lego blocks. By defining variables, placing loops and calling functions, these simple blocks combine to do amazing things.\n",
    "\n",
    "Here is another example that uses functions, loops and variables."
   ]
  },
  {
   "cell_type": "code",
   "execution_count": null,
   "metadata": {
    "colab": {},
    "colab_type": "code",
    "id": "UKOeiitHu7rc"
   },
   "outputs": [],
   "source": [
    "def bad_dog(some_name, number_of_woofs):\n",
    "  # bad_dogs bark when they see someone new\n",
    "  # This function accepts a text string as a name and a number for the\n",
    "  # number of barks from the dog\n",
    "  \n",
    "  say_hello(some_name)\n",
    "  \n",
    "  for i in range(number_of_woofs):\n",
    "    bark()\n",
    "    \n",
    "  print(\"Don't go\", some_name, \"!\")\n",
    "  print(\"Bad dog!\")"
   ]
  },
  {
   "cell_type": "code",
   "execution_count": null,
   "metadata": {
    "colab": {
     "base_uri": "https://localhost:8080/",
     "height": 208
    },
    "colab_type": "code",
    "id": "MKktWdzFvXNa",
    "outputId": "5c3a9f79-44b7-43af-d362-1a98bc33c9d4"
   },
   "outputs": [
    {
     "name": "stdout",
     "output_type": "stream",
     "text": [
      "Hello Chris\n",
      "Woof\n",
      "Woof\n",
      "Woof\n",
      "Woof\n",
      "Woof\n",
      "Woof\n",
      "Woof\n",
      "Woof\n",
      "Don't go Chris !\n",
      "Bad dog!\n"
     ]
    }
   ],
   "source": [
    "bad_dog(my_name, 8)"
   ]
  },
  {
   "cell_type": "markdown",
   "metadata": {
    "colab_type": "text",
    "id": "bDGTVV6xwRIt"
   },
   "source": [
    "Using functions like this one, you can sort 100,000 documents in a few seconds, automatically generate graph plots, search for words in a text or run advanced statistical analysis on your organizations data."
   ]
  },
  {
   "cell_type": "markdown",
   "metadata": {
    "colab_type": "text",
    "id": "7rrVbcwXw_Av"
   },
   "source": [
    "This on it's own is very powerful and could change the way that you and your teams work.\n",
    "\n",
    "But there is something even more powerful about a programming language like Python. It is open source."
   ]
  },
  {
   "cell_type": "markdown",
   "metadata": {
    "colab_type": "text",
    "id": "6gDnIvnV1P0N"
   },
   "source": [
    "## Open Source & Libraries\n",
    "\n",
    "Open source is a kind of free software. It is different from other software because the source code is available to everyone and can be shared. This means that anyone can see how the source code works and can change it if they want to make it work differently. The opposite of open source is closed source.\n",
    "\n",
    "Open source software is often built by communities. Some private businesses also contribute because they reap the benefits of these community efforts, but more and more, businesses now have open source as a key piece of their business model. \n",
    "\n",
    "Despite being \"free\", the [internet would not exist](https://www.vice.com/en_us/article/43zak3/the-internet-was-built-on-the-free-labor-of-open-source-developers-is-that-sustainable) without open source software and the  [value of just a few major open source projects](https://qz.com/1474770/researchers-estimate-that-python-javascript-and-r-contribute-billions-to-gdp/) has been estimated in the billions of dollars. \n",
    "\n",
    "Open source software and open collaboration through platforms like GitHub or GitLab have also been shown as a [key driver of innovation](https://www.fastcompany.com/90364152/embracing-open-source-could-be-a-big-competitive-advantage-for-businesses).\n",
    "\n",
    "Open source software allows developers around the world to \"stand on the shoulders of giants\"; adding value to the world because they don't need to re-invent what has come before.  In Python this is usually done by adding a library.\n",
    "\n",
    "There are thousands of libraries for Python. This also contributes to its popularity. When you want to do something in Python, most often, someone has created a library for that task. If a library doesn't exist, it is easy to create. Then the next person doesn't need to re-create that wheel.\n",
    "\n",
    "Because of this, the usefulness of Python and its power has continued to increase and improve.\n",
    "\n",
    "There are libraries for image processing, mathematics, creating Web applications, Web scraping, data analysis, data visualization, machine learning and much more.\n",
    "\n",
    "We will use the requests library to do some simple Web scraping."
   ]
  },
  {
   "cell_type": "code",
   "execution_count": 7,
   "metadata": {
    "colab": {},
    "colab_type": "code",
    "id": "Bl9IzphFqUer"
   },
   "outputs": [],
   "source": [
    "# Requests allows us to easily work with the Web\n",
    "import requests"
   ]
  },
  {
   "cell_type": "code",
   "execution_count": 10,
   "metadata": {},
   "outputs": [],
   "source": [
    "# Json is a common data format - this library makes working with it easy\n",
    "import json"
   ]
  },
  {
   "cell_type": "code",
   "execution_count": 11,
   "metadata": {},
   "outputs": [],
   "source": [
    "trains = requests.get(\"https://www.septastats.com/api/current/system/latest\")"
   ]
  },
  {
   "cell_type": "code",
   "execution_count": 12,
   "metadata": {},
   "outputs": [],
   "source": [
    "if trains.status_code == 200:\n",
    "    train_data = json.loads(trains.content.decode('utf-8'))"
   ]
  },
  {
   "cell_type": "code",
   "execution_count": 28,
   "metadata": {},
   "outputs": [
    {
     "name": "stdout",
     "output_type": "stream",
     "text": [
      "208-Norristown 2019-07-14T10:51:37\n",
      "210-Norristown 2019-07-14T10:51:37\n",
      "211-Marcus Hook 2019-07-14T10:51:37\n",
      "307-Elwyn 2019-07-14T10:47:25\n",
      "309-Elwyn 2019-07-14T10:51:37\n",
      "310-West Trenton 2019-07-14T10:51:37\n",
      "312-West Trenton 2019-07-14T10:51:37\n",
      "420-Warminster 2019-07-14T10:51:37\n",
      "424-Warminster 2019-07-14T10:51:37\n",
      "425-Airport 2019-07-14T10:50:46\n",
      "429-Airport 2019-07-14T10:51:37\n",
      "508-Doylestown 2019-07-14T10:51:37\n",
      "512-Doylestown 2019-07-14T10:51:37\n",
      "513-Malvern 2019-07-14T10:51:37\n",
      "517-Malvern 2019-07-14T10:51:37\n",
      "708-Chestnut H East 2019-07-14T10:51:37\n",
      "711-Trenton 2019-07-14T10:51:37\n",
      "819-Chestnut H West 2019-07-14T10:51:37\n",
      "824-Fox Chase 2019-07-14T10:51:37\n",
      "9422-Temple U 2019-07-14T10:47:25\n",
      "9427-Airport 2019-07-14T10:50:46\n"
     ]
    }
   ],
   "source": [
    "for t in train_data[\"data\"]:\n",
    "    print(t[\"id\"], t[\"time\"])"
   ]
  },
  {
   "cell_type": "code",
   "execution_count": 29,
   "metadata": {},
   "outputs": [],
   "source": [
    "books = requests.get(\"https://www.googleapis.com/books/v1/volumes?q=all\")"
   ]
  },
  {
   "cell_type": "code",
   "execution_count": 30,
   "metadata": {},
   "outputs": [],
   "source": [
    "if books.status_code == 200:\n",
    "    book_data = json.loads(books.content.decode('utf-8'))"
   ]
  },
  {
   "cell_type": "code",
   "execution_count": 32,
   "metadata": {},
   "outputs": [
    {
     "data": {
      "text/plain": [
       "{'kind': 'books#volumes',\n",
       " 'totalItems': 6624,\n",
       " 'items': [{'kind': 'books#volume',\n",
       "   'id': 'gh8iA6IeNNkC',\n",
       "   'etag': 'R7G749JbP6I',\n",
       "   'selfLink': 'https://www.googleapis.com/books/v1/volumes/gh8iA6IeNNkC',\n",
       "   'volumeInfo': {'title': 'Kill All the Lawyers?',\n",
       "    'subtitle': \"Shakespeare's Legal Appeal\",\n",
       "    'authors': ['Daniel Kornstein'],\n",
       "    'publisher': 'U of Nebraska Press',\n",
       "    'publishedDate': '1994',\n",
       "    'description': 'Two-thirds of Shakespeare?s plays have trial scenes, and many deal specifically with lawyers, courts, judges, and points of law. Daniel Kornstein, a practicing attorney, looks at the legal issues and aspects of Shakespeare?s plays and finds fascinating parallels with many legal and social questions of the present day. The Elizabethan age was as litigious as our own, and Shakespeare was very familiar with the language and procedures of the courts. Kill All the Lawyers? examines the ways in which Shakespeare used the law for dramatic effect and incorporated the passion for justice into his great tragedies and comedies and considers the modern legal relevance of his work. ø This is a ground-breaking study in the field of literature and the law, ambitious and suggestive of the value of both our literary and our legal inheritance.',\n",
       "    'industryIdentifiers': [{'type': 'ISBN_10', 'identifier': '0803278217'},\n",
       "     {'type': 'ISBN_13', 'identifier': '9780803278219'}],\n",
       "    'readingModes': {'text': True, 'image': True},\n",
       "    'pageCount': 274,\n",
       "    'printType': 'BOOK',\n",
       "    'categories': ['Literary Criticism'],\n",
       "    'maturityRating': 'NOT_MATURE',\n",
       "    'allowAnonLogging': False,\n",
       "    'contentVersion': '0.0.2.0.preview.3',\n",
       "    'imageLinks': {'smallThumbnail': 'http://books.google.com/books/content?id=gh8iA6IeNNkC&printsec=frontcover&img=1&zoom=5&edge=curl&source=gbs_api',\n",
       "     'thumbnail': 'http://books.google.com/books/content?id=gh8iA6IeNNkC&printsec=frontcover&img=1&zoom=1&edge=curl&source=gbs_api'},\n",
       "    'language': 'en',\n",
       "    'previewLink': 'http://books.google.ca/books?id=gh8iA6IeNNkC&pg=PA22&dq=all&hl=&cd=1&source=gbs_api',\n",
       "    'infoLink': 'http://books.google.ca/books?id=gh8iA6IeNNkC&dq=all&hl=&source=gbs_api',\n",
       "    'canonicalVolumeLink': 'https://books.google.com/books/about/Kill_All_the_Lawyers.html?hl=&id=gh8iA6IeNNkC'},\n",
       "   'saleInfo': {'country': 'CA',\n",
       "    'saleability': 'NOT_FOR_SALE',\n",
       "    'isEbook': False},\n",
       "   'accessInfo': {'country': 'CA',\n",
       "    'viewability': 'PARTIAL',\n",
       "    'embeddable': True,\n",
       "    'publicDomain': False,\n",
       "    'textToSpeechPermission': 'ALLOWED',\n",
       "    'epub': {'isAvailable': True,\n",
       "     'acsTokenLink': 'http://books.google.ca/books/download/Kill_All_the_Lawyers-sample-epub.acsm?id=gh8iA6IeNNkC&format=epub&output=acs4_fulfillment_token&dl_type=sample&source=gbs_api'},\n",
       "    'pdf': {'isAvailable': False},\n",
       "    'webReaderLink': 'http://play.google.com/books/reader?id=gh8iA6IeNNkC&hl=&printsec=frontcover&source=gbs_api',\n",
       "    'accessViewStatus': 'SAMPLE',\n",
       "    'quoteSharingAllowed': False},\n",
       "   'searchInfo': {'textSnippet': '&quot;The first thing we do, let&#39;s kill <b>all</b> the lawyers&quot; (2 Henry VI, 4.2.78). These ten <br>\\nwords are Shakespeare&#39;s most well-known and lasting popular legacy to the law. <br>\\nIs it one of those key lines that seem to give us a glimpse into Shakespeare&#39;s own<br>\\n&nbsp;...'}},\n",
       "  {'kind': 'books#volume',\n",
       "   'id': '9f7K0n3UVBoC',\n",
       "   'etag': 'M4Zky9rpUBg',\n",
       "   'selfLink': 'https://www.googleapis.com/books/v1/volumes/9f7K0n3UVBoC',\n",
       "   'volumeInfo': {'title': 'Excel 2007 All-In-One Desk Reference For Dummies',\n",
       "    'authors': ['Greg Harvey'],\n",
       "    'publisher': 'John Wiley & Sons',\n",
       "    'publishedDate': '2011-02-10',\n",
       "    'description': 'Master the Ribbon, powerful graphics capabilities, and more! Your one-stop guide to great-looking spreadsheets that actually mean something Create colorful spreadsheets and charts, use Live Preview, and maximize everything Excel 2007 has to offer! Find just what you need to know about using the new Ribbon, designing spreadsheets that communicate, editing and printing them, working with formulas, protecting your data when you collaborate, turning out cool charts, and much more. The included four-color insert highlights the Ribbon, new graphics features, and more! Discover how to Create dynamic spreadsheets with style galleries Work with more than 40 new cell styles Automate formatting with Live Preview Share Excel data with other programs Use VBA to write custom Excel functions',\n",
       "    'industryIdentifiers': [{'type': 'ISBN_10', 'identifier': '1118050606'},\n",
       "     {'type': 'ISBN_13', 'identifier': '9781118050606'}],\n",
       "    'readingModes': {'text': True, 'image': True},\n",
       "    'pageCount': 816,\n",
       "    'printType': 'BOOK',\n",
       "    'categories': ['Computers'],\n",
       "    'averageRating': 5.0,\n",
       "    'ratingsCount': 2,\n",
       "    'maturityRating': 'NOT_MATURE',\n",
       "    'allowAnonLogging': True,\n",
       "    'contentVersion': '0.6.8.0.preview.3',\n",
       "    'panelizationSummary': {'containsEpubBubbles': False,\n",
       "     'containsImageBubbles': False},\n",
       "    'imageLinks': {'smallThumbnail': 'http://books.google.com/books/content?id=9f7K0n3UVBoC&printsec=frontcover&img=1&zoom=5&edge=curl&source=gbs_api',\n",
       "     'thumbnail': 'http://books.google.com/books/content?id=9f7K0n3UVBoC&printsec=frontcover&img=1&zoom=1&edge=curl&source=gbs_api'},\n",
       "    'language': 'en',\n",
       "    'previewLink': 'http://books.google.ca/books?id=9f7K0n3UVBoC&pg=PT71&dq=all&hl=&cd=2&source=gbs_api',\n",
       "    'infoLink': 'https://play.google.com/store/books/details?id=9f7K0n3UVBoC&source=gbs_api',\n",
       "    'canonicalVolumeLink': 'https://market.android.com/details?id=book-9f7K0n3UVBoC'},\n",
       "   'saleInfo': {'country': 'CA',\n",
       "    'saleability': 'FOR_SALE',\n",
       "    'isEbook': True,\n",
       "    'listPrice': {'amount': 21.99, 'currencyCode': 'CAD'},\n",
       "    'retailPrice': {'amount': 17.59, 'currencyCode': 'CAD'},\n",
       "    'buyLink': 'https://play.google.com/store/books/details?id=9f7K0n3UVBoC&rdid=book-9f7K0n3UVBoC&rdot=1&source=gbs_api',\n",
       "    'offers': [{'finskyOfferType': 1,\n",
       "      'listPrice': {'amountInMicros': 21990000.0, 'currencyCode': 'CAD'},\n",
       "      'retailPrice': {'amountInMicros': 17590000.0, 'currencyCode': 'CAD'},\n",
       "      'giftable': True}]},\n",
       "   'accessInfo': {'country': 'CA',\n",
       "    'viewability': 'PARTIAL',\n",
       "    'embeddable': True,\n",
       "    'publicDomain': False,\n",
       "    'textToSpeechPermission': 'ALLOWED',\n",
       "    'epub': {'isAvailable': True,\n",
       "     'acsTokenLink': 'http://books.google.ca/books/download/Excel_2007_All_In_One_Desk_Reference_For-sample-epub.acsm?id=9f7K0n3UVBoC&format=epub&output=acs4_fulfillment_token&dl_type=sample&source=gbs_api'},\n",
       "    'pdf': {'isAvailable': True,\n",
       "     'acsTokenLink': 'http://books.google.ca/books/download/Excel_2007_All_In_One_Desk_Reference_For-sample-pdf.acsm?id=9f7K0n3UVBoC&format=pdf&output=acs4_fulfillment_token&dl_type=sample&source=gbs_api'},\n",
       "    'webReaderLink': 'http://play.google.com/books/reader?id=9f7K0n3UVBoC&hl=&printsec=frontcover&source=gbs_api',\n",
       "    'accessViewStatus': 'SAMPLE',\n",
       "    'quoteSharingAllowed': False},\n",
       "   'searchInfo': {'textSnippet': 'The program automatically wants to save <b>all</b> new workbooks in its fancy new .<br>\\nXLSX file format (see Book I, Chapter 2 for a complete rundown on this new <br>\\nworkbook file format and the pros and cons of using it). If you don&#39;t want to save <br>\\nyour&nbsp;...'}},\n",
       "  {'kind': 'books#volume',\n",
       "   'id': '0YrW3bxxGAsC',\n",
       "   'etag': 'YE/ipirQZRc',\n",
       "   'selfLink': 'https://www.googleapis.com/books/v1/volumes/0YrW3bxxGAsC',\n",
       "   'volumeInfo': {'title': 'All the Women of the Bible',\n",
       "    'authors': ['Herbert Lockyer'],\n",
       "    'publisher': 'Zondervan',\n",
       "    'publishedDate': '1967',\n",
       "    'description': 'Dr. Herbert Lockyer provides a convenient commentary on all the named and unnamed women of the Bible from Abi to Zipporah.',\n",
       "    'industryIdentifiers': [{'type': 'ISBN_10', 'identifier': '0310281512'},\n",
       "     {'type': 'ISBN_13', 'identifier': '9780310281511'}],\n",
       "    'readingModes': {'text': False, 'image': False},\n",
       "    'pageCount': 321,\n",
       "    'printType': 'BOOK',\n",
       "    'categories': ['Religion'],\n",
       "    'averageRating': 4.0,\n",
       "    'ratingsCount': 18,\n",
       "    'maturityRating': 'NOT_MATURE',\n",
       "    'allowAnonLogging': False,\n",
       "    'contentVersion': '0.0.1.0.preview.0',\n",
       "    'imageLinks': {'smallThumbnail': 'http://books.google.com/books/content?id=0YrW3bxxGAsC&printsec=frontcover&img=1&zoom=5&edge=curl&source=gbs_api',\n",
       "     'thumbnail': 'http://books.google.com/books/content?id=0YrW3bxxGAsC&printsec=frontcover&img=1&zoom=1&edge=curl&source=gbs_api'},\n",
       "    'language': 'en',\n",
       "    'previewLink': 'http://books.google.ca/books?id=0YrW3bxxGAsC&pg=PA21&dq=all&hl=&cd=3&source=gbs_api',\n",
       "    'infoLink': 'http://books.google.ca/books?id=0YrW3bxxGAsC&dq=all&hl=&source=gbs_api',\n",
       "    'canonicalVolumeLink': 'https://books.google.com/books/about/All_the_Women_of_the_Bible.html?hl=&id=0YrW3bxxGAsC'},\n",
       "   'saleInfo': {'country': 'CA',\n",
       "    'saleability': 'NOT_FOR_SALE',\n",
       "    'isEbook': False},\n",
       "   'accessInfo': {'country': 'CA',\n",
       "    'viewability': 'PARTIAL',\n",
       "    'embeddable': True,\n",
       "    'publicDomain': False,\n",
       "    'textToSpeechPermission': 'ALLOWED',\n",
       "    'epub': {'isAvailable': False},\n",
       "    'pdf': {'isAvailable': False},\n",
       "    'webReaderLink': 'http://play.google.com/books/reader?id=0YrW3bxxGAsC&hl=&printsec=frontcover&source=gbs_api',\n",
       "    'accessViewStatus': 'SAMPLE',\n",
       "    'quoteSharingAllowed': False},\n",
       "   'searchInfo': {'textSnippet': 'The Life and Times of <b>All</b> the Women of the Bible Herbert Lockyer. Alphabetical <br>\\nExposition of Named Bible Women Abi to Zipporah. Many of the personal names <br>\\npeople are known by today go back to the early twilight of human history when&nbsp;...'}},\n",
       "  {'kind': 'books#volume',\n",
       "   'id': 'ride0fvtIMwC',\n",
       "   'etag': 'itpM15+ED7k',\n",
       "   'selfLink': 'https://www.googleapis.com/books/v1/volumes/ride0fvtIMwC',\n",
       "   'volumeInfo': {'title': 'What If All the Kids are White?',\n",
       "    'subtitle': 'Anti-bias Multicultural Education with Young Children and Families',\n",
       "    'authors': ['Louise Derman-Sparks', 'Patricia G. Ramsey'],\n",
       "    'publisher': 'Teachers College Press',\n",
       "    'publishedDate': '2006',\n",
       "    'description': 'In this compelling volume, distinguished educators tackle a frequently asked question about multicultural education: How do I teach about racial and cultural diversity if all my students are white? The authors propose seven learning themes to help young white children resist messages of racism and build identity and skills for thriving in a multicultural country and world. The text includes strategies, resources, and classroom examples for implementing the learning themes in early childhood settings. Taking multicultural education to a new level, this practical guide places the development of white children\\'s racial identity in the context of the historical construction of \"whiteness\" and racism in America, and suggests strategies for nurturing a new white identity as the starting place for anti-bias/multicultural work with children. It includes activities for families and staff, reflection questions, a review of white anti-racism activists, lists of suggested children\\'s books, and organizational and website resources.',\n",
       "    'industryIdentifiers': [{'type': 'ISBN_10', 'identifier': '0807746770'},\n",
       "     {'type': 'ISBN_13', 'identifier': '9780807746776'}],\n",
       "    'readingModes': {'text': False, 'image': True},\n",
       "    'pageCount': 187,\n",
       "    'printType': 'BOOK',\n",
       "    'categories': ['Education'],\n",
       "    'maturityRating': 'NOT_MATURE',\n",
       "    'allowAnonLogging': False,\n",
       "    'contentVersion': '1.2.0.0.preview.1',\n",
       "    'imageLinks': {'smallThumbnail': 'http://books.google.com/books/content?id=ride0fvtIMwC&printsec=frontcover&img=1&zoom=5&edge=curl&source=gbs_api',\n",
       "     'thumbnail': 'http://books.google.com/books/content?id=ride0fvtIMwC&printsec=frontcover&img=1&zoom=1&edge=curl&source=gbs_api'},\n",
       "    'language': 'en',\n",
       "    'previewLink': 'http://books.google.ca/books?id=ride0fvtIMwC&pg=PA1&dq=all&hl=&cd=4&source=gbs_api',\n",
       "    'infoLink': 'http://books.google.ca/books?id=ride0fvtIMwC&dq=all&hl=&source=gbs_api',\n",
       "    'canonicalVolumeLink': 'https://books.google.com/books/about/What_If_All_the_Kids_are_White.html?hl=&id=ride0fvtIMwC'},\n",
       "   'saleInfo': {'country': 'CA',\n",
       "    'saleability': 'NOT_FOR_SALE',\n",
       "    'isEbook': False},\n",
       "   'accessInfo': {'country': 'CA',\n",
       "    'viewability': 'PARTIAL',\n",
       "    'embeddable': True,\n",
       "    'publicDomain': False,\n",
       "    'textToSpeechPermission': 'ALLOWED',\n",
       "    'epub': {'isAvailable': False},\n",
       "    'pdf': {'isAvailable': False},\n",
       "    'webReaderLink': 'http://play.google.com/books/reader?id=ride0fvtIMwC&hl=&printsec=frontcover&source=gbs_api',\n",
       "    'accessViewStatus': 'SAMPLE',\n",
       "    'quoteSharingAllowed': False},\n",
       "   'searchInfo': {'textSnippet': '<b>All</b> the kids in my program are white. Not only that, but most of them are blond <br>\\nand come from similar ethnic and economic backgrounds. I want to use an anti-<br>\\nbias curriculum, but how can I bring up diversity to this group in a meaningful way<br>\\n?'}},\n",
       "  {'kind': 'books#volume',\n",
       "   'id': '6KKjJN0udTQC',\n",
       "   'etag': 'fEKLi6/ZWt0',\n",
       "   'selfLink': 'https://www.googleapis.com/books/v1/volumes/6KKjJN0udTQC',\n",
       "   'volumeInfo': {'title': 'All Souls',\n",
       "    'subtitle': 'A Family Story from Southie',\n",
       "    'authors': ['Michael Patrick MacDonald'],\n",
       "    'publisher': 'Random House Digital, Inc.',\n",
       "    'publishedDate': '2000',\n",
       "    'description': 'The author recounts growing up in a poor Irish neighborhood, and remembers the four brothers he lost to violence.',\n",
       "    'industryIdentifiers': [{'type': 'ISBN_13', 'identifier': '9780345441775'},\n",
       "     {'type': 'ISBN_10', 'identifier': '034544177X'}],\n",
       "    'readingModes': {'text': False, 'image': False},\n",
       "    'pageCount': 266,\n",
       "    'printType': 'BOOK',\n",
       "    'categories': ['Biography & Autobiography'],\n",
       "    'averageRating': 4.0,\n",
       "    'ratingsCount': 19,\n",
       "    'maturityRating': 'NOT_MATURE',\n",
       "    'allowAnonLogging': False,\n",
       "    'contentVersion': '0.1.0.0.preview.0',\n",
       "    'imageLinks': {'smallThumbnail': 'http://books.google.com/books/content?id=6KKjJN0udTQC&printsec=frontcover&img=1&zoom=5&edge=curl&source=gbs_api',\n",
       "     'thumbnail': 'http://books.google.com/books/content?id=6KKjJN0udTQC&printsec=frontcover&img=1&zoom=1&edge=curl&source=gbs_api'},\n",
       "    'language': 'en',\n",
       "    'previewLink': 'http://books.google.ca/books?id=6KKjJN0udTQC&pg=PA1&dq=all&hl=&cd=5&source=gbs_api',\n",
       "    'infoLink': 'http://books.google.ca/books?id=6KKjJN0udTQC&dq=all&hl=&source=gbs_api',\n",
       "    'canonicalVolumeLink': 'https://books.google.com/books/about/All_Souls.html?hl=&id=6KKjJN0udTQC'},\n",
       "   'saleInfo': {'country': 'CA',\n",
       "    'saleability': 'NOT_FOR_SALE',\n",
       "    'isEbook': False},\n",
       "   'accessInfo': {'country': 'CA',\n",
       "    'viewability': 'PARTIAL',\n",
       "    'embeddable': True,\n",
       "    'publicDomain': False,\n",
       "    'textToSpeechPermission': 'ALLOWED_FOR_ACCESSIBILITY',\n",
       "    'epub': {'isAvailable': False},\n",
       "    'pdf': {'isAvailable': False},\n",
       "    'webReaderLink': 'http://play.google.com/books/reader?id=6KKjJN0udTQC&hl=&printsec=frontcover&source=gbs_api',\n",
       "    'accessViewStatus': 'SAMPLE',\n",
       "    'quoteSharingAllowed': False},\n",
       "   'searchInfo': {'textSnippet': '<b>ALL</b>. SOULS&#39;. NIGHT. I WAS BACK IN SOUTHIE, &#39;THE BEST PLACE IN THE <br>\\nworld,&quot; as Ma used to say before the kids died. That&#39;s what we call them now, &quot;the <br>\\nkids.&quot; Even when we want to say their names, we sometimes get confused about<br>\\n&nbsp;...'}},\n",
       "  {'kind': 'books#volume',\n",
       "   'id': 'DmAer6Nz75kC',\n",
       "   'etag': 'PFXCXk9V5L4',\n",
       "   'selfLink': 'https://www.googleapis.com/books/v1/volumes/DmAer6Nz75kC',\n",
       "   'volumeInfo': {'title': 'We Shall be All',\n",
       "    'subtitle': 'A History of the Industrial Workers of the World',\n",
       "    'authors': ['Melvyn Dubofsky'],\n",
       "    'publisher': 'University of Illinois Press',\n",
       "    'publishedDate': '2000',\n",
       "    'description': 'Dubofsky\\'s careful historical treatment does not support or deny the ideology of the \"Wobblies\", but rather he attempts to understand the leadership and motivation of the early twentieth-century labor movement.',\n",
       "    'industryIdentifiers': [{'type': 'ISBN_10', 'identifier': '0252069056'},\n",
       "     {'type': 'ISBN_13', 'identifier': '9780252069055'}],\n",
       "    'readingModes': {'text': False, 'image': True},\n",
       "    'pageCount': 288,\n",
       "    'printType': 'BOOK',\n",
       "    'categories': ['Business & Economics'],\n",
       "    'maturityRating': 'NOT_MATURE',\n",
       "    'allowAnonLogging': False,\n",
       "    'contentVersion': '1.1.2.0.preview.1',\n",
       "    'panelizationSummary': {'containsEpubBubbles': False,\n",
       "     'containsImageBubbles': False},\n",
       "    'imageLinks': {'smallThumbnail': 'http://books.google.com/books/content?id=DmAer6Nz75kC&printsec=frontcover&img=1&zoom=5&edge=curl&source=gbs_api',\n",
       "     'thumbnail': 'http://books.google.com/books/content?id=DmAer6Nz75kC&printsec=frontcover&img=1&zoom=1&edge=curl&source=gbs_api'},\n",
       "    'language': 'en',\n",
       "    'previewLink': 'http://books.google.ca/books?id=DmAer6Nz75kC&pg=PA273&dq=all&hl=&cd=6&source=gbs_api',\n",
       "    'infoLink': 'http://books.google.ca/books?id=DmAer6Nz75kC&dq=all&hl=&source=gbs_api',\n",
       "    'canonicalVolumeLink': 'https://books.google.com/books/about/We_Shall_be_All.html?hl=&id=DmAer6Nz75kC'},\n",
       "   'saleInfo': {'country': 'CA',\n",
       "    'saleability': 'NOT_FOR_SALE',\n",
       "    'isEbook': False},\n",
       "   'accessInfo': {'country': 'CA',\n",
       "    'viewability': 'PARTIAL',\n",
       "    'embeddable': True,\n",
       "    'publicDomain': False,\n",
       "    'textToSpeechPermission': 'ALLOWED',\n",
       "    'epub': {'isAvailable': False},\n",
       "    'pdf': {'isAvailable': False},\n",
       "    'webReaderLink': 'http://play.google.com/books/reader?id=DmAer6Nz75kC&hl=&printsec=frontcover&source=gbs_api',\n",
       "    'accessViewStatus': 'SAMPLE',\n",
       "    'quoteSharingAllowed': False},\n",
       "   'searchInfo': {'textSnippet': 'No historian has yet attempted a scholarly general history of the IWW since the <br>\\npublication of We Shall Be <b>All</b> in 1969. That is not to say that the Wobblies have <br>\\nlacked historians. Numerous studies have appeared in the past few decades that<br>\\n&nbsp;...'}},\n",
       "  {'kind': 'books#volume',\n",
       "   'id': '7fXS9xItxfcC',\n",
       "   'etag': 'edCwVluRppw',\n",
       "   'selfLink': 'https://www.googleapis.com/books/v1/volumes/7fXS9xItxfcC',\n",
       "   'volumeInfo': {'title': \"For All God's Worth\",\n",
       "    'subtitle': 'True Worship and the Calling of the Church',\n",
       "    'authors': ['N. T. Wright'],\n",
       "    'publisher': 'Wm. B. Eerdmans Publishing',\n",
       "    'publishedDate': '1997-04-17',\n",
       "    'description': 'All Christians worship God, but many do not fully understand what \"worship\" means. This insightful book by N.T. Wright explores both the meaning and the results of worship. Part 1, \"The God Who is Worthy of Praise,\" focuses on God and on what worshiping God actually means. Part 2, \"Reflecting God\\'s Image in the World,\" addresses a range of church-related issues that arise from the activity of worship. Based firmly on sensitive and creative readings of the biblical text, For All God\\'s Worth is an inspiring call for renewal in the worship and witness of today\\'s church.',\n",
       "    'industryIdentifiers': [{'type': 'ISBN_10', 'identifier': '0802843190'},\n",
       "     {'type': 'ISBN_13', 'identifier': '9780802843197'}],\n",
       "    'readingModes': {'text': True, 'image': True},\n",
       "    'pageCount': 144,\n",
       "    'printType': 'BOOK',\n",
       "    'categories': ['Religion'],\n",
       "    'averageRating': 4.0,\n",
       "    'ratingsCount': 5,\n",
       "    'maturityRating': 'NOT_MATURE',\n",
       "    'allowAnonLogging': True,\n",
       "    'contentVersion': '2.0.3.0.preview.3',\n",
       "    'panelizationSummary': {'containsEpubBubbles': False,\n",
       "     'containsImageBubbles': False},\n",
       "    'imageLinks': {'smallThumbnail': 'http://books.google.com/books/content?id=7fXS9xItxfcC&printsec=frontcover&img=1&zoom=5&edge=curl&source=gbs_api',\n",
       "     'thumbnail': 'http://books.google.com/books/content?id=7fXS9xItxfcC&printsec=frontcover&img=1&zoom=1&edge=curl&source=gbs_api'},\n",
       "    'language': 'en',\n",
       "    'previewLink': 'http://books.google.ca/books?id=7fXS9xItxfcC&pg=PA14&dq=all&hl=&cd=7&source=gbs_api',\n",
       "    'infoLink': 'https://play.google.com/store/books/details?id=7fXS9xItxfcC&source=gbs_api',\n",
       "    'canonicalVolumeLink': 'https://market.android.com/details?id=book-7fXS9xItxfcC'},\n",
       "   'saleInfo': {'country': 'CA',\n",
       "    'saleability': 'FOR_SALE',\n",
       "    'isEbook': True,\n",
       "    'listPrice': {'amount': 13.39, 'currencyCode': 'CAD'},\n",
       "    'retailPrice': {'amount': 9.99, 'currencyCode': 'CAD'},\n",
       "    'buyLink': 'https://play.google.com/store/books/details?id=7fXS9xItxfcC&rdid=book-7fXS9xItxfcC&rdot=1&source=gbs_api',\n",
       "    'offers': [{'finskyOfferType': 1,\n",
       "      'listPrice': {'amountInMicros': 13390000.0, 'currencyCode': 'CAD'},\n",
       "      'retailPrice': {'amountInMicros': 9990000.0, 'currencyCode': 'CAD'},\n",
       "      'giftable': True}]},\n",
       "   'accessInfo': {'country': 'CA',\n",
       "    'viewability': 'PARTIAL',\n",
       "    'embeddable': True,\n",
       "    'publicDomain': False,\n",
       "    'textToSpeechPermission': 'ALLOWED',\n",
       "    'epub': {'isAvailable': True,\n",
       "     'acsTokenLink': 'http://books.google.ca/books/download/For_All_God_s_Worth-sample-epub.acsm?id=7fXS9xItxfcC&format=epub&output=acs4_fulfillment_token&dl_type=sample&source=gbs_api'},\n",
       "    'pdf': {'isAvailable': True,\n",
       "     'acsTokenLink': 'http://books.google.ca/books/download/For_All_God_s_Worth-sample-pdf.acsm?id=7fXS9xItxfcC&format=pdf&output=acs4_fulfillment_token&dl_type=sample&source=gbs_api'},\n",
       "    'webReaderLink': 'http://play.google.com/books/reader?id=7fXS9xItxfcC&hl=&printsec=frontcover&source=gbs_api',\n",
       "    'accessViewStatus': 'SAMPLE',\n",
       "    'quoteSharingAllowed': False},\n",
       "   'searchInfo': {'textSnippet': 'It is <b>all</b> too easy to suppose that, when we turn from worship to work, we turn from <br>\\nthinking about God to thinking about ourselves. Not so, says St Paul in a <br>\\nmagnificent passage in 2 Corinthians 5.11-21: &#39;It is <b>all</b> God&#39;s work&#39; (v. 18). It isn&#39;t <br>\\njust us&nbsp;...'}},\n",
       "  {'kind': 'books#volume',\n",
       "   'id': 'IqEqCyW0LdAC',\n",
       "   'etag': '/Z0LC6u2U8s',\n",
       "   'selfLink': 'https://www.googleapis.com/books/v1/volumes/IqEqCyW0LdAC',\n",
       "   'volumeInfo': {'title': 'All in All',\n",
       "    'subtitle': 'Unity, Diversity, and the Miltonic Perspective',\n",
       "    'authors': ['Charles W. Durham', 'Kristin A. Pruitt'],\n",
       "    'publisher': 'Susquehanna University Press',\n",
       "    'publishedDate': '1999',\n",
       "    'description': \"The sixteen essays in this collection reflect the individuality and diversity of varied ideas and approaches to Milton scholarship. They demonstrate the continued scholarly commitment to a search for truths in and about Milton's works, a process that began in the seventeenth century and promises to continue unabated into the next millennium.\",\n",
       "    'industryIdentifiers': [{'type': 'ISBN_10', 'identifier': '1575910160'},\n",
       "     {'type': 'ISBN_13', 'identifier': '9781575910161'}],\n",
       "    'readingModes': {'text': True, 'image': True},\n",
       "    'pageCount': 268,\n",
       "    'printType': 'BOOK',\n",
       "    'categories': ['Literary Criticism'],\n",
       "    'maturityRating': 'NOT_MATURE',\n",
       "    'allowAnonLogging': False,\n",
       "    'contentVersion': '1.0.1.0.preview.3',\n",
       "    'panelizationSummary': {'containsEpubBubbles': False,\n",
       "     'containsImageBubbles': False},\n",
       "    'imageLinks': {'smallThumbnail': 'http://books.google.com/books/content?id=IqEqCyW0LdAC&printsec=frontcover&img=1&zoom=5&edge=curl&source=gbs_api',\n",
       "     'thumbnail': 'http://books.google.com/books/content?id=IqEqCyW0LdAC&printsec=frontcover&img=1&zoom=1&edge=curl&source=gbs_api'},\n",
       "    'language': 'en',\n",
       "    'previewLink': 'http://books.google.ca/books?id=IqEqCyW0LdAC&pg=PA39&dq=all&hl=&cd=8&source=gbs_api',\n",
       "    'infoLink': 'https://play.google.com/store/books/details?id=IqEqCyW0LdAC&source=gbs_api',\n",
       "    'canonicalVolumeLink': 'https://market.android.com/details?id=book-IqEqCyW0LdAC'},\n",
       "   'saleInfo': {'country': 'CA',\n",
       "    'saleability': 'FOR_SALE',\n",
       "    'isEbook': True,\n",
       "    'listPrice': {'amount': 60.37, 'currencyCode': 'CAD'},\n",
       "    'retailPrice': {'amount': 48.3, 'currencyCode': 'CAD'},\n",
       "    'buyLink': 'https://play.google.com/store/books/details?id=IqEqCyW0LdAC&rdid=book-IqEqCyW0LdAC&rdot=1&source=gbs_api',\n",
       "    'offers': [{'finskyOfferType': 1,\n",
       "      'listPrice': {'amountInMicros': 60370000.0, 'currencyCode': 'CAD'},\n",
       "      'retailPrice': {'amountInMicros': 48300000.0, 'currencyCode': 'CAD'},\n",
       "      'giftable': True}]},\n",
       "   'accessInfo': {'country': 'CA',\n",
       "    'viewability': 'PARTIAL',\n",
       "    'embeddable': True,\n",
       "    'publicDomain': False,\n",
       "    'textToSpeechPermission': 'ALLOWED',\n",
       "    'epub': {'isAvailable': True,\n",
       "     'acsTokenLink': 'http://books.google.ca/books/download/All_in_All-sample-epub.acsm?id=IqEqCyW0LdAC&format=epub&output=acs4_fulfillment_token&dl_type=sample&source=gbs_api'},\n",
       "    'pdf': {'isAvailable': True,\n",
       "     'acsTokenLink': 'http://books.google.ca/books/download/All_in_All-sample-pdf.acsm?id=IqEqCyW0LdAC&format=pdf&output=acs4_fulfillment_token&dl_type=sample&source=gbs_api'},\n",
       "    'webReaderLink': 'http://play.google.com/books/reader?id=IqEqCyW0LdAC&hl=&printsec=frontcover&source=gbs_api',\n",
       "    'accessViewStatus': 'SAMPLE',\n",
       "    'quoteSharingAllowed': False},\n",
       "   'searchInfo': {'textSnippet': 'ALBERT C. LABRIOLA I intend to analyze one word in Paradise Lost — &quot;<b>all</b>&quot; — <br>\\nas it recurs in numerous phrases and as it is implied in countless others. Explicit <br>\\nor implied uses of &quot;<b>all</b>&quot; in Milton&#39;s epic will drive my presentation, even to the <br>\\nextent&nbsp;...'}},\n",
       "  {'kind': 'books#volume',\n",
       "   'id': 'Zb_8bFRFjiAC',\n",
       "   'etag': '4S/pxNGGBHQ',\n",
       "   'selfLink': 'https://www.googleapis.com/books/v1/volumes/Zb_8bFRFjiAC',\n",
       "   'volumeInfo': {'title': 'All about bongos',\n",
       "    'subtitle': 'everything you need to know to start playing now!',\n",
       "    'authors': ['Kalani'],\n",
       "    'publisher': 'Alfred Music Publishing',\n",
       "    'publishedDate': '2003',\n",
       "    'description': 'In-depth coverage of popular percussion instruments, including history, tuning, maintenance, techniques, exercises, ensembles, and more, from a world-renowned educator and performer, Kalani. Each book comes with an enhanced CD featuring additional multimedia content, including demonstrations of all rhythms and techniques and tuning instructions.',\n",
       "    'industryIdentifiers': [{'type': 'ISBN_10', 'identifier': '0739033867'},\n",
       "     {'type': 'ISBN_13', 'identifier': '9780739033869'}],\n",
       "    'readingModes': {'text': False, 'image': True},\n",
       "    'pageCount': 34,\n",
       "    'printType': 'BOOK',\n",
       "    'categories': ['Music'],\n",
       "    'averageRating': 3.0,\n",
       "    'ratingsCount': 1,\n",
       "    'maturityRating': 'NOT_MATURE',\n",
       "    'allowAnonLogging': False,\n",
       "    'contentVersion': '0.0.1.0.preview.1',\n",
       "    'imageLinks': {'smallThumbnail': 'http://books.google.com/books/content?id=Zb_8bFRFjiAC&printsec=frontcover&img=1&zoom=5&edge=curl&source=gbs_api',\n",
       "     'thumbnail': 'http://books.google.com/books/content?id=Zb_8bFRFjiAC&printsec=frontcover&img=1&zoom=1&edge=curl&source=gbs_api'},\n",
       "    'language': 'en',\n",
       "    'previewLink': 'http://books.google.ca/books?id=Zb_8bFRFjiAC&pg=PA3&dq=all&hl=&cd=9&source=gbs_api',\n",
       "    'infoLink': 'http://books.google.ca/books?id=Zb_8bFRFjiAC&dq=all&hl=&source=gbs_api',\n",
       "    'canonicalVolumeLink': 'https://books.google.com/books/about/All_about_bongos.html?hl=&id=Zb_8bFRFjiAC'},\n",
       "   'saleInfo': {'country': 'CA',\n",
       "    'saleability': 'NOT_FOR_SALE',\n",
       "    'isEbook': False},\n",
       "   'accessInfo': {'country': 'CA',\n",
       "    'viewability': 'PARTIAL',\n",
       "    'embeddable': True,\n",
       "    'publicDomain': False,\n",
       "    'textToSpeechPermission': 'ALLOWED',\n",
       "    'epub': {'isAvailable': False},\n",
       "    'pdf': {'isAvailable': False},\n",
       "    'webReaderLink': 'http://play.google.com/books/reader?id=Zb_8bFRFjiAC&hl=&printsec=frontcover&source=gbs_api',\n",
       "    'accessViewStatus': 'SAMPLE',\n",
       "    'quoteSharingAllowed': False},\n",
       "   'searchInfo': {'textSnippet': 'Jerry&#39;s classes taught me and many other students <b>all</b> the fundamentals of <br>\\nplaying both Latin instruments (congas, bongos, timbales) and Brazilian <br>\\ninstruments (ganza, pandeiro, tamborim), as well as how to play the music of <br>\\nmany cultures.'}},\n",
       "  {'kind': 'books#volume',\n",
       "   'id': 'edYbAZ7ECEoC',\n",
       "   'etag': 'fLp7DMaLLdM',\n",
       "   'selfLink': 'https://www.googleapis.com/books/v1/volumes/edYbAZ7ECEoC',\n",
       "   'volumeInfo': {'title': 'New Worlds for All',\n",
       "    'subtitle': 'Indians, Europeans, and the Remaking of Early America',\n",
       "    'authors': ['Colin G. Calloway'],\n",
       "    'publisher': 'JHU Press',\n",
       "    'publishedDate': '1998-02-18',\n",
       "    'description': \"Although many Americans consider the establishment of the colonies as the birth of this country, in fact Early America already existed long before the arrival of the Europeans. From coast to coast, Native Americans had created enduring cultures, and the subsequent European invasion remade much of the existing land and culture. In New Worlds for All, Colin Calloway explores the unique and vibrant new cultures that Indians and Europeans forged together in early America. The journey toward this hybrid society kept Europeans' and Indians' lives tightly entwined: living, working, worshiping, traveling, and trading together—as well as fearing, avoiding, despising, and killing one another. In the West, settlers lived in Indian towns, eating Indian food. In Mohawk Valley, New York, Europeans tattooed their faces; Indians drank tea. And, a unique American identity emerged.\",\n",
       "    'industryIdentifiers': [{'type': 'ISBN_10', 'identifier': '080185959X'},\n",
       "     {'type': 'ISBN_13', 'identifier': '9780801859595'}],\n",
       "    'readingModes': {'text': False, 'image': True},\n",
       "    'pageCount': 229,\n",
       "    'printType': 'BOOK',\n",
       "    'categories': ['History'],\n",
       "    'maturityRating': 'NOT_MATURE',\n",
       "    'allowAnonLogging': False,\n",
       "    'contentVersion': '0.0.1.0.preview.1',\n",
       "    'imageLinks': {'smallThumbnail': 'http://books.google.com/books/content?id=edYbAZ7ECEoC&printsec=frontcover&img=1&zoom=5&edge=curl&source=gbs_api',\n",
       "     'thumbnail': 'http://books.google.com/books/content?id=edYbAZ7ECEoC&printsec=frontcover&img=1&zoom=1&edge=curl&source=gbs_api'},\n",
       "    'language': 'en',\n",
       "    'previewLink': 'http://books.google.ca/books?id=edYbAZ7ECEoC&pg=PA8&dq=all&hl=&cd=10&source=gbs_api',\n",
       "    'infoLink': 'http://books.google.ca/books?id=edYbAZ7ECEoC&dq=all&hl=&source=gbs_api',\n",
       "    'canonicalVolumeLink': 'https://books.google.com/books/about/New_Worlds_for_All.html?hl=&id=edYbAZ7ECEoC'},\n",
       "   'saleInfo': {'country': 'CA',\n",
       "    'saleability': 'NOT_FOR_SALE',\n",
       "    'isEbook': False},\n",
       "   'accessInfo': {'country': 'CA',\n",
       "    'viewability': 'PARTIAL',\n",
       "    'embeddable': True,\n",
       "    'publicDomain': False,\n",
       "    'textToSpeechPermission': 'ALLOWED',\n",
       "    'epub': {'isAvailable': False},\n",
       "    'pdf': {'isAvailable': False},\n",
       "    'webReaderLink': 'http://play.google.com/books/reader?id=edYbAZ7ECEoC&hl=&printsec=frontcover&source=gbs_api',\n",
       "    'accessViewStatus': 'SAMPLE',\n",
       "    'quoteSharingAllowed': False},\n",
       "   'searchInfo': {'textSnippet': '&quot;Its vanished trees . . . had once pandered to the last and greatest of <b>all</b> human <br>\\ndreams; for a transitory enchanted moment man must have held his breath in the <br>\\npresence of this continent, compelled into an aesthetic contemplation he neither<br>\\n&nbsp;...'}}]}"
      ]
     },
     "execution_count": 32,
     "metadata": {},
     "output_type": "execute_result"
    }
   ],
   "source": [
    "book_data"
   ]
  },
  {
   "cell_type": "code",
   "execution_count": 6,
   "metadata": {},
   "outputs": [
    {
     "data": {
      "text/plain": [
       "b'{\\n    \"metadata\": {\\n        \"elapsed\": 0.6877419948577881,\\n        \"_comment\": \"Info on all currently running trains.\"\\n    },\\n    \"data\": [\\n        {\\n            \"id\": \"208-Norristown\",\\n            \"time\": \"2019-07-14T10:46:35\",\\n            \"late\": \"3\",\\n            \"lat\": \"39.992082333333\",\\n            \"lon\": \"-75.153762333333\",\\n            \"nextstop\": \"North Broad St\",\\n            \"source\": \"Marcus Hook\",\\n            \"dest\": \"Norristown\"\\n        },\\n        {\\n            \"id\": \"210-Norristown\",\\n            \"time\": \"2019-07-14T10:46:35\",\\n            \"late\": \"0\",\\n            \"lat\": \"39.773434666667\",\\n            \"lon\": \"-75.480944833333\",\\n            \"nextstop\": \"Claymont\",\\n            \"source\": \"Wilmington\",\\n            \"dest\": \"Norristown\"\\n        },\\n        {\\n            \"id\": \"211-Marcus Hook\",\\n            \"time\": \"2019-07-14T10:46:35\",\\n            \"late\": \"2\",\\n            \"lat\": \"39.938847166667\",\\n            \"lon\": \"-75.211407666667\",\\n            \"nextstop\": \"Darby\",\\n            \"source\": \"Norristown\",\\n            \"dest\": \"Marcus Hook\"\\n        },\\n        {\\n            \"id\": \"213-Wilmington\",\\n            \"time\": \"2019-07-14T10:42:23\",\\n            \"late\": \"1\",\\n            \"lat\": \"40.11321\",\\n            \"lon\": \"-75.34562\",\\n            \"nextstop\": \"Norristown TC\",\\n            \"source\": \"Norristown TC\",\\n            \"dest\": \"Wilmington\"\\n        },\\n        {\\n            \"id\": \"307-Elwyn\",\\n            \"time\": \"2019-07-14T10:46:35\",\\n            \"late\": \"0\",\\n            \"lat\": \"40.121018\",\\n            \"lon\": \"-75.344984\",\\n            \"nextstop\": \"Elwyn Station\",\\n            \"source\": \"West Trenton\",\\n            \"dest\": \"Elwyn\"\\n        },\\n        {\\n            \"id\": \"309-Elwyn\",\\n            \"time\": \"2019-07-14T10:46:35\",\\n            \"late\": \"3\",\\n            \"lat\": \"40.041395333333\",\\n            \"lon\": \"-75.134833166667\",\\n            \"nextstop\": \"Jenkintown-Wyncote\",\\n            \"source\": \"West Trenton\",\\n            \"dest\": \"Elwyn\"\\n        },\\n        {\\n            \"id\": \"310-West Trenton\",\\n            \"time\": \"2019-07-14T10:46:35\",\\n            \"late\": \"1\",\\n            \"lat\": \"40.103984\",\\n            \"lon\": \"-75.1262885\",\\n            \"nextstop\": \"Jenkintown-Wyncote\",\\n            \"source\": \"Elwyn\",\\n            \"dest\": \"West Trenton\"\\n        },\\n        {\\n            \"id\": \"312-West Trenton\",\\n            \"time\": \"2019-07-14T10:46:35\",\\n            \"late\": \"1\",\\n            \"lat\": \"39.902356333333\",\\n            \"lon\": \"-75.3508615\",\\n            \"nextstop\": \"Swarthmore\",\\n            \"source\": \"Elwyn\",\\n            \"dest\": \"West Trenton\"\\n        },\\n        {\\n            \"id\": \"420-Warminster\",\\n            \"time\": \"2019-07-14T10:46:35\",\\n            \"late\": \"0\",\\n            \"lat\": \"40.117668166667\",\\n            \"lon\": \"-75.147199333333\",\\n            \"nextstop\": \"Roslyn\",\\n            \"source\": \"Airport\",\\n            \"dest\": \"Warminster\"\\n        },\\n        {\\n            \"id\": \"424-Warminster\",\\n            \"time\": \"2019-07-14T10:46:35\",\\n            \"late\": \"0\",\\n            \"lat\": \"39.94710\",\\n            \"lon\": \"-75.19120\",\\n            \"nextstop\": \"30th Street Station\",\\n            \"source\": \"University City\",\\n            \"dest\": \"Warminster\"\\n        },\\n        {\\n            \"id\": \"425-Airport\",\\n            \"time\": \"2019-07-14T10:46:35\",\\n            \"late\": \"2\",\\n            \"lat\": \"39.875737166667\",\\n            \"lon\": \"-75.255776666667\",\\n            \"nextstop\": \"Airport Terminal A\",\\n            \"source\": \"Warminster\",\\n            \"dest\": \"Airport\"\\n        },\\n        {\\n            \"id\": \"429-Airport\",\\n            \"time\": \"2019-07-14T10:46:35\",\\n            \"late\": \"3\",\\n            \"lat\": \"40.119327833333\",\\n            \"lon\": \"-75.140228\",\\n            \"nextstop\": \"Ardsley\",\\n            \"source\": \"Warminster\",\\n            \"dest\": \"Airport\"\\n        },\\n        {\\n            \"id\": \"508-Doylestown\",\\n            \"time\": \"2019-07-14T10:46:35\",\\n            \"late\": \"7\",\\n            \"lat\": \"40.299226\",\\n            \"lon\": \"-75.1707385\",\\n            \"nextstop\": \"Delaware Valley College\",\\n            \"source\": \"Bryn Mawr\",\\n            \"dest\": \"Doylestown\"\\n        },\\n        {\\n            \"id\": \"512-Doylestown\",\\n            \"time\": \"2019-07-14T10:46:35\",\\n            \"late\": \"1\",\\n            \"lat\": \"40.064975\",\\n            \"lon\": \"-75.126544\",\\n            \"nextstop\": \"Elkins Park\",\\n            \"source\": \"Bryn Mawr\",\\n            \"dest\": \"Doylestown\"\\n        },\\n        {\\n            \"id\": \"513-Malvern\",\\n            \"time\": \"2019-07-14T10:46:35\",\\n            \"late\": \"1\",\\n            \"lat\": \"39.954174265\",\\n            \"lon\": \"-75.16763361\",\\n            \"nextstop\": \"30th Street Station\",\\n            \"source\": \"Doylestown\",\\n            \"dest\": \"Malvern\"\\n        },\\n        {\\n            \"id\": \"517-Malvern\",\\n            \"time\": \"2019-07-14T10:46:35\",\\n            \"late\": \"6\",\\n            \"lat\": \"40.2503085\",\\n            \"lon\": \"-75.2788295\",\\n            \"nextstop\": \"9th St\",\\n            \"source\": \"Doylestown\",\\n            \"dest\": \"Malvern\"\\n        },\\n        {\\n            \"id\": \"708-Chestnut H East\",\\n            \"time\": \"2019-07-14T10:46:35\",\\n            \"late\": \"7\",\\n            \"lat\": \"39.9961905\",\\n            \"lon\": \"-75.158013666667\",\\n            \"nextstop\": \"30th Street Station\",\\n            \"source\": \"Trenton\",\\n            \"dest\": \"Chestnut H East\"\\n        },\\n        {\\n            \"id\": \"711-Trenton\",\\n            \"time\": \"2019-07-14T10:46:35\",\\n            \"late\": \"4\",\\n            \"lat\": \"39.966055666667\",\\n            \"lon\": \"-75.188476666667\",\\n            \"nextstop\": \"North Philadelphia\",\\n            \"source\": \"Chestnut H East\",\\n            \"dest\": \"Trenton\"\\n        },\\n        {\\n            \"id\": \"824-Fox Chase\",\\n            \"time\": \"2019-07-14T10:46:35\",\\n            \"late\": \"1\",\\n            \"lat\": \"40.0748715\",\\n            \"lon\": \"-75.209874333333\",\\n            \"nextstop\": \"Chestnut Hill West\",\\n            \"source\": \"Chestnut Hill West\",\\n            \"dest\": \"Fox Chase\"\\n        },\\n        {\\n            \"id\": \"9422-Temple U\",\\n            \"time\": \"2019-07-14T10:46:35\",\\n            \"late\": \"3\",\\n            \"lat\": \"39.959625755\",\\n            \"lon\": \"-75.152733895\",\\n            \"nextstop\": \"Temple U\",\\n            \"source\": \"Airport\",\\n            \"dest\": \"Temple U\"\\n        },\\n        {\\n            \"id\": \"9427-Airport\",\\n            \"time\": \"2019-07-14T10:45:44\",\\n            \"late\": \"0\",\\n            \"lat\": \"39.968414\",\\n            \"lon\": \"-75.151449\",\\n            \"nextstop\": \"Jefferson Station\",\\n            \"source\": \"Temple U\",\\n            \"dest\": \"Airport\"\\n        }\\n    ]\\n}'"
      ]
     },
     "execution_count": 6,
     "metadata": {},
     "output_type": "execute_result"
    }
   ],
   "source": [
    "trains.content"
   ]
  },
  {
   "cell_type": "code",
   "execution_count": null,
   "metadata": {
    "colab": {},
    "colab_type": "code",
    "id": "NN5inatjJdWj"
   },
   "outputs": [],
   "source": [
    "r = requests.get(\"https://www.csps-efpc.gc.ca/index-eng.aspx\")"
   ]
  },
  {
   "cell_type": "markdown",
   "metadata": {
    "colab_type": "text",
    "id": "f_JviJUW1iez"
   },
   "source": [
    "Intro to Python\n",
    "Python is a popular modern programming language."
   ]
  },
  {
   "cell_type": "code",
   "execution_count": null,
   "metadata": {
    "colab": {
     "base_uri": "https://localhost:8080/",
     "height": 171
    },
    "colab_type": "code",
    "id": "m3Ke8k-0JjQ8",
    "outputId": "b984bcba-8c10-4a38-d689-0e22318c60e3"
   },
   "outputs": [
    {
     "ename": "NameError",
     "evalue": "ignored",
     "output_type": "error",
     "traceback": [
      "\u001b[0;31m---------------------------------------------------------------------------\u001b[0m",
      "\u001b[0;31mNameError\u001b[0m                                 Traceback (most recent call last)",
      "\u001b[0;32m<ipython-input-5-45cb07497890>\u001b[0m in \u001b[0;36m<module>\u001b[0;34m()\u001b[0m\n\u001b[0;32m----> 1\u001b[0;31m \u001b[0mr\u001b[0m\u001b[0;34m.\u001b[0m\u001b[0mcontent\u001b[0m\u001b[0;34m\u001b[0m\u001b[0;34m\u001b[0m\u001b[0m\n\u001b[0m",
      "\u001b[0;31mNameError\u001b[0m: name 'r' is not defined"
     ]
    }
   ],
   "source": [
    "r.content"
   ]
  },
  {
   "cell_type": "code",
   "execution_count": null,
   "metadata": {
    "colab": {},
    "colab_type": "code",
    "id": "6aTZnkh0Jna-"
   },
   "outputs": [],
   "source": [
    "from bs4 import BeautifulSoup"
   ]
  },
  {
   "cell_type": "code",
   "execution_count": null,
   "metadata": {
    "colab": {
     "base_uri": "https://localhost:8080/",
     "height": 1000
    },
    "colab_type": "code",
    "id": "NuKhFShZJoan",
    "outputId": "414236ef-56c7-485f-c9df-c9000a2a33fb"
   },
   "outputs": [
    {
     "name": "stdout",
     "output_type": "stream",
     "text": [
      "<!DOCTYPE html>\n",
      "<html lang=\"en\" xmlns=\"http://www.w3.org/1999/xhtml\">\n",
      " <head>\n",
      "  <meta charset=\"utf-8\"/>\n",
      "  <!-- Web Experience Toolkit (WET) / Boîte à outils de l'expérience Web (BOEW)\n",
      "\t\twet-boew.github.io/wet-boew/License-en.html / wet-boew.github.io/wet-boew/Licence-fr.html -->\n",
      "  <meta content=\"width=device-width,initial-scale=1\" name=\"viewport\"/>\n",
      "  <meta content=\"Home - Canada School of Public Service\" name=\"DCTERMS.title\"/>\n",
      "  <meta content=\"faculty, instructor, facilitator, training, events, regions, courses,  learners, organizations\" name=\"DCTERMS.subject\"/>\n",
      "  <meta content=\"Government of Canada, Canada School of Public Service, Strategic Directions, Program Development and Marketing Branch: Communications, Marketing and Engagement\" name=\"DCTERMS.creator\"/>\n",
      "  <meta content=\"The Canada School of Public Service is the common learning provider for the Canadian federal public service.\" name=\"DCTERMS.description\"/>\n",
      "  <meta content=\"en\" name=\"DCTERMS.language\"/>\n",
      "  <meta content=\"2019-04-08\" name=\"DCTERMS.issued\"/>\n",
      "  <meta content=\"2019-06-12\" name=\"DCTERMS.modified\"/>\n",
      "  <!-- icons declaration -->\n",
      "  <link href=\"/assets/favicon.ico\" rel=\"icon\" type=\"image/x-icon\"/>\n",
      "  <!-- icons declaration ends  -->\n",
      "  <!-- Java script declaration starts -->\n",
      "  <script src=\"https://ajax.googleapis.com/ajax/libs/jquery/3.3.1/jquery.min.js\">\n",
      "  </script>\n",
      "  <script src=\"http://maxcdn.bootstrapcdn.com/bootstrap/3.3.7/js/bootstrap.min.js\">\n",
      "  </script>\n",
      "  <script src=\"https://cdnjs.cloudflare.com/ajax/libs/jquery/3.1.0/jquery.min.js\">\n",
      "  </script>\n",
      "  <!-- Java script declaration is continued in the bottom part of the body tag of this page. -->\n",
      "  <!-- Cascading style sheet (CSS) declaration starts here  -->\n",
      "  <!-- since this master page is used by 99 % of the pages if any body maintaing this in the future be careful -->\n",
      "  <!-- The bootstrap css is no longer declared here for the \"theme.min.css\" of the \"GCWeb\\css\" folder contains the bootstrap.css and bootstrap.js within - According to Pierre the GCWEB (WET 5 developer)  -->\n",
      "  <noscript>\n",
      "   <link href=\"/wet-boew/css/noscript.min.css\" rel=\"stylesheet\"/>\n",
      "  </noscript>\n",
      "  <link href=\"https://cdnjs.cloudflare.com/ajax/libs/font-awesome/4.7.0/css/font-awesome.min.css\" rel=\"stylesheet\"/>\n",
      "  <link href=\"/GCWeb/css/theme.css\" rel=\"stylesheet\"/>\n",
      "  <link href=\"/GCWeb/css/custom/csps.css\" rel=\"stylesheet\"/>\n",
      "  <!-- CSS declaration ends here  -->\n",
      "  <title>\n",
      "   Canada School of Public Service - CSPS\n",
      "  </title>\n",
      "  <!-- moved to the custom css file named GCWEB\\css\\custom\\csps.css\n",
      "     The style below was added to display the Eupdate Icon as it's not part of the Canada.ca css file. -->\n",
      " </head>\n",
      " <body typeof=\"WebPage\" vocab=\"http://schema.org/\">\n",
      "  <!-- End Piwik Code -->\n",
      "  <!-- Matomo -->\n",
      "  <script type=\"text/javascript\">\n",
      "   var _paq = window._paq || [];\n",
      "        /* tracker methods like \"setCustomDimension\" should be called before \"trackPageView\" */\n",
      "        _paq.push(['trackPageView']);\n",
      "        _paq.push(['enableLinkTracking']);\n",
      "        (function () {\n",
      "            var u = \"https://analytics.nglxp.ca/\";\n",
      "            _paq.push(['setTrackerUrl', u + 'matomo.php']);\n",
      "            _paq.push(['setSiteId', '6']);\n",
      "            var d = document, g = d.createElement('script'), s = d.getElementsByTagName('script')[0];\n",
      "            g.type = 'text/javascript'; g.async = true; g.defer = true; g.src = u + 'matomo.js'; s.parentNode.insertBefore(g, s);\n",
      "        })();\n",
      "  </script>\n",
      "  <!-- End Matomo Code -->\n",
      "  <header role=\"banner\">\n",
      "   <div class=\"container\" id=\"wb-bnr\">\n",
      "    <!--language selection-->\n",
      "    <section class=\"text-right\" id=\"wb-lng\">\n",
      "     <h2 class=\"wb-inv\">\n",
      "      Language selection\n",
      "     </h2>\n",
      "     <ul class=\"list-inline margin-bottom-none\">\n",
      "      <li>\n",
      "       <a href=\"https://www.csps-efpc.gc.ca/index-fra.aspx\" id=\"ctl09_langSwitch\" lang=\"fr\">\n",
      "        Français\n",
      "       </a>\n",
      "      </li>\n",
      "     </ul>\n",
      "    </section>\n",
      "    <!-- language selection end -->\n",
      "    <div class=\"row\">\n",
      "     <div class=\"brand col-xs-5 col-md-4\">\n",
      "      <a href=\"https://www.canada.ca/en.html\">\n",
      "       <img alt=\"Government of Canada\" src=\"/assets/sig-blk-en.svg\"/>\n",
      "       <span class=\"wb-inv\">\n",
      "        Government of Canada\n",
      "       </span>\n",
      "      </a>\n",
      "     </div>\n",
      "     <section class=\"col-lg-8 text-right\" id=\"wb-srch\">\n",
      "      <h2>\n",
      "       Search\n",
      "      </h2>\n",
      "      <form action=\"https://www.canada.ca/en/school-public-service/search.html\" class=\"form-inline\" method=\"get\" name=\"cse-search-box\" role=\"search\">\n",
      "       <div class=\"form-group\">\n",
      "        <label class=\"wb-inv\" for=\"wb-srch-q\">\n",
      "         Search Canada.ca\n",
      "        </label>\n",
      "        <input class=\"form-control\" id=\"charset\" name=\"st\" type=\"hidden\" value=\"UTF-8\"/>\n",
      "        <input class=\"wb-srch-q form-control\" id=\"wb-srch-q\" list=\"wb-srch-q-ac\" maxlength=\"170\" name=\"q\" placeholder=\"Search Canada.ca\" size=\"34\" type=\"search\" value=\"\"/>\n",
      "        <datalist id=\"wb-srch-q-ac\">\n",
      "        </datalist>\n",
      "       </div>\n",
      "       <div class=\"form-group submit\">\n",
      "        <button class=\"btn btn-primary btn-small\" id=\"wb-srch-sub\" name=\"wb-srch-sub\" type=\"submit\">\n",
      "         <span class=\"glyphicon-search glyphicon\">\n",
      "         </span>\n",
      "         <span class=\"wb-inv\">\n",
      "          Search\n",
      "         </span>\n",
      "        </button>\n",
      "       </div>\n",
      "      </form>\n",
      "     </section>\n",
      "    </div>\n",
      "   </div>\n",
      "   <!--Menu section-->\n",
      "   <nav class=\"gcweb-menu\" typeof=\"SiteNavigationElement\">\n",
      "    <div class=\"container\">\n",
      "     <h2 class=\"wb-inv\">\n",
      "      Menu\n",
      "     </h2>\n",
      "     <button aria-expanded=\"false\" aria-haspopup=\"true\" type=\"button\">\n",
      "      <span class=\"wb-inv\">\n",
      "       Main\n",
      "      </span>\n",
      "      Menu\n",
      "      <span class=\"expicon glyphicon glyphicon-chevron-down\">\n",
      "      </span>\n",
      "     </button>\n",
      "     <!--<ul role=\"menu\" aria-orientation=\"vertical\" data-ajax-replace=\"/ajax/sitemenu-v2-en.html\" class=\"original\">  this was from index/index.html-->\n",
      "     <!--copied the one from release notes-->\n",
      "     <!--<ul role=\"menu\" aria-orientation=\"vertical\"> appeared on the release notes  - March 13, 2017-->\n",
      "     <ul aria-orientation=\"vertical\" data-ajax-replace=\"/ajax/sitemenu-v2-en.html\" role=\"menu\">\n",
      "      <li role=\"presentation\">\n",
      "       <a href=\"https://www.canada.ca/en/services/jobs.html\" role=\"menuitem\">\n",
      "        Jobs and the workplace\n",
      "       </a>\n",
      "      </li>\n",
      "      <li role=\"presentation\">\n",
      "       <a href=\"https://www.canada.ca/en/services/immigration-citizenship.html\" role=\"menuitem\">\n",
      "        Immigration and citizenship\n",
      "       </a>\n",
      "      </li>\n",
      "      <li role=\"presentation\">\n",
      "       <a href=\"https://travel.gc.ca/\" role=\"menuitem\">\n",
      "        Travel and tourism\n",
      "       </a>\n",
      "      </li>\n",
      "      <li role=\"presentation\">\n",
      "       <a href=\"https://www.canada.ca/en/services/business.html\" role=\"menuitem\">\n",
      "        Business and industry\n",
      "       </a>\n",
      "      </li>\n",
      "      <li role=\"presentation\">\n",
      "       <a href=\"https://www.canada.ca/en/services/benefits.html\" role=\"menuitem\">\n",
      "        Benefits\n",
      "       </a>\n",
      "      </li>\n",
      "      <li role=\"presentation\">\n",
      "       <a href=\"https://www.canada.ca/en/services/health.html\" role=\"menuitem\">\n",
      "        Health\n",
      "       </a>\n",
      "      </li>\n",
      "      <li role=\"presentation\">\n",
      "       <a href=\"https://www.canada.ca/en/services/taxes.html\" role=\"menuitem\">\n",
      "        Taxes\n",
      "       </a>\n",
      "      </li>\n",
      "      <li role=\"presentation\">\n",
      "       <a href=\"https://www.canada.ca/en/services/environment.html\" role=\"menuitem\">\n",
      "        Environment and natural resources\n",
      "       </a>\n",
      "      </li>\n",
      "      <li role=\"presentation\">\n",
      "       <a href=\"https://www.canada.ca/en/services/defence.html\" role=\"menuitem\">\n",
      "        National security and defence\n",
      "       </a>\n",
      "      </li>\n",
      "      <li role=\"presentation\">\n",
      "       <a href=\"https://www.canada.ca/en/services/culture.html\" role=\"menuitem\">\n",
      "        Culture, history and sport\n",
      "       </a>\n",
      "      </li>\n",
      "      <li role=\"presentation\">\n",
      "       <a href=\"https://www.canada.ca/en/services/policing.html\" role=\"menuitem\">\n",
      "        Policing, justice and emergencies\n",
      "       </a>\n",
      "      </li>\n",
      "      <li role=\"presentation\">\n",
      "       <a href=\"https://www.canada.ca/en/services/transport.html\" role=\"menuitem\">\n",
      "        Transport and infrastructure\n",
      "       </a>\n",
      "      </li>\n",
      "      <li role=\"presentation\">\n",
      "       <a href=\"http://international.gc.ca/world-monde/index.aspx?lang=eng\" role=\"menuitem\">\n",
      "        Canada and the world\n",
      "       </a>\n",
      "      </li>\n",
      "      <li role=\"presentation\">\n",
      "       <a href=\"https://www.canada.ca/en/services/finance.html\" role=\"menuitem\">\n",
      "        Money and finances\n",
      "       </a>\n",
      "      </li>\n",
      "      <li role=\"presentation\">\n",
      "       <a href=\"https://www.canada.ca/en/services/finance.html\" role=\"menuitem\">\n",
      "        Science and innovation\n",
      "       </a>\n",
      "      </li>\n",
      "     </ul>\n",
      "    </div>\n",
      "   </nav>\n",
      "   <!--Breadcrumb section-->\n",
      "   <nav id=\"wb-bc\" property=\"breadcrumb\">\n",
      "    <!--role=\"navigation\"-->\n",
      "    <h2 class=\"wb-inv\">\n",
      "     You are here:\n",
      "    </h2>\n",
      "    <div class=\"container\">\n",
      "     <ol class=\"breadcrumb\">\n",
      "      <li>\n",
      "       <a href=\"http://www.canada.ca/en.html\">\n",
      "        Home\n",
      "       </a>\n",
      "      </li>\n",
      "     </ol>\n",
      "    </div>\n",
      "   </nav>\n",
      "  </header>\n",
      "  <form action=\"./index-eng.aspx\" id=\"form1\" method=\"post\">\n",
      "   <input id=\"__VIEWSTATE\" name=\"__VIEWSTATE\" type=\"hidden\" value=\"/wEPDwUKLTMzMTg1NTkxMQ9kFgJmD2QWBmYPZBYCAgMPZBYCAgEPFgIeBFRleHQFNDxtZXRhIG5hbWU9J0RDVEVSTVMubW9kaWZpZWQnIGNvbnRlbnQ9JzIwMTktMDYtMTInLz5kAgEPZBYCZg9kFgQCAQ8WAh4EaHJlZgUqaHR0cHM6Ly93d3cuY3Nwcy1lZnBjLmdjLmNhL2luZGV4LWZyYS5hc3B4ZAIDDxYCHwAFVDxvbCBjbGFzcz0nYnJlYWRjcnVtYic+PGxpPjxhIGhyZWY9J2h0dHA6Ly93d3cuY2FuYWRhLmNhL2VuLmh0bWwnPkhvbWU8L2E+PC9saT48L29sPmQCAg9kFgYCAw8WAh8ABRRTa2lwIHRvIG1haW4gY29udGVudGQCBQ8WAh8ABSNTa2lwIHRvICZxdW90O0Fib3V0IHRoaXMgc2l0ZSZxdW90O2QCCw8WAh8ABRNEYXRlIG1vZGlmaWVkOiYjMzI7ZGTn6+wRUu41Z9b7djYqJkDSQ1JQzWfwDtJVvOHbOvW4nw==\"/>\n",
      "   <input id=\"__VIEWSTATEGENERATOR\" name=\"__VIEWSTATEGENERATOR\" type=\"hidden\" value=\"78164D50\"/>\n",
      "   <input id=\"__EVENTVALIDATION\" name=\"__EVENTVALIDATION\" type=\"hidden\" value=\"/wEdAALpabRXlc2eWvB0rIXF8BOYS80682J8Edt9O+/i8PubjFD+wRawyT2Uif5d34j0/muQfnYUYMF/DpE7G0r1GhNW\"/>\n",
      "   <div id=\"hdnInputPlaceholder\">\n",
      "    <input id=\"hdnLanguage\" name=\"ctl00$hdnLanguage\" type=\"hidden\" value=\"en\"/>\n",
      "   </div>\n",
      "   <ul id=\"wb-tphp\">\n",
      "    <li class=\"wb-slc\">\n",
      "     <a class=\"wb-sl\" href=\"#wb-cont\">\n",
      "      Skip to main content\n",
      "     </a>\n",
      "    </li>\n",
      "    <li class=\"wb-slc visible-sm visible-md visible-lg\">\n",
      "     <a class=\"wb-sl\" href=\"#wb-info\">\n",
      "      Skip to \"About this site\"\n",
      "     </a>\n",
      "    </li>\n",
      "   </ul>\n",
      "   <!-- \"gc-srvinfo home\" makes the h2 and h3 smaller   mwstext section  gc-srvinfo home-->\n",
      "   <main class=\"container mwstext section\" property=\"mainContentOfPage\" role=\"main\">\n",
      "    <!--\"gc-theme\" or the classes \"mwstext\" and \"section\" together makes the font size bigger-->\n",
      "    <h1 id=\"wb-cont\">\n",
      "     Canada School of Public Service\n",
      "    </h1>\n",
      "    <div class=\"row container\">\n",
      "     <div class=\"wb-tabs carousel-s1\">\n",
      "      <ul role=\"tablist\">\n",
      "       <li class=\"active\">\n",
      "        <a href=\"#panel1\">\n",
      "        </a>\n",
      "       </li>\n",
      "      </ul>\n",
      "      <div class=\"tabpanels\">\n",
      "       <div id=\"panel1\" role=\"tabpanel\">\n",
      "        <figure>\n",
      "         <img alt=\"\" src=\"/images/banner1.png\"/>\n",
      "         <figcaption>\n",
      "          <p>\n",
      "           <a href=\"/About_Us/Business_lines/index-eng.aspx\">\n",
      "            <b>\n",
      "             Featured:\n",
      "            </b>\n",
      "            Introducing the School's new business lines\n",
      "           </a>\n",
      "          </p>\n",
      "         </figcaption>\n",
      "        </figure>\n",
      "       </div>\n",
      "      </div>\n",
      "     </div>\n",
      "    </div>\n",
      "    <!-- Following section I have come across in canada.ca They use it for urgent comunication. I thought it is beneficial to leave here in case for our future usage -->\n",
      "    <div class=\"row\">\n",
      "     <div class=\"col-sm-8 mrgn-tp-lg\">\n",
      "      The\n",
      "      <b>\n",
      "       Canada School of Public Service\n",
      "      </b>\n",
      "      leads the government's enterprise-wide approach to learning by providing a common, standardized curriculum that supports public servants through key career transitions, ensuring that they are equipped to serve Canadians with excellence.\n",
      "     </div>\n",
      "     <div class=\"col-sm-4 mrgn-tp-lg\">\n",
      "      <section class=\"followus\">\n",
      "       <h2>\n",
      "        Follow:\n",
      "       </h2>\n",
      "       <ul>\n",
      "        <li>\n",
      "         <a class=\"twitter\" href=\"https://twitter.com/School_GC\" rel=\"external\" title=\"Twitter\">\n",
      "          <span class=\"wb-inv\">\n",
      "           Twitter\n",
      "          </span>\n",
      "         </a>\n",
      "        </li>\n",
      "        <li>\n",
      "         <a class=\"youtube\" href=\"https://www.youtube.com/user/MySchoolMonEcole\" rel=\"external\" title=\"Youtube\">\n",
      "          <span class=\"wb-inv\">\n",
      "           YouTube\n",
      "          </span>\n",
      "         </a>\n",
      "        </li>\n",
      "        <li>\n",
      "         <a class=\"linkedin\" href=\"https://www.linkedin.com/company/canada-school-of-public-service?trk=fc_badge\" rel=\"external\" title=\"LinkedIn\">\n",
      "          <span class=\"wb-inv\">\n",
      "           LinkedIn\n",
      "          </span>\n",
      "         </a>\n",
      "        </li>\n",
      "       </ul>\n",
      "      </section>\n",
      "     </div>\n",
      "    </div>\n",
      "    <section class=\"mrgn-bttm-md\" id=\"centerIcon\">\n",
      "     <h2>\n",
      "      Services and information\n",
      "     </h2>\n",
      "     <div class=\"wb-eqht row wb-init\">\n",
      "      <div class=\"col-lg-4 col-md-6\">\n",
      "       <h3 class=\"h5\">\n",
      "        <a href=\"/events/index-eng.aspx\">\n",
      "         Events\n",
      "        </a>\n",
      "       </h3>\n",
      "       <p>\n",
      "        Participate in upcoming seminars, forums, special events and more.\n",
      "       </p>\n",
      "      </div>\n",
      "      <div class=\"col-lg-4 col-md-6\">\n",
      "       <h3 class=\"h5\">\n",
      "        <a href=\"/Catalogue/index-eng.aspx\">\n",
      "         Courses\n",
      "        </a>\n",
      "       </h3>\n",
      "       <p>\n",
      "        Explore classroom, online and virtual activities that respond to your learning needs.\n",
      "       </p>\n",
      "      </div>\n",
      "      <div class=\"col-lg-4 col-md-6\">\n",
      "       <h3 class=\"h5\">\n",
      "        <a href=\"/Catalogue/programs-eng.aspx\">\n",
      "         Programs and series\n",
      "        </a>\n",
      "       </h3>\n",
      "       <p>\n",
      "        Discover program suites and series that offer a more advanced learning curriculum.\n",
      "       </p>\n",
      "      </div>\n",
      "      <div class=\"col-lg-4 col-md-6\">\n",
      "       <h3 class=\"h5\">\n",
      "        <a href=\"/GCcampus/index-eng.aspx\">\n",
      "         GCcampus\n",
      "        </a>\n",
      "       </h3>\n",
      "       <p>\n",
      "        Log in or create an account to access the School's online learning platform.\n",
      "       </p>\n",
      "      </div>\n",
      "      <div class=\"col-lg-4 col-md-6\">\n",
      "       <h3 class=\"h5\">\n",
      "        <a href=\"/Tools/index-eng.aspx\">\n",
      "         Learning tools\n",
      "        </a>\n",
      "       </h3>\n",
      "       <p>\n",
      "        Access job aids, publications, language tools and case studies to support your learning.\n",
      "       </p>\n",
      "      </div>\n",
      "      <div class=\"col-lg-4 col-md-6\">\n",
      "       <h3 class=\"h5\">\n",
      "        <a href=\"/Multimedia/index-eng.aspx\">\n",
      "         Multimedia\n",
      "        </a>\n",
      "       </h3>\n",
      "       <p>\n",
      "        Engage with videos, webcasts and podcasts that support learning in the workplace.\n",
      "       </p>\n",
      "      </div>\n",
      "      <div class=\"col-lg-4 col-md-6\">\n",
      "       <h3 class=\"h5\">\n",
      "        <a href=\"/stayconnected/index-eng.aspx\">\n",
      "         Stay connected\n",
      "        </a>\n",
      "       </h3>\n",
      "       <p>\n",
      "        Follow us on social media or subscribe to the CSPS  e-newsletter.\n",
      "       </p>\n",
      "      </div>\n",
      "      <div class=\"col-lg-4 col-md-6\">\n",
      "       <h3 class=\"h5\">\n",
      "        <a href=\"/Contact_Us/index-eng.aspx\">\n",
      "         Contact the School\n",
      "        </a>\n",
      "       </h3>\n",
      "       <p>\n",
      "        Get support from our Client Contact Centre, find a campus or connect with the School in other ways.\n",
      "       </p>\n",
      "      </div>\n",
      "     </div>\n",
      "    </section>\n",
      "    <section class=\"gc-crprt\">\n",
      "     <h2>\n",
      "      Corporate information\n",
      "     </h2>\n",
      "     <div class=\"row\">\n",
      "      <div class=\"col-md-4\">\n",
      "       <ul class=\"list-unstyled lst-spcd\">\n",
      "        <li>\n",
      "         <a href=\"/About_Us/mandate-eng.aspx\">\n",
      "          Mandate\n",
      "         </a>\n",
      "        </li>\n",
      "        <li>\n",
      "         <a href=\"/About_Us/organizationalstructure-eng.aspx\">\n",
      "          Organizational structure\n",
      "         </a>\n",
      "        </li>\n",
      "        <li>\n",
      "         <a href=\"/About_Us/Business_lines/index-eng.aspx\">\n",
      "          Business lines\n",
      "         </a>\n",
      "        </li>\n",
      "        <li>\n",
      "         <a href=\"/faculty/index-eng.aspx\">\n",
      "          Faculty\n",
      "         </a>\n",
      "        </li>\n",
      "        <li>\n",
      "         <a href=\"/About_Us/currentreport/index-eng.aspx\">\n",
      "          Plans and reports\n",
      "         </a>\n",
      "        </li>\n",
      "        <li>\n",
      "         <a href=\"/transparency/index-eng.aspx\">\n",
      "          Transparency\n",
      "         </a>\n",
      "        </li>\n",
      "        <li>\n",
      "         <a href=\"/About_Us/service-eng.aspx\">\n",
      "          Service standards\n",
      "         </a>\n",
      "        </li>\n",
      "        <li>\n",
      "         <a href=\"https://www.canada.ca/en/news/advanced-news-search/news-results.html?_=1551473836435&amp;dprtmnt=schoolpublicservice&amp;start=&amp;end=\">\n",
      "          Latest news\n",
      "         </a>\n",
      "        </li>\n",
      "       </ul>\n",
      "      </div>\n",
      "      <div class=\"col-md-8\">\n",
      "       <div class=\"row\">\n",
      "        <div class=\"col-md-4\">\n",
      "         <section>\n",
      "          <h3>\n",
      "           Minister\n",
      "          </h3>\n",
      "          <a href=\"https://www.canada.ca/en/government/ministers/joyce-murray.html\">\n",
      "           <figure>\n",
      "            <img alt=\"The Honourable Joyce Murray\" class=\"img-responsive thumbnail mrgn-bttm-sm\" src=\"/images-wr/joyce-murray.jpg\"/>\n",
      "            <figcaption>\n",
      "             The Honourable Joyce Murray\n",
      "            </figcaption>\n",
      "           </figure>\n",
      "          </a>\n",
      "          <p>\n",
      "           President of the Treasury Board and Minister of Digital Government\n",
      "          </p>\n",
      "         </section>\n",
      "        </div>\n",
      "       </div>\n",
      "      </div>\n",
      "     </div>\n",
      "    </section>\n",
      "    <section>\n",
      "     <hr class=\"mrgn-tp-xl\"/>\n",
      "     <h2 class=\"mrgn-tp-md mrgn-bttm-lg\">\n",
      "      Features\n",
      "     </h2>\n",
      "     <div class=\"alert alert-info\">\n",
      "      <p>\n",
      "       We have just relaunched our website with a new look, new navigation and easier-to-find content.\n",
      "       <a href=\"mailto:csps.web.efpc@canada.ca\">\n",
      "        Let us know what you think of it\n",
      "       </a>\n",
      "       .\n",
      "       <span class=\"glyphicon glyphicon-thumbs-up mrgn-lft-sm\">\n",
      "       </span>\n",
      "       <span class=\"glyphicon glyphicon-thumbs-down mrgn-lft-sm\">\n",
      "       </span>\n",
      "      </p>\n",
      "     </div>\n",
      "     <div class=\"row mrgn-bttm-lg\" id=\"highlights\">\n",
      "      <!-- **************************************************** IMAGE 01 **************************************************** -->\n",
      "      <div class=\"col-lg-4 col-md-6\">\n",
      "       <a href=\"/gbap-acsp-eng.aspx\">\n",
      "        <img alt=\"\" class=\"img-responsive thumbnail mrgn-bttm-sm\" src=\"/images/highlight/gba.png\"/>\n",
      "       </a>\n",
      "       <h3 class=\"h5\">\n",
      "        <a href=\"/gbap-acsp-eng.aspx\">\n",
      "         Gender-based Analysis Plus\n",
      "        </a>\n",
      "       </h3>\n",
      "       <p>\n",
      "        Understand the importance of supporting diversity and inclusion in the workplace.\n",
      "       </p>\n",
      "      </div>\n",
      "      <!-- **************************************************** IMAGE 02 **************************************************** -->\n",
      "      <div class=\"col-lg-4 col-md-6\">\n",
      "       <a href=\"/ils-eng.aspx\">\n",
      "        <img alt=\"\" class=\"img-responsive thumbnail mrgn-bttm-sm\" src=\"/images/highlight/ind-aut.png\"/>\n",
      "       </a>\n",
      "       <h3 class=\"h5\">\n",
      "        <a href=\"/ils-eng.aspx\">\n",
      "         Indigenous Learning Series\n",
      "        </a>\n",
      "       </h3>\n",
      "       <p>\n",
      "        Gain insight on Canada's shared history with First Nations, Métis and Inuit Peoples.\n",
      "       </p>\n",
      "      </div>\n",
      "      <!-- **************************************************** IMAGE 03 **************************************************** -->\n",
      "      <div class=\"col-lg-4 col-md-6\">\n",
      "       <a href=\"/lt/index-eng.aspx\">\n",
      "        <img alt=\"\" class=\"img-responsive thumbnail mrgn-bttm-sm\" src=\"/images/highlight/lang-ling.png\"/>\n",
      "       </a>\n",
      "       <h3 class=\"h5\">\n",
      "        <a href=\"/lt/index-eng.aspx\">\n",
      "         Language maintenance tools\n",
      "        </a>\n",
      "       </h3>\n",
      "       <p>\n",
      "        Improve your English or French language skills.\n",
      "       </p>\n",
      "      </div>\n",
      "     </div>\n",
      "     <div class=\"pagedetails\" id=\"ctl11_bottom\">\n",
      "     </div>\n",
      "     <div class=\"row\">\n",
      "      <div class=\"col-sm-9\">\n",
      "      </div>\n",
      "      <div class=\"wb-share text-right col-sm-3\" data-wb-share='{\"pnlId\": \"pnl6\", \"lnkClass\": \"btn btn-default btn-block btn-lg\"}'>\n",
      "      </div>\n",
      "     </div>\n",
      "    </section>\n",
      "    <div class=\"pagedetails\">\n",
      "     <!--make the font of the dateModified same as the Canada.ca site's -->\n",
      "     <dl id=\"wb-dtmd\">\n",
      "      <dt>\n",
      "       Date modified:\n",
      "      </dt>\n",
      "      <dd>\n",
      "       <time property=\"dateModified\">\n",
      "        2019-06-12\n",
      "       </time>\n",
      "      </dd>\n",
      "     </dl>\n",
      "    </div>\n",
      "   </main>\n",
      "   <footer id=\"wb-info\">\n",
      "    <div class=\"landscape\">\n",
      "     <nav class=\"container wb-navcurr\">\n",
      "      <h2 class=\"wb-inv\">\n",
      "       About government\n",
      "      </h2>\n",
      "      <ul class=\"list-unstyled colcount-sm-2 colcount-md-3\">\n",
      "       <li>\n",
      "        <a href=\"/Contact_Us/index-eng.aspx\">\n",
      "         Contact us\n",
      "        </a>\n",
      "       </li>\n",
      "       <li>\n",
      "        <a href=\"https://www.canada.ca/en/government/dept.html\">\n",
      "         Departments and agencies\n",
      "        </a>\n",
      "       </li>\n",
      "       <li>\n",
      "        <a href=\"https://www.canada.ca/en/government/publicservice.html\">\n",
      "         Public service and military\n",
      "        </a>\n",
      "       </li>\n",
      "       <li>\n",
      "        <a href=\"https://www.canada.ca/en/news.html\">\n",
      "         News\n",
      "        </a>\n",
      "       </li>\n",
      "       <li>\n",
      "        <a href=\"https://www.canada.ca/en/government/system/laws.html\">\n",
      "         Treaties, laws and regulations\n",
      "        </a>\n",
      "       </li>\n",
      "       <li>\n",
      "        <a href=\"https://www.canada.ca/en/transparency/reporting.html\">\n",
      "         Government-wide reporting\n",
      "        </a>\n",
      "       </li>\n",
      "       <li>\n",
      "        <a href=\"https://pm.gc.ca/eng\">\n",
      "         Prime Minister\n",
      "        </a>\n",
      "       </li>\n",
      "       <li>\n",
      "        <a href=\"https://www.canada.ca/en/government/system.html\">\n",
      "         About government\n",
      "        </a>\n",
      "       </li>\n",
      "       <li>\n",
      "        <a href=\"https://open.canada.ca/en\">\n",
      "         Open government\n",
      "        </a>\n",
      "       </li>\n",
      "      </ul>\n",
      "     </nav>\n",
      "    </div>\n",
      "    <div class=\"brand\">\n",
      "     <div class=\"container\">\n",
      "      <div class=\"row\">\n",
      "       <nav class=\"col-md-9 col-lg-10 ftr-urlt-lnk\">\n",
      "        <h2 class=\"wb-inv\">\n",
      "         About this site\n",
      "        </h2>\n",
      "        <ul>\n",
      "         <li>\n",
      "          <a href=\"https://www.canada.ca/en/social.html\">\n",
      "           Social media\n",
      "          </a>\n",
      "         </li>\n",
      "         <li>\n",
      "          <a href=\"https://www.canada.ca/en/mobile.html\">\n",
      "           Mobile applications\n",
      "          </a>\n",
      "         </li>\n",
      "         <li>\n",
      "          <a href=\"https://www.canada.ca/en/government/about.html\">\n",
      "           About Canada.ca\n",
      "          </a>\n",
      "         </li>\n",
      "         <li>\n",
      "          <a href=\"/termsandconditions/index-eng.aspx\">\n",
      "           Terms and conditions\n",
      "          </a>\n",
      "         </li>\n",
      "         <li>\n",
      "          <a href=\"/termsandconditions/index-eng.aspx#pn\">\n",
      "           Privacy\n",
      "          </a>\n",
      "         </li>\n",
      "        </ul>\n",
      "       </nav>\n",
      "       <div class=\"col-xs-6 visible-sm visible-xs tofpg\">\n",
      "        <a href=\"#wb-cont\">\n",
      "         Top of Page\n",
      "         <span class=\"glyphicon glyphicon-chevron-up\">\n",
      "         </span>\n",
      "        </a>\n",
      "       </div>\n",
      "       <div class=\"col-xs-6 col-md-3 col-lg-2 text-right\">\n",
      "        <img alt=\"Symbol of the Government of Canada\" src=\"/assets/wmms-blk.svg\"/>\n",
      "       </div>\n",
      "      </div>\n",
      "     </div>\n",
      "    </div>\n",
      "   </footer>\n",
      "  </form>\n",
      "  <script src=\"https://ajax.googleapis.com/ajax/libs/jquery/2.2.4/jquery.js\">\n",
      "  </script>\n",
      "  <script src=\"/wet-boew/js/wet-boew.js\">\n",
      "  </script>\n",
      "  <!-- the following js file is important. the one within teh GCWeb folder for this\n",
      "        is used in the menu. the order of declaration of these files important due to dependency -->\n",
      "  <script src=\"/GCWeb/js/theme.min.js\">\n",
      "  </script>\n",
      " </body>\n",
      "</html>\n",
      "\n"
     ]
    }
   ],
   "source": [
    "soup = BeautifulSoup(r.content, 'html.parser')\n",
    "\n",
    "print(soup.prettify())"
   ]
  },
  {
   "cell_type": "code",
   "execution_count": null,
   "metadata": {
    "colab": {
     "base_uri": "https://localhost:8080/",
     "height": 68
    },
    "colab_type": "code",
    "id": "d9TnuCdvKWQJ",
    "outputId": "2cc699e7-06c6-4196-98be-2024c96396b9"
   },
   "outputs": [
    {
     "data": {
      "text/plain": [
       "<title>\n",
       "\tCanada School of Public Service - CSPS\n",
       "</title>"
      ]
     },
     "execution_count": 15,
     "metadata": {
      "tags": []
     },
     "output_type": "execute_result"
    }
   ],
   "source": [
    "soup.title"
   ]
  },
  {
   "cell_type": "code",
   "execution_count": null,
   "metadata": {
    "colab": {},
    "colab_type": "code",
    "id": "YYcNSyZAKh3u"
   },
   "outputs": [],
   "source": [
    "soup.metadata"
   ]
  },
  {
   "cell_type": "code",
   "execution_count": null,
   "metadata": {
    "colab": {},
    "colab_type": "code",
    "id": "t4cRbl_dKjUW"
   },
   "outputs": [],
   "source": [
    "soup.H1"
   ]
  },
  {
   "cell_type": "code",
   "execution_count": null,
   "metadata": {
    "colab": {
     "base_uri": "https://localhost:8080/",
     "height": 1000
    },
    "colab_type": "code",
    "id": "CMzs6ZRmKkzu",
    "outputId": "3994820b-2e53-44fa-e04d-ba514c3f6684"
   },
   "outputs": [
    {
     "name": "stdout",
     "output_type": "stream",
     "text": [
      "https://www.csps-efpc.gc.ca/index-fra.aspx\n",
      "https://www.canada.ca/en.html\n",
      "https://www.canada.ca/en/services/jobs.html\n",
      "https://www.canada.ca/en/services/immigration-citizenship.html\n",
      "https://travel.gc.ca/\n",
      "https://www.canada.ca/en/services/business.html\n",
      "https://www.canada.ca/en/services/benefits.html\n",
      "https://www.canada.ca/en/services/health.html\n",
      "https://www.canada.ca/en/services/taxes.html\n",
      "https://www.canada.ca/en/services/environment.html\n",
      "https://www.canada.ca/en/services/defence.html\n",
      "https://www.canada.ca/en/services/culture.html\n",
      "https://www.canada.ca/en/services/policing.html\n",
      "https://www.canada.ca/en/services/transport.html\n",
      "http://international.gc.ca/world-monde/index.aspx?lang=eng\n",
      "https://www.canada.ca/en/services/finance.html\n",
      "https://www.canada.ca/en/services/finance.html\n",
      "http://www.canada.ca/en.html\n",
      "#wb-cont\n",
      "#wb-info\n",
      "#panel1\n",
      "/About_Us/Business_lines/index-eng.aspx\n",
      "https://twitter.com/School_GC\n",
      "https://www.youtube.com/user/MySchoolMonEcole\n",
      "https://www.linkedin.com/company/canada-school-of-public-service?trk=fc_badge\n",
      "/events/index-eng.aspx\n",
      "/Catalogue/index-eng.aspx\n",
      "/Catalogue/programs-eng.aspx\n",
      "/GCcampus/index-eng.aspx\n",
      "/Tools/index-eng.aspx\n",
      "/Multimedia/index-eng.aspx\n",
      "/stayconnected/index-eng.aspx\n",
      "/Contact_Us/index-eng.aspx\n",
      "/About_Us/mandate-eng.aspx\n",
      "/About_Us/organizationalstructure-eng.aspx\n",
      "/About_Us/Business_lines/index-eng.aspx\n",
      "/faculty/index-eng.aspx\n",
      "/About_Us/currentreport/index-eng.aspx\n",
      "/transparency/index-eng.aspx\n",
      "/About_Us/service-eng.aspx\n",
      "https://www.canada.ca/en/news/advanced-news-search/news-results.html?_=1551473836435&dprtmnt=schoolpublicservice&start=&end=\n",
      "https://www.canada.ca/en/government/ministers/joyce-murray.html\n",
      "mailto:csps.web.efpc@canada.ca\n",
      "/gbap-acsp-eng.aspx\n",
      "/gbap-acsp-eng.aspx\n",
      "/ils-eng.aspx\n",
      "/ils-eng.aspx\n",
      "/lt/index-eng.aspx\n",
      "/lt/index-eng.aspx\n",
      "/Contact_Us/index-eng.aspx\n",
      "https://www.canada.ca/en/government/dept.html\n",
      "https://www.canada.ca/en/government/publicservice.html\n",
      "https://www.canada.ca/en/news.html\n",
      "https://www.canada.ca/en/government/system/laws.html\n",
      "https://www.canada.ca/en/transparency/reporting.html\n",
      "https://pm.gc.ca/eng\n",
      "https://www.canada.ca/en/government/system.html\n",
      "https://open.canada.ca/en\n",
      "https://www.canada.ca/en/social.html\n",
      "https://www.canada.ca/en/mobile.html\n",
      "https://www.canada.ca/en/government/about.html\n",
      "/termsandconditions/index-eng.aspx\n",
      "/termsandconditions/index-eng.aspx#pn\n",
      "#wb-cont\n"
     ]
    }
   ],
   "source": [
    "for link in soup.find_all('a'):\n",
    "    print(link.get('href'))"
   ]
  },
  {
   "cell_type": "code",
   "execution_count": null,
   "metadata": {
    "colab": {
     "base_uri": "https://localhost:8080/",
     "height": 74,
     "resources": {
      "http://localhost:8080/nbextensions/google.colab/files.js": {
       "data": "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",
       "headers": [
        [
         "content-type",
         "application/javascript"
        ]
       ],
       "ok": true,
       "status": 200,
       "status_text": ""
      }
     }
    },
    "colab_type": "code",
    "id": "Gi9c4y7oKrSe",
    "outputId": "fa2f042c-5269-41dd-c9b2-f4d0c5f5bfc6"
   },
   "outputs": [
    {
     "data": {
      "text/html": [
       "\n",
       "     <input type=\"file\" id=\"files-448fede7-fd80-465e-8cda-695fbdeef96f\" name=\"files[]\" multiple disabled />\n",
       "     <output id=\"result-448fede7-fd80-465e-8cda-695fbdeef96f\">\n",
       "      Upload widget is only available when the cell has been executed in the\n",
       "      current browser session. Please rerun this cell to enable.\n",
       "      </output>\n",
       "      <script src=\"/nbextensions/google.colab/files.js\"></script> "
      ],
      "text/plain": [
       "<IPython.core.display.HTML object>"
      ]
     },
     "metadata": {
      "tags": []
     },
     "output_type": "display_data"
    },
    {
     "name": "stdout",
     "output_type": "stream",
     "text": [
      "Saving LREM64TTCAM156S.csv to LREM64TTCAM156S.csv\n"
     ]
    }
   ],
   "source": [
    "import pandas as pd\n",
    "from google.colab import files\n",
    "uploaded = files.upload()"
   ]
  },
  {
   "cell_type": "code",
   "execution_count": null,
   "metadata": {
    "colab": {},
    "colab_type": "code",
    "id": "LQwOPQ-cNdS0"
   },
   "outputs": [],
   "source": [
    "df = pd.read_csv(\"LREM64TTCAM156S.csv\")"
   ]
  },
  {
   "cell_type": "code",
   "execution_count": null,
   "metadata": {
    "colab": {
     "base_uri": "https://localhost:8080/",
     "height": 204
    },
    "colab_type": "code",
    "id": "QcQdvzdWNjEb",
    "outputId": "23837308-517a-4c97-cced-354c5ddb0ef0"
   },
   "outputs": [
    {
     "data": {
      "text/html": [
       "<div>\n",
       "<style scoped>\n",
       "    .dataframe tbody tr th:only-of-type {\n",
       "        vertical-align: middle;\n",
       "    }\n",
       "\n",
       "    .dataframe tbody tr th {\n",
       "        vertical-align: top;\n",
       "    }\n",
       "\n",
       "    .dataframe thead th {\n",
       "        text-align: right;\n",
       "    }\n",
       "</style>\n",
       "<table border=\"1\" class=\"dataframe\">\n",
       "  <thead>\n",
       "    <tr style=\"text-align: right;\">\n",
       "      <th></th>\n",
       "      <th>DATE</th>\n",
       "      <th>LREM64TTCAM156S</th>\n",
       "    </tr>\n",
       "  </thead>\n",
       "  <tbody>\n",
       "    <tr>\n",
       "      <th>0</th>\n",
       "      <td>1995-01-01</td>\n",
       "      <td>67.7</td>\n",
       "    </tr>\n",
       "    <tr>\n",
       "      <th>1</th>\n",
       "      <td>1995-02-01</td>\n",
       "      <td>67.6</td>\n",
       "    </tr>\n",
       "    <tr>\n",
       "      <th>2</th>\n",
       "      <td>1995-03-01</td>\n",
       "      <td>67.7</td>\n",
       "    </tr>\n",
       "    <tr>\n",
       "      <th>3</th>\n",
       "      <td>1995-04-01</td>\n",
       "      <td>67.6</td>\n",
       "    </tr>\n",
       "    <tr>\n",
       "      <th>4</th>\n",
       "      <td>1995-05-01</td>\n",
       "      <td>67.4</td>\n",
       "    </tr>\n",
       "  </tbody>\n",
       "</table>\n",
       "</div>"
      ],
      "text/plain": [
       "         DATE  LREM64TTCAM156S\n",
       "0  1995-01-01             67.7\n",
       "1  1995-02-01             67.6\n",
       "2  1995-03-01             67.7\n",
       "3  1995-04-01             67.6\n",
       "4  1995-05-01             67.4"
      ]
     },
     "execution_count": 23,
     "metadata": {
      "tags": []
     },
     "output_type": "execute_result"
    }
   ],
   "source": [
    "df.head()"
   ]
  },
  {
   "cell_type": "code",
   "execution_count": null,
   "metadata": {
    "colab": {
     "base_uri": "https://localhost:8080/",
     "height": 286
    },
    "colab_type": "code",
    "id": "SjILvwPpNvCE",
    "outputId": "b90f47c4-e984-4341-c726-e64ad49391a7"
   },
   "outputs": [
    {
     "data": {
      "text/plain": [
       "<matplotlib.axes._subplots.AxesSubplot at 0x7fb18f6c8320>"
      ]
     },
     "execution_count": 25,
     "metadata": {
      "tags": []
     },
     "output_type": "execute_result"
    },
    {
     "data": {
      "image/png": "[encoded data removed]",
      "text/plain": [
       "<Figure size 432x288 with 1 Axes>"
      ]
     },
     "metadata": {
      "tags": []
     },
     "output_type": "display_data"
    }
   ],
   "source": [
    "df.plot()"
   ]
  },
  {
   "cell_type": "code",
   "execution_count": null,
   "metadata": {
    "colab": {},
    "colab_type": "code",
    "id": "vucZgwhmNylQ"
   },
   "outputs": [],
   "source": []
  }
 ],
 "metadata": {
  "colab": {
   "collapsed_sections": [],
   "name": "A gentle guide to digital for executives",
   "provenance": [],
   "version": "0.3.2"
  },
  "kernelspec": {
   "display_name": "Python 3",
   "language": "python",
   "name": "python3"
  },
  "language_info": {
   "codemirror_mode": {
    "name": "ipython",
    "version": 3
   },
   "file_extension": ".py",
   "mimetype": "text/x-python",
   "name": "python",
   "nbconvert_exporter": "python",
   "pygments_lexer": "ipython3",
   "version": "3.7.3"
  }
 },
 "nbformat": 4,
 "nbformat_minor": 2
}
