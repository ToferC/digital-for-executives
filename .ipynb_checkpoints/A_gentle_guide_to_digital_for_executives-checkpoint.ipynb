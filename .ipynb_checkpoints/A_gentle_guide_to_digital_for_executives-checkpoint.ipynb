{
  "nbformat": 4,
  "nbformat_minor": 0,
  "metadata": {
    "colab": {
      "name": "A gentle guide to digital for executives",
      "version": "0.3.2",
      "provenance": [],
      "collapsed_sections": []
    },
    "kernelspec": {
      "name": "python3",
      "display_name": "Python 3"
    }
  },
  "cells": [
    {
      "cell_type": "markdown",
      "metadata": {
        "id": "t61c1ynXXXLo",
        "colab_type": "text"
      },
      "source": [
        "# A gentle guide to digital for executives\n",
        "\n",
        "Welcome to an introduction to digital for executives. The idea behind this notebook is that by putting some basic programming into practice, you can learn a lot about how modern applications work and consequently, how the world and your business work."
      ]
    },
    {
      "cell_type": "markdown",
      "metadata": {
        "id": "7xM-EI7uZ8G4",
        "colab_type": "text"
      },
      "source": [
        "## Technology & digital are ubiquitous\n",
        "It's easy to see what technology does. It's around you and you use it hundreds of times each day. You drive your car, open your phone, check your texts and emails, take photographs, share them on social media, do your banking and video-call your family.\n",
        "\n",
        "Modern applications do all of this and more. They track and share data, conduct millions of mathematical operations in seconds and, more recently, can recognized patters in text, data and images - often better than people can.\n",
        "\n",
        "Regardless of your business, it is enabled and empowered through technology and digital. Put another way, digital is no longer a separate thing - it is part of our everyday world. If you don't understand digital, you don't understand how the world works, what challenges will arise or what possible solutions might exist.\n",
        "\n",
        "This guide will help. We will start with how applications work."
      ]
    },
    {
      "cell_type": "markdown",
      "metadata": {
        "id": "htGdU79WaI_z",
        "colab_type": "text"
      },
      "source": [
        "## Applications & Code\n",
        "To most people, applications are like magic. It doesn't make sense to ask how they work, because the answer itself is mysterious and arcane. So we accept the fact that they just **do** work and go about our business.\n",
        "\n",
        "But applications **are** understandable. They are like a house made of lego: complicated, but made of very simple building blocks that are organized to make something greater than its parts.\n",
        "\n",
        "Over time, programming languages have become more and more like natural human language. This makes them easier to understand as well as being easier to learn."
      ]
    },
    {
      "cell_type": "markdown",
      "metadata": {
        "id": "LMyh9c-GbGQb",
        "colab_type": "text"
      },
      "source": [
        "## Python\n",
        "We will be using a programming language named Python. It's named after Monty Python. One of the most popular and flexible programming languages and is the most used languages for data science. It's popular because it's easy to learn and understand."
      ]
    },
    {
      "cell_type": "markdown",
      "metadata": {
        "id": "1vhoIDOicle5",
        "colab_type": "text"
      },
      "source": [
        "Let's look at a piece of Python code:\n",
        "\n",
        "\n",
        "```\n",
        "if ate_breakfast == False:\n",
        "    print(\"You must be hungry.\")\n",
        "```\n",
        "\n"
      ]
    },
    {
      "cell_type": "markdown",
      "metadata": {
        "id": "MImUrGjGcJEn",
        "colab_type": "text"
      },
      "source": [
        "Even though you may never have seen any code before, you can probably figure out what this code will do if we run it. That's why people like Python."
      ]
    },
    {
      "cell_type": "markdown",
      "metadata": {
        "id": "0zIFeBGQZ1je",
        "colab_type": "text"
      },
      "source": [
        "\n",
        "The objective here isn't to memorize anything or to \"learn to code\". It's to put these building blocks of programming into practice. By doing so, you'll see and expeience first-hand how programs work."
      ]
    },
    {
      "cell_type": "markdown",
      "metadata": {
        "id": "MKzsWwegdgbQ",
        "colab_type": "text"
      },
      "source": [
        "## Jupyter Notebook & Google Collaboratory\n",
        "\n",
        "### Jupyter Notebook\n",
        "The Web page you're looking is based off a technology called a Jupyter Notebook. This lets you run a programming language like Python in a Web page. \n",
        "\n",
        "It's open source, which means that it's free to use and also that it's code is open for anyone to see. Because Jupyter was developed this way, a lot of people help to improve it and it's become one of the most important ways to teach, learn and experiment in data science.\n",
        "\n",
        "### Google Collaboratory\n",
        "Colab is developed by Google and hosts Jupyter Notebooks in the cloud in the same way that Google Docs hosts text documents.\n",
        "\n",
        "Together, these tools will let us share this notebook, work on it together and learn and experiment with Python from any computer or mobile device for free."
      ]
    },
    {
      "cell_type": "markdown",
      "metadata": {
        "id": "vDanOUSBfoso",
        "colab_type": "text"
      },
      "source": [
        "Jupyter uses **code cells**, like the one below to run Python scripts. The short script below computes a value, stores it in a variable, and prints the result:"
      ]
    },
    {
      "cell_type": "code",
      "metadata": {
        "id": "uBgtn0zDbWkX",
        "colab_type": "code",
        "outputId": "a63aaa62-2188-4bc5-8658-c5c007520bbf",
        "colab": {
          "base_uri": "https://localhost:8080/",
          "height": 34
        }
      },
      "source": [
        "seconds_in_an_hour = 60 * 60\n",
        "seconds_in_an_hour"
      ],
      "execution_count": 0,
      "outputs": [
        {
          "output_type": "execute_result",
          "data": {
            "text/plain": [
              "3600"
            ]
          },
          "metadata": {
            "tags": []
          },
          "execution_count": 4
        }
      ]
    },
    {
      "cell_type": "markdown",
      "metadata": {
        "id": "AwRyvN8CgQjR",
        "colab_type": "text"
      },
      "source": [
        "To execute the code in the above cell, select it with a click and then either press the play button to the left of the code, or use the keyboard shortcut \"Command/Ctrl+Enter\"."
      ]
    },
    {
      "cell_type": "markdown",
      "metadata": {
        "id": "Kn4KuDYFhZSf",
        "colab_type": "text"
      },
      "source": [
        "# Building blocks of code\n",
        "\n",
        "## Variables\n",
        "A variable is how you define an object in Python and store it in memory. They are very easy to use. \"seconds_in_an_hour\", above is a variable.\n",
        "\n",
        "We create a variable by naming it on the left, using an \"=\" in the middle and putting a value to the right.\n",
        "\n",
        "Variable names can be any combination of letters and numbers, but can't have spaces or start with a number.\n",
        "\n",
        "Thats why Python weites variables in \"snake_case\".\n",
        "\n",
        "Let's create a variable called my_name, assign in to your name and run the cell (click the Play button on hit CTL+Enter).\n",
        "\n",
        "Make sure to put your name in quotations. This tells Python that your name is text, which Python calls a string.\n",
        "\n",
        "\n"
      ]
    },
    {
      "cell_type": "code",
      "metadata": {
        "id": "VYZNjMGNgoFs",
        "colab_type": "code",
        "colab": {}
      },
      "source": [
        "my_name = \"Chris\""
      ],
      "execution_count": 0,
      "outputs": []
    },
    {
      "cell_type": "markdown",
      "metadata": {
        "id": "XgrjbHlUitin",
        "colab_type": "text"
      },
      "source": [
        "Fantastic! You've just created your first variable. This is now stored in memory. Once it's been created, you can access the variable by typing it in a cell, like below. Run the cell to show your variable."
      ]
    },
    {
      "cell_type": "code",
      "metadata": {
        "id": "XIaYGtFJjAcD",
        "colab_type": "code",
        "outputId": "f61c3bf6-2f51-4d93-aa98-c675f0785df3",
        "colab": {
          "base_uri": "https://localhost:8080/",
          "height": 34
        }
      },
      "source": [
        "my_name"
      ],
      "execution_count": 0,
      "outputs": [
        {
          "output_type": "execute_result",
          "data": {
            "text/plain": [
              "'Chris'"
            ]
          },
          "metadata": {
            "tags": []
          },
          "execution_count": 7
        }
      ]
    },
    {
      "cell_type": "markdown",
      "metadata": {
        "id": "UK-PIhmekWPN",
        "colab_type": "text"
      },
      "source": [
        "You can also change a variable after it's been created. Try changing name to your full name and then calling it again."
      ]
    },
    {
      "cell_type": "code",
      "metadata": {
        "id": "pvs31GkAkWlh",
        "colab_type": "code",
        "outputId": "2fcbad5d-de67-4373-9f9c-fe0ca8dc2c08",
        "colab": {
          "base_uri": "https://localhost:8080/",
          "height": 34
        }
      },
      "source": [
        "my_name = \"First Last\"\n",
        "my_name"
      ],
      "execution_count": 0,
      "outputs": [
        {
          "output_type": "execute_result",
          "data": {
            "text/plain": [
              "'First Last'"
            ]
          },
          "metadata": {
            "tags": []
          },
          "execution_count": 9
        }
      ]
    },
    {
      "cell_type": "markdown",
      "metadata": {
        "id": "0N4qj09gjSkQ",
        "colab_type": "text"
      },
      "source": [
        "Nice work! There are different kinds of variables too. We just used a string, but there are also:\n",
        "\n",
        "*   Integers (1, 2, 3, etc)\n",
        "*   Floats (1.2, 4.7, 3.14)\n",
        "*   Booleans (True, False)\n",
        "\n",
        "Python will automatically figure out what type of variable you are using when you create or modify it.\n",
        "\n",
        "\n"
      ]
    },
    {
      "cell_type": "code",
      "metadata": {
        "id": "bFCW4qs_kpdx",
        "colab_type": "code",
        "outputId": "90f66b98-84fd-4d6b-ca78-5090776d182d",
        "colab": {
          "base_uri": "https://localhost:8080/",
          "height": 34
        }
      },
      "source": [
        "a = 7\n",
        "b = 3.14\n",
        "c = True"
      ],
      "execution_count": 0,
      "outputs": [
        {
          "output_type": "execute_result",
          "data": {
            "text/plain": [
              "10.14"
            ]
          },
          "metadata": {
            "tags": []
          },
          "execution_count": 11
        }
      ]
    },
    {
      "cell_type": "code",
      "metadata": {
        "id": "IAR6uADZmgpF",
        "colab_type": "code",
        "outputId": "99359e47-27f2-482b-ef4e-5e464a6e0f92",
        "colab": {
          "base_uri": "https://localhost:8080/",
          "height": 34
        }
      },
      "source": [
        "a, b, c"
      ],
      "execution_count": 0,
      "outputs": [
        {
          "output_type": "execute_result",
          "data": {
            "text/plain": [
              "(7, 3.14, True)"
            ]
          },
          "metadata": {
            "tags": []
          },
          "execution_count": 12
        }
      ]
    },
    {
      "cell_type": "markdown",
      "metadata": {
        "id": "hqVFpozOmoAg",
        "colab_type": "text"
      },
      "source": [
        "You can also perform operations on variables of the same or comparable types. You can add, subtract, multiply, divide are more."
      ]
    },
    {
      "cell_type": "code",
      "metadata": {
        "id": "SDaf2T1bmj7x",
        "colab_type": "code",
        "outputId": "8c8900e8-6622-49bb-9f82-f765d2562e95",
        "colab": {
          "base_uri": "https://localhost:8080/",
          "height": 34
        }
      },
      "source": [
        "a + b"
      ],
      "execution_count": 0,
      "outputs": [
        {
          "output_type": "execute_result",
          "data": {
            "text/plain": [
              "10.14"
            ]
          },
          "metadata": {
            "tags": []
          },
          "execution_count": 13
        }
      ]
    },
    {
      "cell_type": "code",
      "metadata": {
        "id": "GaUt0aivm5NW",
        "colab_type": "code",
        "outputId": "f9592829-c91c-4197-ccd0-b5b9a7b90912",
        "colab": {
          "base_uri": "https://localhost:8080/",
          "height": 34
        }
      },
      "source": [
        "a**b # to the power of"
      ],
      "execution_count": 0,
      "outputs": [
        {
          "output_type": "execute_result",
          "data": {
            "text/plain": [
              "450.4098148671133"
            ]
          },
          "metadata": {
            "tags": []
          },
          "execution_count": 17
        }
      ]
    },
    {
      "cell_type": "markdown",
      "metadata": {
        "id": "xmLA8qkxjS3w",
        "colab_type": "text"
      },
      "source": [
        "Variables are important in programming because they are how we move data around and change things in an application. We will use variables a lot in the rest of the guide."
      ]
    },
    {
      "cell_type": "markdown",
      "metadata": {
        "id": "PpGtqz9KxpFU",
        "colab_type": "text"
      },
      "source": [
        "## Conditionals\n",
        "Conditionals are just a fancy way of seeing if something has happened or is true or false.  The first piece of Python we saw above was a conditional using the \"if\" statement.\n",
        "\n",
        "Here it is again:"
      ]
    },
    {
      "cell_type": "code",
      "metadata": {
        "id": "7CsSwZH0yJHx",
        "colab_type": "code",
        "outputId": "5cab5a52-2ac7-49dd-8f54-408cfc2968e3",
        "colab": {
          "base_uri": "https://localhost:8080/",
          "height": 34
        }
      },
      "source": [
        "if ate_breakfast == False:\n",
        "    print(\"You must be hungry.\")"
      ],
      "execution_count": 0,
      "outputs": [
        {
          "output_type": "stream",
          "text": [
            "You must be hungry.\n"
          ],
          "name": "stdout"
        }
      ]
    },
    {
      "cell_type": "markdown",
      "metadata": {
        "id": "peSsjm15yUZe",
        "colab_type": "text"
      },
      "source": [
        "If you ran this cell, you saw an error. Specifically, you saw a NameError. The error showed you where the problem was and gave you a helpful tip: \"name 'ate_breakfast'\" is not defined.\n",
        "\n",
        "This means that we forgot to create our variable. With no variable, Python can't check to see if ate_breakfast is True or not, so we got an error.\n",
        "\n",
        "If you are writing code, you will see errors a LOT. Thankfully, modern programming tools are very good at helping you find out what is wrong.\n",
        "\n",
        "Let's fix our error now by assigning a variable."
      ]
    },
    {
      "cell_type": "code",
      "metadata": {
        "id": "S4yXTeyryLX8",
        "colab_type": "code",
        "colab": {}
      },
      "source": [
        "ate_breakfast = True"
      ],
      "execution_count": 0,
      "outputs": []
    },
    {
      "cell_type": "markdown",
      "metadata": {
        "id": "3jLUeX2lxzrv",
        "colab_type": "text"
      },
      "source": [
        "Now we'll run the if statement again."
      ]
    },
    {
      "cell_type": "code",
      "metadata": {
        "id": "5wQV-fyNzAe0",
        "colab_type": "code",
        "colab": {}
      },
      "source": [
        "if ate_breakfast == False:\n",
        "    print(\"You must be hungry.\")"
      ],
      "execution_count": 0,
      "outputs": []
    },
    {
      "cell_type": "markdown",
      "metadata": {
        "id": "ehRLmFPGzGuu",
        "colab_type": "text"
      },
      "source": [
        "If statements can also have alternatives, or \"else\" clauses."
      ]
    },
    {
      "cell_type": "code",
      "metadata": {
        "id": "PkahEL6azEuL",
        "colab_type": "code",
        "outputId": "0fc99227-9592-487b-9f96-8fa3d03abc3e",
        "colab": {
          "base_uri": "https://localhost:8080/",
          "height": 34
        }
      },
      "source": [
        "if ate_breakfast == False:\n",
        "    print(\"You must be hungry.\")\n",
        "else:\n",
        "    print(\"Nom nom\")"
      ],
      "execution_count": 0,
      "outputs": [
        {
          "output_type": "stream",
          "text": [
            "Nom nom\n"
          ],
          "name": "stdout"
        }
      ]
    },
    {
      "cell_type": "markdown",
      "metadata": {
        "id": "mCp63UXazkTZ",
        "colab_type": "text"
      },
      "source": [
        "Conditionals let us guide and control our program. They can also check for other conditions, like:\n",
        "\n",
        "* greater than >\n",
        "* less than <\n",
        "* equal to ==\n",
        "\n",
        "Conditionals return a value of True or False depending on their evaluation. Run the cells below to see how they evaluate."
      ]
    },
    {
      "cell_type": "code",
      "metadata": {
        "id": "9NTdD4hd0MiI",
        "colab_type": "code",
        "outputId": "0349dbcb-6935-423f-a7db-ee40fbee8b8c",
        "colab": {
          "base_uri": "https://localhost:8080/",
          "height": 34
        }
      },
      "source": [
        "2 > 5"
      ],
      "execution_count": 0,
      "outputs": [
        {
          "output_type": "execute_result",
          "data": {
            "text/plain": [
              "False"
            ]
          },
          "metadata": {
            "tags": []
          },
          "execution_count": 51
        }
      ]
    },
    {
      "cell_type": "code",
      "metadata": {
        "id": "NXZyFaOT0Wa6",
        "colab_type": "code",
        "outputId": "be78aa04-2e11-42a0-fead-793fb56328e0",
        "colab": {
          "base_uri": "https://localhost:8080/",
          "height": 34
        }
      },
      "source": [
        "14 == 14"
      ],
      "execution_count": 0,
      "outputs": [
        {
          "output_type": "execute_result",
          "data": {
            "text/plain": [
              "True"
            ]
          },
          "metadata": {
            "tags": []
          },
          "execution_count": 52
        }
      ]
    },
    {
      "cell_type": "code",
      "metadata": {
        "id": "W9NVS-Q90XTa",
        "colab_type": "code",
        "outputId": "22f95c20-c3e7-403a-ff49-2d7a8102bcda",
        "colab": {
          "base_uri": "https://localhost:8080/",
          "height": 34
        }
      },
      "source": [
        "True == False"
      ],
      "execution_count": 0,
      "outputs": [
        {
          "output_type": "execute_result",
          "data": {
            "text/plain": [
              "False"
            ]
          },
          "metadata": {
            "tags": []
          },
          "execution_count": 53
        }
      ]
    },
    {
      "cell_type": "markdown",
      "metadata": {
        "id": "siYy9ZcW0edW",
        "colab_type": "text"
      },
      "source": [
        ""
      ]
    },
    {
      "cell_type": "markdown",
      "metadata": {
        "id": "73ABOHa2nN3J",
        "colab_type": "text"
      },
      "source": [
        "## Loops\n",
        "Loops are another very important building block for applications. Most of the time, when you are thinking about automating something, you're thinking of some sort of a loop.\n",
        "\n",
        "The simplest loop is the \"for\" loop, which repeats an action multiple times over a list of values. When it gets to the end of the list, it stops.\n",
        "\n",
        "In English, a loop would be: \"For every person on my team, show the hours worked on projects,\" or \"for every project underway, show the % complete and who is working on it.\"\n",
        "\n",
        "Here is an example of a loop in code."
      ]
    },
    {
      "cell_type": "code",
      "metadata": {
        "id": "Xy1bBSNBoZqP",
        "colab_type": "code",
        "colab": {}
      },
      "source": [
        "# We start by declaring a variable \"people\". This variable is a data structure called a list. Lists let you store more than one value in a single variable.\n",
        "# They are great for loops.\n",
        "\n",
        "people = [\"Tom\", \"Mandy\", \"Anna\", \"Kent\", \"Ashley\"]"
      ],
      "execution_count": 0,
      "outputs": []
    },
    {
      "cell_type": "code",
      "metadata": {
        "id": "dP7FaJ3boZzi",
        "colab_type": "code",
        "outputId": "56ad86f4-597d-49f1-a5ea-35f5f5504e08",
        "colab": {
          "base_uri": "https://localhost:8080/",
          "height": 104
        }
      },
      "source": [
        "for person in people:\n",
        "  print(person)"
      ],
      "execution_count": 0,
      "outputs": [
        {
          "output_type": "stream",
          "text": [
            "Tom\n",
            "Mandy\n",
            "Anna\n",
            "Kent\n",
            "Ashley\n"
          ],
          "name": "stdout"
        }
      ]
    },
    {
      "cell_type": "markdown",
      "metadata": {
        "id": "t2KaRHmGfF7_",
        "colab_type": "text"
      },
      "source": [
        "Congratulations. You've just run your first automation in Python. An important note is that the code:\n",
        "\n",
        "\n",
        "```\n",
        "for person in people:\n",
        "  print(person)\n",
        "```\n",
        "Works exactly the same if there are five people or 5 million people.\n"
      ]
    },
    {
      "cell_type": "markdown",
      "metadata": {
        "id": "Z8R3VeJjorZ2",
        "colab_type": "text"
      },
      "source": [
        "You can also create loops with numbers or ranges."
      ]
    },
    {
      "cell_type": "code",
      "metadata": {
        "id": "t7Lg64yIpVca",
        "colab_type": "code",
        "outputId": "e7b34f3e-53f9-47a7-b99b-6de3893e6e0e",
        "colab": {
          "base_uri": "https://localhost:8080/",
          "height": 86
        }
      },
      "source": [
        "for i in range(1,5): # The loop stops before the last number\n",
        "  print(i*i)  # Multiplies the number by itself or squares the number"
      ],
      "execution_count": 0,
      "outputs": [
        {
          "output_type": "stream",
          "text": [
            "1\n",
            "4\n",
            "9\n",
            "16\n"
          ],
          "name": "stdout"
        }
      ]
    },
    {
      "cell_type": "markdown",
      "metadata": {
        "id": "7FWK6FYnqSbD",
        "colab_type": "text"
      },
      "source": [
        "By combining loops and variables, we can do computations very quickly."
      ]
    },
    {
      "cell_type": "code",
      "metadata": {
        "id": "9eBQXCelqalW",
        "colab_type": "code",
        "outputId": "ad331ade-9a2e-494e-c8d7-5241e826de0f",
        "colab": {
          "base_uri": "https://localhost:8080/",
          "height": 34
        }
      },
      "source": [
        "total = 0  # our variable, which we will use to keep track of our total\n",
        "\n",
        "for i in range(1, 11):\n",
        "  total += i**i # += means \"add to\". ** means \"to the power of\"\n",
        "  \n",
        "print(\"The total of x to the power of x for 1 to 100 is\", total)"
      ],
      "execution_count": 0,
      "outputs": [
        {
          "output_type": "stream",
          "text": [
            "The total of x to the power of x for 1 to 100 is 10405071317\n"
          ],
          "name": "stdout"
        }
      ]
    },
    {
      "cell_type": "markdown",
      "metadata": {
        "id": "2OPt2y64hGWV",
        "colab_type": "text"
      },
      "source": [
        "Loops let you act upon, modify or extract information from any range of data that you might have. Examples might be:\n",
        "*  users\n",
        "*  documents\n",
        "*  applications\n",
        "*  events"
      ]
    },
    {
      "cell_type": "markdown",
      "metadata": {
        "id": "RYRkGPWLrqlm",
        "colab_type": "text"
      },
      "source": [
        "## Functions\n",
        "Functions are the third major building block that we will look at. Look at where we type \"print\" above. You will see that print is followed by round brackets, like this: \"print()\" .\n",
        "\n",
        "Print, written print(\"something\") is a function. It prints out whatever is inside the brackets."
      ]
    },
    {
      "cell_type": "code",
      "metadata": {
        "id": "-7DICQyVlJgG",
        "colab_type": "code",
        "outputId": "476e710a-4528-45d4-c727-fbd4adda017b",
        "colab": {
          "base_uri": "https://localhost:8080/",
          "height": 34
        }
      },
      "source": [
        "print(\"ADD_SOMETHING_HERE\")"
      ],
      "execution_count": 0,
      "outputs": [
        {
          "output_type": "stream",
          "text": [
            "ADD_SOMETHING_HERE\n"
          ],
          "name": "stdout"
        }
      ]
    },
    {
      "cell_type": "markdown",
      "metadata": {
        "id": "6T6Nz7-ElYLy",
        "colab_type": "text"
      },
      "source": [
        "You can create your own functions very easily. You just define your function by writing \"def\" (define), giving it a name and specifying what it does.\n",
        "\n",
        "The simplest functions just do a single thing. Here is an example:"
      ]
    },
    {
      "cell_type": "code",
      "metadata": {
        "id": "VHA8JJiZst8k",
        "colab_type": "code",
        "colab": {}
      },
      "source": [
        "def bark():\n",
        "  print(\"Woof\")"
      ],
      "execution_count": 0,
      "outputs": []
    },
    {
      "cell_type": "markdown",
      "metadata": {
        "id": "oTtQDrR2tDIJ",
        "colab_type": "text"
      },
      "source": [
        "Now you can call your function."
      ]
    },
    {
      "cell_type": "code",
      "metadata": {
        "id": "T3m_6yUcs9i1",
        "colab_type": "code",
        "outputId": "2457a608-0912-4d9d-bd1a-0d524b7a2d2f",
        "colab": {
          "base_uri": "https://localhost:8080/",
          "height": 34
        }
      },
      "source": [
        "bark()"
      ],
      "execution_count": 0,
      "outputs": [
        {
          "output_type": "stream",
          "text": [
            "Woof\n"
          ],
          "name": "stdout"
        }
      ]
    },
    {
      "cell_type": "markdown",
      "metadata": {
        "id": "_1nDsBHBtKWX",
        "colab_type": "text"
      },
      "source": [
        "More complicated functions accept variables and do something to them."
      ]
    },
    {
      "cell_type": "code",
      "metadata": {
        "id": "9jOKckKftJGf",
        "colab_type": "code",
        "colab": {}
      },
      "source": [
        "def say_hello(some_name):\n",
        "  print(\"Hello\", some_name)"
      ],
      "execution_count": 0,
      "outputs": []
    },
    {
      "cell_type": "code",
      "metadata": {
        "id": "LWgtWAEqtemr",
        "colab_type": "code",
        "outputId": "b7308e82-3c68-4ae4-d69b-9273173202f6",
        "colab": {
          "base_uri": "https://localhost:8080/",
          "height": 34
        }
      },
      "source": [
        "say_hello(my_name)"
      ],
      "execution_count": 0,
      "outputs": [
        {
          "output_type": "stream",
          "text": [
            "Hello Chris\n"
          ],
          "name": "stdout"
        }
      ]
    },
    {
      "cell_type": "markdown",
      "metadata": {
        "id": "rnaYgoS_orkN",
        "colab_type": "text"
      },
      "source": [
        "You'll notice two things here. First, we put the variable inside the brackets when we called the function. Python was expecting a value that it calls some_name.\n",
        "\n",
        "Second, because we entered \"my_name\", which was your variable from above, our say_hello function gave **you** a warm welcome."
      ]
    },
    {
      "cell_type": "markdown",
      "metadata": {
        "id": "NHcbz-e1ur-0",
        "colab_type": "text"
      },
      "source": [
        "## Building blocks\n",
        "Functions are like lego. They can build on top of each other. In fact, you can call functions from inside other functions.\n",
        "\n",
        "This is the secret to how applications work. They have a lot of very simple parts that are combined together like lego blocks. By defining variables, placing loops and calling functions, these simple blocks combine to do amazing things.\n",
        "\n",
        "Here is another example that uses functions, loops and variables."
      ]
    },
    {
      "cell_type": "code",
      "metadata": {
        "id": "UKOeiitHu7rc",
        "colab_type": "code",
        "colab": {}
      },
      "source": [
        "def bad_dog(some_name, number_of_woofs):\n",
        "  # bad_dogs bark when they see someone new\n",
        "  # This function accepts a text string as a name and a number for the\n",
        "  # number of barks from the dog\n",
        "  \n",
        "  say_hello(some_name)\n",
        "  \n",
        "  for i in range(number_of_woofs):\n",
        "    bark()\n",
        "    \n",
        "  print(\"Don't go\", some_name, \"!\")\n",
        "  print(\"Bad dog!\")"
      ],
      "execution_count": 0,
      "outputs": []
    },
    {
      "cell_type": "code",
      "metadata": {
        "id": "MKktWdzFvXNa",
        "colab_type": "code",
        "outputId": "5c3a9f79-44b7-43af-d362-1a98bc33c9d4",
        "colab": {
          "base_uri": "https://localhost:8080/",
          "height": 208
        }
      },
      "source": [
        "bad_dog(my_name, 8)"
      ],
      "execution_count": 0,
      "outputs": [
        {
          "output_type": "stream",
          "text": [
            "Hello Chris\n",
            "Woof\n",
            "Woof\n",
            "Woof\n",
            "Woof\n",
            "Woof\n",
            "Woof\n",
            "Woof\n",
            "Woof\n",
            "Don't go Chris !\n",
            "Bad dog!\n"
          ],
          "name": "stdout"
        }
      ]
    },
    {
      "cell_type": "markdown",
      "metadata": {
        "id": "bDGTVV6xwRIt",
        "colab_type": "text"
      },
      "source": [
        "Using functions like this one, you can sort 100,000 documents in a few seconds, automatically generate graph plots, search for words in a text or run advanced statistical analysis on your organizations data."
      ]
    },
    {
      "cell_type": "markdown",
      "metadata": {
        "id": "7rrVbcwXw_Av",
        "colab_type": "text"
      },
      "source": [
        "This on it's own is very powerful and could change the way that you and your teams work.\n",
        "\n",
        "But there is something even more powerful about a programming language like Python. It is open source."
      ]
    },
    {
      "cell_type": "markdown",
      "metadata": {
        "id": "6gDnIvnV1P0N",
        "colab_type": "text"
      },
      "source": [
        "## Open Source & Libraries\n",
        "\n",
        "Open source is a kind of free software. It is different from other software because the source code is available to everyone and can be shared. This means that anyone can see how the source code works and can change it if they want to make it work differently. The opposite of open source is closed source.\n",
        "\n",
        "Open source software is often built by communities. Some private businesses also contribute because they reap the benefits of these community efforts, but more and more, businesses now have open source as a key piece of their business model. \n",
        "\n",
        "Despite being \"free\", the [internet would not exist](https://www.vice.com/en_us/article/43zak3/the-internet-was-built-on-the-free-labor-of-open-source-developers-is-that-sustainable) without open source software and the  [value of just a few major open source projects](https://qz.com/1474770/researchers-estimate-that-python-javascript-and-r-contribute-billions-to-gdp/) has been estimated in the billions of dollars. \n",
        "\n",
        "Open source software and open collaboration through platforms like GitHub or GitLab have also been shown as a [key driver of innovation](https://www.fastcompany.com/90364152/embracing-open-source-could-be-a-big-competitive-advantage-for-businesses).\n",
        "\n",
        "Open source software allows developers around the world to \"stand on the shoulders of giants\"; adding value to the world because they don't need to re-invent what has come before.  In Python this is usually done by adding a library.\n",
        "\n",
        "There are thousands of libraries for Python. This also contributes to its popularity. When you want to do something in Python, most often, someone has created a library for that task. If a library doesn't exist, it is easy to create. Then the next person doesn't need to re-create that wheel.\n",
        "\n",
        "Because of this, the usefulness of Python and its power has continued to increase and improve.\n",
        "\n",
        "There are libraries for image processing, mathematics, creating Web applications, Web scraping, data analysis, data visualization, machine learning and much more.\n",
        "\n",
        "We will use the requests library to do some simple Web scraping."
      ]
    },
    {
      "cell_type": "code",
      "metadata": {
        "id": "Bl9IzphFqUer",
        "colab_type": "code",
        "colab": {}
      },
      "source": [
        "import requests"
      ],
      "execution_count": 0,
      "outputs": []
    },
    {
      "cell_type": "code",
      "metadata": {
        "id": "NN5inatjJdWj",
        "colab_type": "code",
        "colab": {}
      },
      "source": [
        "r = requests.get(\"https://www.csps-efpc.gc.ca/index-eng.aspx\")"
      ],
      "execution_count": 0,
      "outputs": []
    },
    {
      "cell_type": "markdown",
      "metadata": {
        "id": "f_JviJUW1iez",
        "colab_type": "text"
      },
      "source": [
        "Intro to Python\n",
        "Python is a popular modern programming language."
      ]
    },
    {
      "cell_type": "code",
      "metadata": {
        "id": "m3Ke8k-0JjQ8",
        "colab_type": "code",
        "outputId": "b984bcba-8c10-4a38-d689-0e22318c60e3",
        "colab": {
          "base_uri": "https://localhost:8080/",
          "height": 171
        }
      },
      "source": [
        "r.content"
      ],
      "execution_count": 0,
      "outputs": [
        {
          "output_type": "error",
          "ename": "NameError",
          "evalue": "ignored",
          "traceback": [
            "\u001b[0;31m---------------------------------------------------------------------------\u001b[0m",
            "\u001b[0;31mNameError\u001b[0m                                 Traceback (most recent call last)",
            "\u001b[0;32m<ipython-input-5-45cb07497890>\u001b[0m in \u001b[0;36m<module>\u001b[0;34m()\u001b[0m\n\u001b[0;32m----> 1\u001b[0;31m \u001b[0mr\u001b[0m\u001b[0;34m.\u001b[0m\u001b[0mcontent\u001b[0m\u001b[0;34m\u001b[0m\u001b[0;34m\u001b[0m\u001b[0m\n\u001b[0m",
            "\u001b[0;31mNameError\u001b[0m: name 'r' is not defined"
          ]
        }
      ]
    },
    {
      "cell_type": "code",
      "metadata": {
        "id": "6aTZnkh0Jna-",
        "colab_type": "code",
        "colab": {}
      },
      "source": [
        "from bs4 import BeautifulSoup"
      ],
      "execution_count": 0,
      "outputs": []
    },
    {
      "cell_type": "code",
      "metadata": {
        "id": "NuKhFShZJoan",
        "colab_type": "code",
        "outputId": "414236ef-56c7-485f-c9df-c9000a2a33fb",
        "colab": {
          "base_uri": "https://localhost:8080/",
          "height": 1000
        }
      },
      "source": [
        "soup = BeautifulSoup(r.content, 'html.parser')\n",
        "\n",
        "print(soup.prettify())"
      ],
      "execution_count": 0,
      "outputs": [
        {
          "output_type": "stream",
          "text": [
            "<!DOCTYPE html>\n",
            "<html lang=\"en\" xmlns=\"http://www.w3.org/1999/xhtml\">\n",
            " <head>\n",
            "  <meta charset=\"utf-8\"/>\n",
            "  <!-- Web Experience Toolkit (WET) / Boîte à outils de l'expérience Web (BOEW)\r\n",
            "\t\twet-boew.github.io/wet-boew/License-en.html / wet-boew.github.io/wet-boew/Licence-fr.html -->\n",
            "  <meta content=\"width=device-width,initial-scale=1\" name=\"viewport\"/>\n",
            "  <meta content=\"Home - Canada School of Public Service\" name=\"DCTERMS.title\"/>\n",
            "  <meta content=\"faculty, instructor, facilitator, training, events, regions, courses,  learners, organizations\" name=\"DCTERMS.subject\"/>\n",
            "  <meta content=\"Government of Canada, Canada School of Public Service, Strategic Directions, Program Development and Marketing Branch: Communications, Marketing and Engagement\" name=\"DCTERMS.creator\"/>\n",
            "  <meta content=\"The Canada School of Public Service is the common learning provider for the Canadian federal public service.\" name=\"DCTERMS.description\"/>\n",
            "  <meta content=\"en\" name=\"DCTERMS.language\"/>\n",
            "  <meta content=\"2019-04-08\" name=\"DCTERMS.issued\"/>\n",
            "  <meta content=\"2019-06-12\" name=\"DCTERMS.modified\"/>\n",
            "  <!-- icons declaration -->\n",
            "  <link href=\"/assets/favicon.ico\" rel=\"icon\" type=\"image/x-icon\"/>\n",
            "  <!-- icons declaration ends  -->\n",
            "  <!-- Java script declaration starts -->\n",
            "  <script src=\"https://ajax.googleapis.com/ajax/libs/jquery/3.3.1/jquery.min.js\">\n",
            "  </script>\n",
            "  <script src=\"http://maxcdn.bootstrapcdn.com/bootstrap/3.3.7/js/bootstrap.min.js\">\n",
            "  </script>\n",
            "  <script src=\"https://cdnjs.cloudflare.com/ajax/libs/jquery/3.1.0/jquery.min.js\">\n",
            "  </script>\n",
            "  <!-- Java script declaration is continued in the bottom part of the body tag of this page. -->\n",
            "  <!-- Cascading style sheet (CSS) declaration starts here  -->\n",
            "  <!-- since this master page is used by 99 % of the pages if any body maintaing this in the future be careful -->\n",
            "  <!-- The bootstrap css is no longer declared here for the \"theme.min.css\" of the \"GCWeb\\css\" folder contains the bootstrap.css and bootstrap.js within - According to Pierre the GCWEB (WET 5 developer)  -->\n",
            "  <noscript>\n",
            "   <link href=\"/wet-boew/css/noscript.min.css\" rel=\"stylesheet\"/>\n",
            "  </noscript>\n",
            "  <link href=\"https://cdnjs.cloudflare.com/ajax/libs/font-awesome/4.7.0/css/font-awesome.min.css\" rel=\"stylesheet\"/>\n",
            "  <link href=\"/GCWeb/css/theme.css\" rel=\"stylesheet\"/>\n",
            "  <link href=\"/GCWeb/css/custom/csps.css\" rel=\"stylesheet\"/>\n",
            "  <!-- CSS declaration ends here  -->\n",
            "  <title>\n",
            "   Canada School of Public Service - CSPS\n",
            "  </title>\n",
            "  <!-- moved to the custom css file named GCWEB\\css\\custom\\csps.css\r\n",
            "     The style below was added to display the Eupdate Icon as it's not part of the Canada.ca css file. -->\n",
            " </head>\n",
            " <body typeof=\"WebPage\" vocab=\"http://schema.org/\">\n",
            "  <!-- End Piwik Code -->\n",
            "  <!-- Matomo -->\n",
            "  <script type=\"text/javascript\">\n",
            "   var _paq = window._paq || [];\r\n",
            "        /* tracker methods like \"setCustomDimension\" should be called before \"trackPageView\" */\r\n",
            "        _paq.push(['trackPageView']);\r\n",
            "        _paq.push(['enableLinkTracking']);\r\n",
            "        (function () {\r\n",
            "            var u = \"https://analytics.nglxp.ca/\";\r\n",
            "            _paq.push(['setTrackerUrl', u + 'matomo.php']);\r\n",
            "            _paq.push(['setSiteId', '6']);\r\n",
            "            var d = document, g = d.createElement('script'), s = d.getElementsByTagName('script')[0];\r\n",
            "            g.type = 'text/javascript'; g.async = true; g.defer = true; g.src = u + 'matomo.js'; s.parentNode.insertBefore(g, s);\r\n",
            "        })();\n",
            "  </script>\n",
            "  <!-- End Matomo Code -->\n",
            "  <header role=\"banner\">\n",
            "   <div class=\"container\" id=\"wb-bnr\">\n",
            "    <!--language selection-->\n",
            "    <section class=\"text-right\" id=\"wb-lng\">\n",
            "     <h2 class=\"wb-inv\">\n",
            "      Language selection\n",
            "     </h2>\n",
            "     <ul class=\"list-inline margin-bottom-none\">\n",
            "      <li>\n",
            "       <a href=\"https://www.csps-efpc.gc.ca/index-fra.aspx\" id=\"ctl09_langSwitch\" lang=\"fr\">\n",
            "        Français\n",
            "       </a>\n",
            "      </li>\n",
            "     </ul>\n",
            "    </section>\n",
            "    <!-- language selection end -->\n",
            "    <div class=\"row\">\n",
            "     <div class=\"brand col-xs-5 col-md-4\">\n",
            "      <a href=\"https://www.canada.ca/en.html\">\n",
            "       <img alt=\"Government of Canada\" src=\"/assets/sig-blk-en.svg\"/>\n",
            "       <span class=\"wb-inv\">\n",
            "        Government of Canada\n",
            "       </span>\n",
            "      </a>\n",
            "     </div>\n",
            "     <section class=\"col-lg-8 text-right\" id=\"wb-srch\">\n",
            "      <h2>\n",
            "       Search\n",
            "      </h2>\n",
            "      <form action=\"https://www.canada.ca/en/school-public-service/search.html\" class=\"form-inline\" method=\"get\" name=\"cse-search-box\" role=\"search\">\n",
            "       <div class=\"form-group\">\n",
            "        <label class=\"wb-inv\" for=\"wb-srch-q\">\n",
            "         Search Canada.ca\n",
            "        </label>\n",
            "        <input class=\"form-control\" id=\"charset\" name=\"st\" type=\"hidden\" value=\"UTF-8\"/>\n",
            "        <input class=\"wb-srch-q form-control\" id=\"wb-srch-q\" list=\"wb-srch-q-ac\" maxlength=\"170\" name=\"q\" placeholder=\"Search Canada.ca\" size=\"34\" type=\"search\" value=\"\"/>\n",
            "        <datalist id=\"wb-srch-q-ac\">\n",
            "        </datalist>\n",
            "       </div>\n",
            "       <div class=\"form-group submit\">\n",
            "        <button class=\"btn btn-primary btn-small\" id=\"wb-srch-sub\" name=\"wb-srch-sub\" type=\"submit\">\n",
            "         <span class=\"glyphicon-search glyphicon\">\n",
            "         </span>\n",
            "         <span class=\"wb-inv\">\n",
            "          Search\n",
            "         </span>\n",
            "        </button>\n",
            "       </div>\n",
            "      </form>\n",
            "     </section>\n",
            "    </div>\n",
            "   </div>\n",
            "   <!--Menu section-->\n",
            "   <nav class=\"gcweb-menu\" typeof=\"SiteNavigationElement\">\n",
            "    <div class=\"container\">\n",
            "     <h2 class=\"wb-inv\">\n",
            "      Menu\n",
            "     </h2>\n",
            "     <button aria-expanded=\"false\" aria-haspopup=\"true\" type=\"button\">\n",
            "      <span class=\"wb-inv\">\n",
            "       Main\n",
            "      </span>\n",
            "      Menu\n",
            "      <span class=\"expicon glyphicon glyphicon-chevron-down\">\n",
            "      </span>\n",
            "     </button>\n",
            "     <!--<ul role=\"menu\" aria-orientation=\"vertical\" data-ajax-replace=\"/ajax/sitemenu-v2-en.html\" class=\"original\">  this was from index/index.html-->\n",
            "     <!--copied the one from release notes-->\n",
            "     <!--<ul role=\"menu\" aria-orientation=\"vertical\"> appeared on the release notes  - March 13, 2017-->\n",
            "     <ul aria-orientation=\"vertical\" data-ajax-replace=\"/ajax/sitemenu-v2-en.html\" role=\"menu\">\n",
            "      <li role=\"presentation\">\n",
            "       <a href=\"https://www.canada.ca/en/services/jobs.html\" role=\"menuitem\">\n",
            "        Jobs and the workplace\n",
            "       </a>\n",
            "      </li>\n",
            "      <li role=\"presentation\">\n",
            "       <a href=\"https://www.canada.ca/en/services/immigration-citizenship.html\" role=\"menuitem\">\n",
            "        Immigration and citizenship\n",
            "       </a>\n",
            "      </li>\n",
            "      <li role=\"presentation\">\n",
            "       <a href=\"https://travel.gc.ca/\" role=\"menuitem\">\n",
            "        Travel and tourism\n",
            "       </a>\n",
            "      </li>\n",
            "      <li role=\"presentation\">\n",
            "       <a href=\"https://www.canada.ca/en/services/business.html\" role=\"menuitem\">\n",
            "        Business and industry\n",
            "       </a>\n",
            "      </li>\n",
            "      <li role=\"presentation\">\n",
            "       <a href=\"https://www.canada.ca/en/services/benefits.html\" role=\"menuitem\">\n",
            "        Benefits\n",
            "       </a>\n",
            "      </li>\n",
            "      <li role=\"presentation\">\n",
            "       <a href=\"https://www.canada.ca/en/services/health.html\" role=\"menuitem\">\n",
            "        Health\n",
            "       </a>\n",
            "      </li>\n",
            "      <li role=\"presentation\">\n",
            "       <a href=\"https://www.canada.ca/en/services/taxes.html\" role=\"menuitem\">\n",
            "        Taxes\n",
            "       </a>\n",
            "      </li>\n",
            "      <li role=\"presentation\">\n",
            "       <a href=\"https://www.canada.ca/en/services/environment.html\" role=\"menuitem\">\n",
            "        Environment and natural resources\n",
            "       </a>\n",
            "      </li>\n",
            "      <li role=\"presentation\">\n",
            "       <a href=\"https://www.canada.ca/en/services/defence.html\" role=\"menuitem\">\n",
            "        National security and defence\n",
            "       </a>\n",
            "      </li>\n",
            "      <li role=\"presentation\">\n",
            "       <a href=\"https://www.canada.ca/en/services/culture.html\" role=\"menuitem\">\n",
            "        Culture, history and sport\n",
            "       </a>\n",
            "      </li>\n",
            "      <li role=\"presentation\">\n",
            "       <a href=\"https://www.canada.ca/en/services/policing.html\" role=\"menuitem\">\n",
            "        Policing, justice and emergencies\n",
            "       </a>\n",
            "      </li>\n",
            "      <li role=\"presentation\">\n",
            "       <a href=\"https://www.canada.ca/en/services/transport.html\" role=\"menuitem\">\n",
            "        Transport and infrastructure\n",
            "       </a>\n",
            "      </li>\n",
            "      <li role=\"presentation\">\n",
            "       <a href=\"http://international.gc.ca/world-monde/index.aspx?lang=eng\" role=\"menuitem\">\n",
            "        Canada and the world\n",
            "       </a>\n",
            "      </li>\n",
            "      <li role=\"presentation\">\n",
            "       <a href=\"https://www.canada.ca/en/services/finance.html\" role=\"menuitem\">\n",
            "        Money and finances\n",
            "       </a>\n",
            "      </li>\n",
            "      <li role=\"presentation\">\n",
            "       <a href=\"https://www.canada.ca/en/services/finance.html\" role=\"menuitem\">\n",
            "        Science and innovation\n",
            "       </a>\n",
            "      </li>\n",
            "     </ul>\n",
            "    </div>\n",
            "   </nav>\n",
            "   <!--Breadcrumb section-->\n",
            "   <nav id=\"wb-bc\" property=\"breadcrumb\">\n",
            "    <!--role=\"navigation\"-->\n",
            "    <h2 class=\"wb-inv\">\n",
            "     You are here:\n",
            "    </h2>\n",
            "    <div class=\"container\">\n",
            "     <ol class=\"breadcrumb\">\n",
            "      <li>\n",
            "       <a href=\"http://www.canada.ca/en.html\">\n",
            "        Home\n",
            "       </a>\n",
            "      </li>\n",
            "     </ol>\n",
            "    </div>\n",
            "   </nav>\n",
            "  </header>\n",
            "  <form action=\"./index-eng.aspx\" id=\"form1\" method=\"post\">\n",
            "   <input id=\"__VIEWSTATE\" name=\"__VIEWSTATE\" type=\"hidden\" value=\"/wEPDwUKLTMzMTg1NTkxMQ9kFgJmD2QWBmYPZBYCAgMPZBYCAgEPFgIeBFRleHQFNDxtZXRhIG5hbWU9J0RDVEVSTVMubW9kaWZpZWQnIGNvbnRlbnQ9JzIwMTktMDYtMTInLz5kAgEPZBYCZg9kFgQCAQ8WAh4EaHJlZgUqaHR0cHM6Ly93d3cuY3Nwcy1lZnBjLmdjLmNhL2luZGV4LWZyYS5hc3B4ZAIDDxYCHwAFVDxvbCBjbGFzcz0nYnJlYWRjcnVtYic+PGxpPjxhIGhyZWY9J2h0dHA6Ly93d3cuY2FuYWRhLmNhL2VuLmh0bWwnPkhvbWU8L2E+PC9saT48L29sPmQCAg9kFgYCAw8WAh8ABRRTa2lwIHRvIG1haW4gY29udGVudGQCBQ8WAh8ABSNTa2lwIHRvICZxdW90O0Fib3V0IHRoaXMgc2l0ZSZxdW90O2QCCw8WAh8ABRNEYXRlIG1vZGlmaWVkOiYjMzI7ZGTn6+wRUu41Z9b7djYqJkDSQ1JQzWfwDtJVvOHbOvW4nw==\"/>\n",
            "   <input id=\"__VIEWSTATEGENERATOR\" name=\"__VIEWSTATEGENERATOR\" type=\"hidden\" value=\"78164D50\"/>\n",
            "   <input id=\"__EVENTVALIDATION\" name=\"__EVENTVALIDATION\" type=\"hidden\" value=\"/wEdAALpabRXlc2eWvB0rIXF8BOYS80682J8Edt9O+/i8PubjFD+wRawyT2Uif5d34j0/muQfnYUYMF/DpE7G0r1GhNW\"/>\n",
            "   <div id=\"hdnInputPlaceholder\">\n",
            "    <input id=\"hdnLanguage\" name=\"ctl00$hdnLanguage\" type=\"hidden\" value=\"en\"/>\n",
            "   </div>\n",
            "   <ul id=\"wb-tphp\">\n",
            "    <li class=\"wb-slc\">\n",
            "     <a class=\"wb-sl\" href=\"#wb-cont\">\n",
            "      Skip to main content\n",
            "     </a>\n",
            "    </li>\n",
            "    <li class=\"wb-slc visible-sm visible-md visible-lg\">\n",
            "     <a class=\"wb-sl\" href=\"#wb-info\">\n",
            "      Skip to \"About this site\"\n",
            "     </a>\n",
            "    </li>\n",
            "   </ul>\n",
            "   <!-- \"gc-srvinfo home\" makes the h2 and h3 smaller   mwstext section  gc-srvinfo home-->\n",
            "   <main class=\"container mwstext section\" property=\"mainContentOfPage\" role=\"main\">\n",
            "    <!--\"gc-theme\" or the classes \"mwstext\" and \"section\" together makes the font size bigger-->\n",
            "    <h1 id=\"wb-cont\">\n",
            "     Canada School of Public Service\n",
            "    </h1>\n",
            "    <div class=\"row container\">\n",
            "     <div class=\"wb-tabs carousel-s1\">\n",
            "      <ul role=\"tablist\">\n",
            "       <li class=\"active\">\n",
            "        <a href=\"#panel1\">\n",
            "        </a>\n",
            "       </li>\n",
            "      </ul>\n",
            "      <div class=\"tabpanels\">\n",
            "       <div id=\"panel1\" role=\"tabpanel\">\n",
            "        <figure>\n",
            "         <img alt=\"\" src=\"/images/banner1.png\"/>\n",
            "         <figcaption>\n",
            "          <p>\n",
            "           <a href=\"/About_Us/Business_lines/index-eng.aspx\">\n",
            "            <b>\n",
            "             Featured:\n",
            "            </b>\n",
            "            Introducing the School's new business lines\n",
            "           </a>\n",
            "          </p>\n",
            "         </figcaption>\n",
            "        </figure>\n",
            "       </div>\n",
            "      </div>\n",
            "     </div>\n",
            "    </div>\n",
            "    <!-- Following section I have come across in canada.ca They use it for urgent comunication. I thought it is beneficial to leave here in case for our future usage -->\n",
            "    <div class=\"row\">\n",
            "     <div class=\"col-sm-8 mrgn-tp-lg\">\n",
            "      The\n",
            "      <b>\n",
            "       Canada School of Public Service\n",
            "      </b>\n",
            "      leads the government's enterprise-wide approach to learning by providing a common, standardized curriculum that supports public servants through key career transitions, ensuring that they are equipped to serve Canadians with excellence.\n",
            "     </div>\n",
            "     <div class=\"col-sm-4 mrgn-tp-lg\">\n",
            "      <section class=\"followus\">\n",
            "       <h2>\n",
            "        Follow:\n",
            "       </h2>\n",
            "       <ul>\n",
            "        <li>\n",
            "         <a class=\"twitter\" href=\"https://twitter.com/School_GC\" rel=\"external\" title=\"Twitter\">\n",
            "          <span class=\"wb-inv\">\n",
            "           Twitter\n",
            "          </span>\n",
            "         </a>\n",
            "        </li>\n",
            "        <li>\n",
            "         <a class=\"youtube\" href=\"https://www.youtube.com/user/MySchoolMonEcole\" rel=\"external\" title=\"Youtube\">\n",
            "          <span class=\"wb-inv\">\n",
            "           YouTube\n",
            "          </span>\n",
            "         </a>\n",
            "        </li>\n",
            "        <li>\n",
            "         <a class=\"linkedin\" href=\"https://www.linkedin.com/company/canada-school-of-public-service?trk=fc_badge\" rel=\"external\" title=\"LinkedIn\">\n",
            "          <span class=\"wb-inv\">\n",
            "           LinkedIn\n",
            "          </span>\n",
            "         </a>\n",
            "        </li>\n",
            "       </ul>\n",
            "      </section>\n",
            "     </div>\n",
            "    </div>\n",
            "    <section class=\"mrgn-bttm-md\" id=\"centerIcon\">\n",
            "     <h2>\n",
            "      Services and information\n",
            "     </h2>\n",
            "     <div class=\"wb-eqht row wb-init\">\n",
            "      <div class=\"col-lg-4 col-md-6\">\n",
            "       <h3 class=\"h5\">\n",
            "        <a href=\"/events/index-eng.aspx\">\n",
            "         Events\n",
            "        </a>\n",
            "       </h3>\n",
            "       <p>\n",
            "        Participate in upcoming seminars, forums, special events and more.\n",
            "       </p>\n",
            "      </div>\n",
            "      <div class=\"col-lg-4 col-md-6\">\n",
            "       <h3 class=\"h5\">\n",
            "        <a href=\"/Catalogue/index-eng.aspx\">\n",
            "         Courses\n",
            "        </a>\n",
            "       </h3>\n",
            "       <p>\n",
            "        Explore classroom, online and virtual activities that respond to your learning needs.\n",
            "       </p>\n",
            "      </div>\n",
            "      <div class=\"col-lg-4 col-md-6\">\n",
            "       <h3 class=\"h5\">\n",
            "        <a href=\"/Catalogue/programs-eng.aspx\">\n",
            "         Programs and series\n",
            "        </a>\n",
            "       </h3>\n",
            "       <p>\n",
            "        Discover program suites and series that offer a more advanced learning curriculum.\n",
            "       </p>\n",
            "      </div>\n",
            "      <div class=\"col-lg-4 col-md-6\">\n",
            "       <h3 class=\"h5\">\n",
            "        <a href=\"/GCcampus/index-eng.aspx\">\n",
            "         GCcampus\n",
            "        </a>\n",
            "       </h3>\n",
            "       <p>\n",
            "        Log in or create an account to access the School's online learning platform.\n",
            "       </p>\n",
            "      </div>\n",
            "      <div class=\"col-lg-4 col-md-6\">\n",
            "       <h3 class=\"h5\">\n",
            "        <a href=\"/Tools/index-eng.aspx\">\n",
            "         Learning tools\n",
            "        </a>\n",
            "       </h3>\n",
            "       <p>\n",
            "        Access job aids, publications, language tools and case studies to support your learning.\n",
            "       </p>\n",
            "      </div>\n",
            "      <div class=\"col-lg-4 col-md-6\">\n",
            "       <h3 class=\"h5\">\n",
            "        <a href=\"/Multimedia/index-eng.aspx\">\n",
            "         Multimedia\n",
            "        </a>\n",
            "       </h3>\n",
            "       <p>\n",
            "        Engage with videos, webcasts and podcasts that support learning in the workplace.\n",
            "       </p>\n",
            "      </div>\n",
            "      <div class=\"col-lg-4 col-md-6\">\n",
            "       <h3 class=\"h5\">\n",
            "        <a href=\"/stayconnected/index-eng.aspx\">\n",
            "         Stay connected\n",
            "        </a>\n",
            "       </h3>\n",
            "       <p>\n",
            "        Follow us on social media or subscribe to the CSPS  e-newsletter.\n",
            "       </p>\n",
            "      </div>\n",
            "      <div class=\"col-lg-4 col-md-6\">\n",
            "       <h3 class=\"h5\">\n",
            "        <a href=\"/Contact_Us/index-eng.aspx\">\n",
            "         Contact the School\n",
            "        </a>\n",
            "       </h3>\n",
            "       <p>\n",
            "        Get support from our Client Contact Centre, find a campus or connect with the School in other ways.\n",
            "       </p>\n",
            "      </div>\n",
            "     </div>\n",
            "    </section>\n",
            "    <section class=\"gc-crprt\">\n",
            "     <h2>\n",
            "      Corporate information\n",
            "     </h2>\n",
            "     <div class=\"row\">\n",
            "      <div class=\"col-md-4\">\n",
            "       <ul class=\"list-unstyled lst-spcd\">\n",
            "        <li>\n",
            "         <a href=\"/About_Us/mandate-eng.aspx\">\n",
            "          Mandate\n",
            "         </a>\n",
            "        </li>\n",
            "        <li>\n",
            "         <a href=\"/About_Us/organizationalstructure-eng.aspx\">\n",
            "          Organizational structure\n",
            "         </a>\n",
            "        </li>\n",
            "        <li>\n",
            "         <a href=\"/About_Us/Business_lines/index-eng.aspx\">\n",
            "          Business lines\n",
            "         </a>\n",
            "        </li>\n",
            "        <li>\n",
            "         <a href=\"/faculty/index-eng.aspx\">\n",
            "          Faculty\n",
            "         </a>\n",
            "        </li>\n",
            "        <li>\n",
            "         <a href=\"/About_Us/currentreport/index-eng.aspx\">\n",
            "          Plans and reports\n",
            "         </a>\n",
            "        </li>\n",
            "        <li>\n",
            "         <a href=\"/transparency/index-eng.aspx\">\n",
            "          Transparency\n",
            "         </a>\n",
            "        </li>\n",
            "        <li>\n",
            "         <a href=\"/About_Us/service-eng.aspx\">\n",
            "          Service standards\n",
            "         </a>\n",
            "        </li>\n",
            "        <li>\n",
            "         <a href=\"https://www.canada.ca/en/news/advanced-news-search/news-results.html?_=1551473836435&amp;dprtmnt=schoolpublicservice&amp;start=&amp;end=\">\n",
            "          Latest news\n",
            "         </a>\n",
            "        </li>\n",
            "       </ul>\n",
            "      </div>\n",
            "      <div class=\"col-md-8\">\n",
            "       <div class=\"row\">\n",
            "        <div class=\"col-md-4\">\n",
            "         <section>\n",
            "          <h3>\n",
            "           Minister\n",
            "          </h3>\n",
            "          <a href=\"https://www.canada.ca/en/government/ministers/joyce-murray.html\">\n",
            "           <figure>\n",
            "            <img alt=\"The Honourable Joyce Murray\" class=\"img-responsive thumbnail mrgn-bttm-sm\" src=\"/images-wr/joyce-murray.jpg\"/>\n",
            "            <figcaption>\n",
            "             The Honourable Joyce Murray\n",
            "            </figcaption>\n",
            "           </figure>\n",
            "          </a>\n",
            "          <p>\n",
            "           President of the Treasury Board and Minister of Digital Government\n",
            "          </p>\n",
            "         </section>\n",
            "        </div>\n",
            "       </div>\n",
            "      </div>\n",
            "     </div>\n",
            "    </section>\n",
            "    <section>\n",
            "     <hr class=\"mrgn-tp-xl\"/>\n",
            "     <h2 class=\"mrgn-tp-md mrgn-bttm-lg\">\n",
            "      Features\n",
            "     </h2>\n",
            "     <div class=\"alert alert-info\">\n",
            "      <p>\n",
            "       We have just relaunched our website with a new look, new navigation and easier-to-find content.\n",
            "       <a href=\"mailto:csps.web.efpc@canada.ca\">\n",
            "        Let us know what you think of it\n",
            "       </a>\n",
            "       .\n",
            "       <span class=\"glyphicon glyphicon-thumbs-up mrgn-lft-sm\">\n",
            "       </span>\n",
            "       <span class=\"glyphicon glyphicon-thumbs-down mrgn-lft-sm\">\n",
            "       </span>\n",
            "      </p>\n",
            "     </div>\n",
            "     <div class=\"row mrgn-bttm-lg\" id=\"highlights\">\n",
            "      <!-- **************************************************** IMAGE 01 **************************************************** -->\n",
            "      <div class=\"col-lg-4 col-md-6\">\n",
            "       <a href=\"/gbap-acsp-eng.aspx\">\n",
            "        <img alt=\"\" class=\"img-responsive thumbnail mrgn-bttm-sm\" src=\"/images/highlight/gba.png\"/>\n",
            "       </a>\n",
            "       <h3 class=\"h5\">\n",
            "        <a href=\"/gbap-acsp-eng.aspx\">\n",
            "         Gender-based Analysis Plus\n",
            "        </a>\n",
            "       </h3>\n",
            "       <p>\n",
            "        Understand the importance of supporting diversity and inclusion in the workplace.\n",
            "       </p>\n",
            "      </div>\n",
            "      <!-- **************************************************** IMAGE 02 **************************************************** -->\n",
            "      <div class=\"col-lg-4 col-md-6\">\n",
            "       <a href=\"/ils-eng.aspx\">\n",
            "        <img alt=\"\" class=\"img-responsive thumbnail mrgn-bttm-sm\" src=\"/images/highlight/ind-aut.png\"/>\n",
            "       </a>\n",
            "       <h3 class=\"h5\">\n",
            "        <a href=\"/ils-eng.aspx\">\n",
            "         Indigenous Learning Series\n",
            "        </a>\n",
            "       </h3>\n",
            "       <p>\n",
            "        Gain insight on Canada's shared history with First Nations, Métis and Inuit Peoples.\n",
            "       </p>\n",
            "      </div>\n",
            "      <!-- **************************************************** IMAGE 03 **************************************************** -->\n",
            "      <div class=\"col-lg-4 col-md-6\">\n",
            "       <a href=\"/lt/index-eng.aspx\">\n",
            "        <img alt=\"\" class=\"img-responsive thumbnail mrgn-bttm-sm\" src=\"/images/highlight/lang-ling.png\"/>\n",
            "       </a>\n",
            "       <h3 class=\"h5\">\n",
            "        <a href=\"/lt/index-eng.aspx\">\n",
            "         Language maintenance tools\n",
            "        </a>\n",
            "       </h3>\n",
            "       <p>\n",
            "        Improve your English or French language skills.\n",
            "       </p>\n",
            "      </div>\n",
            "     </div>\n",
            "     <div class=\"pagedetails\" id=\"ctl11_bottom\">\n",
            "     </div>\n",
            "     <div class=\"row\">\n",
            "      <div class=\"col-sm-9\">\n",
            "      </div>\n",
            "      <div class=\"wb-share text-right col-sm-3\" data-wb-share='{\"pnlId\": \"pnl6\", \"lnkClass\": \"btn btn-default btn-block btn-lg\"}'>\n",
            "      </div>\n",
            "     </div>\n",
            "    </section>\n",
            "    <div class=\"pagedetails\">\n",
            "     <!--make the font of the dateModified same as the Canada.ca site's -->\n",
            "     <dl id=\"wb-dtmd\">\n",
            "      <dt>\n",
            "       Date modified:\n",
            "      </dt>\n",
            "      <dd>\n",
            "       <time property=\"dateModified\">\n",
            "        2019-06-12\n",
            "       </time>\n",
            "      </dd>\n",
            "     </dl>\n",
            "    </div>\n",
            "   </main>\n",
            "   <footer id=\"wb-info\">\n",
            "    <div class=\"landscape\">\n",
            "     <nav class=\"container wb-navcurr\">\n",
            "      <h2 class=\"wb-inv\">\n",
            "       About government\n",
            "      </h2>\n",
            "      <ul class=\"list-unstyled colcount-sm-2 colcount-md-3\">\n",
            "       <li>\n",
            "        <a href=\"/Contact_Us/index-eng.aspx\">\n",
            "         Contact us\n",
            "        </a>\n",
            "       </li>\n",
            "       <li>\n",
            "        <a href=\"https://www.canada.ca/en/government/dept.html\">\n",
            "         Departments and agencies\n",
            "        </a>\n",
            "       </li>\n",
            "       <li>\n",
            "        <a href=\"https://www.canada.ca/en/government/publicservice.html\">\n",
            "         Public service and military\n",
            "        </a>\n",
            "       </li>\n",
            "       <li>\n",
            "        <a href=\"https://www.canada.ca/en/news.html\">\n",
            "         News\n",
            "        </a>\n",
            "       </li>\n",
            "       <li>\n",
            "        <a href=\"https://www.canada.ca/en/government/system/laws.html\">\n",
            "         Treaties, laws and regulations\n",
            "        </a>\n",
            "       </li>\n",
            "       <li>\n",
            "        <a href=\"https://www.canada.ca/en/transparency/reporting.html\">\n",
            "         Government-wide reporting\n",
            "        </a>\n",
            "       </li>\n",
            "       <li>\n",
            "        <a href=\"https://pm.gc.ca/eng\">\n",
            "         Prime Minister\n",
            "        </a>\n",
            "       </li>\n",
            "       <li>\n",
            "        <a href=\"https://www.canada.ca/en/government/system.html\">\n",
            "         About government\n",
            "        </a>\n",
            "       </li>\n",
            "       <li>\n",
            "        <a href=\"https://open.canada.ca/en\">\n",
            "         Open government\n",
            "        </a>\n",
            "       </li>\n",
            "      </ul>\n",
            "     </nav>\n",
            "    </div>\n",
            "    <div class=\"brand\">\n",
            "     <div class=\"container\">\n",
            "      <div class=\"row\">\n",
            "       <nav class=\"col-md-9 col-lg-10 ftr-urlt-lnk\">\n",
            "        <h2 class=\"wb-inv\">\n",
            "         About this site\n",
            "        </h2>\n",
            "        <ul>\n",
            "         <li>\n",
            "          <a href=\"https://www.canada.ca/en/social.html\">\n",
            "           Social media\n",
            "          </a>\n",
            "         </li>\n",
            "         <li>\n",
            "          <a href=\"https://www.canada.ca/en/mobile.html\">\n",
            "           Mobile applications\n",
            "          </a>\n",
            "         </li>\n",
            "         <li>\n",
            "          <a href=\"https://www.canada.ca/en/government/about.html\">\n",
            "           About Canada.ca\n",
            "          </a>\n",
            "         </li>\n",
            "         <li>\n",
            "          <a href=\"/termsandconditions/index-eng.aspx\">\n",
            "           Terms and conditions\n",
            "          </a>\n",
            "         </li>\n",
            "         <li>\n",
            "          <a href=\"/termsandconditions/index-eng.aspx#pn\">\n",
            "           Privacy\n",
            "          </a>\n",
            "         </li>\n",
            "        </ul>\n",
            "       </nav>\n",
            "       <div class=\"col-xs-6 visible-sm visible-xs tofpg\">\n",
            "        <a href=\"#wb-cont\">\n",
            "         Top of Page\n",
            "         <span class=\"glyphicon glyphicon-chevron-up\">\n",
            "         </span>\n",
            "        </a>\n",
            "       </div>\n",
            "       <div class=\"col-xs-6 col-md-3 col-lg-2 text-right\">\n",
            "        <img alt=\"Symbol of the Government of Canada\" src=\"/assets/wmms-blk.svg\"/>\n",
            "       </div>\n",
            "      </div>\n",
            "     </div>\n",
            "    </div>\n",
            "   </footer>\n",
            "  </form>\n",
            "  <script src=\"https://ajax.googleapis.com/ajax/libs/jquery/2.2.4/jquery.js\">\n",
            "  </script>\n",
            "  <script src=\"/wet-boew/js/wet-boew.js\">\n",
            "  </script>\n",
            "  <!-- the following js file is important. the one within teh GCWeb folder for this\r\n",
            "        is used in the menu. the order of declaration of these files important due to dependency -->\n",
            "  <script src=\"/GCWeb/js/theme.min.js\">\n",
            "  </script>\n",
            " </body>\n",
            "</html>\n",
            "\n"
          ],
          "name": "stdout"
        }
      ]
    },
    {
      "cell_type": "code",
      "metadata": {
        "id": "d9TnuCdvKWQJ",
        "colab_type": "code",
        "outputId": "2cc699e7-06c6-4196-98be-2024c96396b9",
        "colab": {
          "base_uri": "https://localhost:8080/",
          "height": 68
        }
      },
      "source": [
        "soup.title"
      ],
      "execution_count": 0,
      "outputs": [
        {
          "output_type": "execute_result",
          "data": {
            "text/plain": [
              "<title>\n",
              "\tCanada School of Public Service - CSPS\n",
              "</title>"
            ]
          },
          "metadata": {
            "tags": []
          },
          "execution_count": 15
        }
      ]
    },
    {
      "cell_type": "code",
      "metadata": {
        "id": "YYcNSyZAKh3u",
        "colab_type": "code",
        "colab": {}
      },
      "source": [
        "soup.metadata"
      ],
      "execution_count": 0,
      "outputs": []
    },
    {
      "cell_type": "code",
      "metadata": {
        "id": "t4cRbl_dKjUW",
        "colab_type": "code",
        "colab": {}
      },
      "source": [
        "soup.H1"
      ],
      "execution_count": 0,
      "outputs": []
    },
    {
      "cell_type": "code",
      "metadata": {
        "id": "CMzs6ZRmKkzu",
        "colab_type": "code",
        "outputId": "3994820b-2e53-44fa-e04d-ba514c3f6684",
        "colab": {
          "base_uri": "https://localhost:8080/",
          "height": 1000
        }
      },
      "source": [
        "for link in soup.find_all('a'):\n",
        "    print(link.get('href'))"
      ],
      "execution_count": 0,
      "outputs": [
        {
          "output_type": "stream",
          "text": [
            "https://www.csps-efpc.gc.ca/index-fra.aspx\n",
            "https://www.canada.ca/en.html\n",
            "https://www.canada.ca/en/services/jobs.html\n",
            "https://www.canada.ca/en/services/immigration-citizenship.html\n",
            "https://travel.gc.ca/\n",
            "https://www.canada.ca/en/services/business.html\n",
            "https://www.canada.ca/en/services/benefits.html\n",
            "https://www.canada.ca/en/services/health.html\n",
            "https://www.canada.ca/en/services/taxes.html\n",
            "https://www.canada.ca/en/services/environment.html\n",
            "https://www.canada.ca/en/services/defence.html\n",
            "https://www.canada.ca/en/services/culture.html\n",
            "https://www.canada.ca/en/services/policing.html\n",
            "https://www.canada.ca/en/services/transport.html\n",
            "http://international.gc.ca/world-monde/index.aspx?lang=eng\n",
            "https://www.canada.ca/en/services/finance.html\n",
            "https://www.canada.ca/en/services/finance.html\n",
            "http://www.canada.ca/en.html\n",
            "#wb-cont\n",
            "#wb-info\n",
            "#panel1\n",
            "/About_Us/Business_lines/index-eng.aspx\n",
            "https://twitter.com/School_GC\n",
            "https://www.youtube.com/user/MySchoolMonEcole\n",
            "https://www.linkedin.com/company/canada-school-of-public-service?trk=fc_badge\n",
            "/events/index-eng.aspx\n",
            "/Catalogue/index-eng.aspx\n",
            "/Catalogue/programs-eng.aspx\n",
            "/GCcampus/index-eng.aspx\n",
            "/Tools/index-eng.aspx\n",
            "/Multimedia/index-eng.aspx\n",
            "/stayconnected/index-eng.aspx\n",
            "/Contact_Us/index-eng.aspx\n",
            "/About_Us/mandate-eng.aspx\n",
            "/About_Us/organizationalstructure-eng.aspx\n",
            "/About_Us/Business_lines/index-eng.aspx\n",
            "/faculty/index-eng.aspx\n",
            "/About_Us/currentreport/index-eng.aspx\n",
            "/transparency/index-eng.aspx\n",
            "/About_Us/service-eng.aspx\n",
            "https://www.canada.ca/en/news/advanced-news-search/news-results.html?_=1551473836435&dprtmnt=schoolpublicservice&start=&end=\n",
            "https://www.canada.ca/en/government/ministers/joyce-murray.html\n",
            "mailto:csps.web.efpc@canada.ca\n",
            "/gbap-acsp-eng.aspx\n",
            "/gbap-acsp-eng.aspx\n",
            "/ils-eng.aspx\n",
            "/ils-eng.aspx\n",
            "/lt/index-eng.aspx\n",
            "/lt/index-eng.aspx\n",
            "/Contact_Us/index-eng.aspx\n",
            "https://www.canada.ca/en/government/dept.html\n",
            "https://www.canada.ca/en/government/publicservice.html\n",
            "https://www.canada.ca/en/news.html\n",
            "https://www.canada.ca/en/government/system/laws.html\n",
            "https://www.canada.ca/en/transparency/reporting.html\n",
            "https://pm.gc.ca/eng\n",
            "https://www.canada.ca/en/government/system.html\n",
            "https://open.canada.ca/en\n",
            "https://www.canada.ca/en/social.html\n",
            "https://www.canada.ca/en/mobile.html\n",
            "https://www.canada.ca/en/government/about.html\n",
            "/termsandconditions/index-eng.aspx\n",
            "/termsandconditions/index-eng.aspx#pn\n",
            "#wb-cont\n"
          ],
          "name": "stdout"
        }
      ]
    },
    {
      "cell_type": "code",
      "metadata": {
        "id": "Gi9c4y7oKrSe",
        "colab_type": "code",
        "outputId": "fa2f042c-5269-41dd-c9b2-f4d0c5f5bfc6",
        "colab": {
          "resources": {
            "http://localhost:8080/nbextensions/google.colab/files.js": {
              "data": "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",
              "ok": true,
              "headers": [
                [
                  "content-type",
                  "application/javascript"
                ]
              ],
              "status": 200,
              "status_text": ""
            }
          },
          "base_uri": "https://localhost:8080/",
          "height": 74
        }
      },
      "source": [
        "import pandas as pd\n",
        "from google.colab import files\n",
        "uploaded = files.upload()"
      ],
      "execution_count": 0,
      "outputs": [
        {
          "output_type": "display_data",
          "data": {
            "text/html": [
              "\n",
              "     <input type=\"file\" id=\"files-448fede7-fd80-465e-8cda-695fbdeef96f\" name=\"files[]\" multiple disabled />\n",
              "     <output id=\"result-448fede7-fd80-465e-8cda-695fbdeef96f\">\n",
              "      Upload widget is only available when the cell has been executed in the\n",
              "      current browser session. Please rerun this cell to enable.\n",
              "      </output>\n",
              "      <script src=\"/nbextensions/google.colab/files.js\"></script> "
            ],
            "text/plain": [
              "<IPython.core.display.HTML object>"
            ]
          },
          "metadata": {
            "tags": []
          }
        },
        {
          "output_type": "stream",
          "text": [
            "Saving LREM64TTCAM156S.csv to LREM64TTCAM156S.csv\n"
          ],
          "name": "stdout"
        }
      ]
    },
    {
      "cell_type": "code",
      "metadata": {
        "id": "LQwOPQ-cNdS0",
        "colab_type": "code",
        "colab": {}
      },
      "source": [
        "df = pd.read_csv(\"LREM64TTCAM156S.csv\")"
      ],
      "execution_count": 0,
      "outputs": []
    },
    {
      "cell_type": "code",
      "metadata": {
        "id": "QcQdvzdWNjEb",
        "colab_type": "code",
        "outputId": "23837308-517a-4c97-cced-354c5ddb0ef0",
        "colab": {
          "base_uri": "https://localhost:8080/",
          "height": 204
        }
      },
      "source": [
        "df.head()"
      ],
      "execution_count": 0,
      "outputs": [
        {
          "output_type": "execute_result",
          "data": {
            "text/html": [
              "<div>\n",
              "<style scoped>\n",
              "    .dataframe tbody tr th:only-of-type {\n",
              "        vertical-align: middle;\n",
              "    }\n",
              "\n",
              "    .dataframe tbody tr th {\n",
              "        vertical-align: top;\n",
              "    }\n",
              "\n",
              "    .dataframe thead th {\n",
              "        text-align: right;\n",
              "    }\n",
              "</style>\n",
              "<table border=\"1\" class=\"dataframe\">\n",
              "  <thead>\n",
              "    <tr style=\"text-align: right;\">\n",
              "      <th></th>\n",
              "      <th>DATE</th>\n",
              "      <th>LREM64TTCAM156S</th>\n",
              "    </tr>\n",
              "  </thead>\n",
              "  <tbody>\n",
              "    <tr>\n",
              "      <th>0</th>\n",
              "      <td>1995-01-01</td>\n",
              "      <td>67.7</td>\n",
              "    </tr>\n",
              "    <tr>\n",
              "      <th>1</th>\n",
              "      <td>1995-02-01</td>\n",
              "      <td>67.6</td>\n",
              "    </tr>\n",
              "    <tr>\n",
              "      <th>2</th>\n",
              "      <td>1995-03-01</td>\n",
              "      <td>67.7</td>\n",
              "    </tr>\n",
              "    <tr>\n",
              "      <th>3</th>\n",
              "      <td>1995-04-01</td>\n",
              "      <td>67.6</td>\n",
              "    </tr>\n",
              "    <tr>\n",
              "      <th>4</th>\n",
              "      <td>1995-05-01</td>\n",
              "      <td>67.4</td>\n",
              "    </tr>\n",
              "  </tbody>\n",
              "</table>\n",
              "</div>"
            ],
            "text/plain": [
              "         DATE  LREM64TTCAM156S\n",
              "0  1995-01-01             67.7\n",
              "1  1995-02-01             67.6\n",
              "2  1995-03-01             67.7\n",
              "3  1995-04-01             67.6\n",
              "4  1995-05-01             67.4"
            ]
          },
          "metadata": {
            "tags": []
          },
          "execution_count": 23
        }
      ]
    },
    {
      "cell_type": "code",
      "metadata": {
        "id": "SjILvwPpNvCE",
        "colab_type": "code",
        "outputId": "b90f47c4-e984-4341-c726-e64ad49391a7",
        "colab": {
          "base_uri": "https://localhost:8080/",
          "height": 286
        }
      },
      "source": [
        "df.plot()"
      ],
      "execution_count": 0,
      "outputs": [
        {
          "output_type": "execute_result",
          "data": {
            "text/plain": [
              "<matplotlib.axes._subplots.AxesSubplot at 0x7fb18f6c8320>"
            ]
          },
          "metadata": {
            "tags": []
          },
          "execution_count": 25
        },
        {
          "output_type": "display_data",
          "data": {
            "image/png": "[encoded data removed]",
            "text/plain": [
              "<Figure size 432x288 with 1 Axes>"
            ]
          },
          "metadata": {
            "tags": []
          }
        }
      ]
    },
    {
      "cell_type": "code",
      "metadata": {
        "id": "vucZgwhmNylQ",
        "colab_type": "code",
        "colab": {}
      },
      "source": [
        ""
      ],
      "execution_count": 0,
      "outputs": []
    }
  ]
}