{
 "cells": [
  {
   "cell_type": "markdown",
   "metadata": {},
   "source": [
    "## Book 0 - Getting Started"
   ]
  },
  {
   "cell_type": "markdown",
   "metadata": {},
   "source": [
    "The first thing we need to do is get you set up for the session. Do do this, you're going to be using a few new tools: Jupyter Notebooks and Google Collaboratory.\n",
    "\n",
    "You'll need the following to get things working properly:\n",
    "* An internet capable laptop or computer (tablets might work, but things can get wonky)\n",
    "* A Google account (you'll need to sign in to access Collaboratory)\n",
    "* A modern Web browser (Firefox, Chrome or Safari will do)\n",
    "\n",
    "Ready? Let's get going!"
   ]
  },
  {
   "cell_type": "markdown",
   "metadata": {},
   "source": [
    "### Steps\n",
    "1. Copy the link to this Notebook: https://github.com/ToferC/digital-for-executives/blob/master/1_demystifying_code.ipynb\n",
    "2. Open Colab: [Click on this link to open a new Colab window.](https://colab.research.google.com/notebooks/welcome.ipynb#recent=true)\n",
    "3. Click the GitHub tab \n",
    "![GitHub help image](https://github.com/ToferC/digital-for-executives/raw/master/github.png)\n",
    "\n",
    "\n",
    "4. Enter \"*ToferC*\" under the GitHub URL and hit \"Enter\".\n",
    "5. Select \"*ToferC/digital_for_executives*\" under Repositories\n",
    "![Repo & Notebook Image](https://github.com/ToferC/digital-for-executives/raw/master/ToferC_Github.png)\n",
    "\n",
    "\n",
    "6. Click on \"*1_demystifying_code*\" from under Path.\n",
    "7. Click \"Connect\" from the top right of the screen. Log into your Google account if necessary.\n",
    "8. You're good to go! Start working through Book 1!"
   ]
  }
 ],
 "metadata": {
  "kernelspec": {
   "display_name": "Python 3",
   "language": "python",
   "name": "python3"
  },
  "language_info": {
   "codemirror_mode": {
    "name": "ipython",
    "version": 3
   },
   "file_extension": ".py",
   "mimetype": "text/x-python",
   "name": "python",
   "nbconvert_exporter": "python",
   "pygments_lexer": "ipython3",
   "version": "3.7.3"
  }
 },
 "nbformat": 4,
 "nbformat_minor": 2
}
